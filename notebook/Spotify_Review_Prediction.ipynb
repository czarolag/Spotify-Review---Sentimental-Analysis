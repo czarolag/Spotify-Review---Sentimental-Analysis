{
  "nbformat": 4,
  "nbformat_minor": 0,
  "metadata": {
    "colab": {
      "provenance": [],
      "gpuType": "T4",
      "authorship_tag": "ABX9TyOSepHazCvypxlr5KtEi9WL",
      "include_colab_link": true
    },
    "kernelspec": {
      "name": "python3",
      "display_name": "Python 3"
    },
    "language_info": {
      "name": "python"
    },
    "accelerator": "GPU"
  },
  "cells": [
    {
      "cell_type": "markdown",
      "metadata": {
        "id": "view-in-github",
        "colab_type": "text"
      },
      "source": [
        "<a href=\"https://colab.research.google.com/github/czarolag/Spotify-Review---Sentimental-Analysis/blob/main/notebook/Spotify_Review_Prediction.ipynb\" target=\"_parent\"><img src=\"https://colab.research.google.com/assets/colab-badge.svg\" alt=\"Open In Colab\"/></a>"
      ]
    },
    {
      "cell_type": "markdown",
      "source": [
        "# Introduction\n",
        "\n",
        "## Our dataset\n",
        "This colab explores a dataset filled with reviews on the popular music app Spotify. These reviews are either positive and negative. You can find more about the dataset from Kaggle [here](https://www.kaggle.com/datasets/alexandrakim2201/spotify-dataset).\n",
        "\n",
        "&nbsp;\n",
        "## Our task\n",
        "The objective of our task is to create an model to predict whether a review is positive or negative based on the contents contained within the review. To complete this task we decided to implement a neural network. This model will be trained to have an acceptable accuracy rate to predict the proper type of review whether it describes the app in a positive manner or negative manner.\n",
        "\n",
        "&nbsp;\n",
        "\n",
        "Change runtime type to GPU if you want to run cells. Training times will take too long if running on CPU. To change run type, press the small arrow near `Connect` on the top right and press `Change runtime type` to `T4 GPU`. Also note you must run cells in order or errors may occur."
      ],
      "metadata": {
        "id": "TwyDZisGLxye"
      }
    },
    {
      "cell_type": "markdown",
      "source": [
        "---"
      ],
      "metadata": {
        "id": "krddsAEOMw4d"
      }
    },
    {
      "cell_type": "code",
      "source": [
        "# @title ## Getting our necessary imports (run this cell) { display-mode: \"form\" }\n",
        "import numpy as np\n",
        "from matplotlib import pyplot as plt\n",
        "import pandas as pd\n",
        "\n",
        "import seaborn as sns # for nicer plots\n",
        "sns.set(style='darkgrid') # default style\n",
        "import plotly.graph_objs as plotly  # for interactive plots\n",
        "\n",
        "import string\n",
        "import re\n",
        "\n",
        "import tensorflow as tf\n",
        "from google.colab import userdata\n",
        "import os"
      ],
      "metadata": {
        "id": "E4oi3fQnLPe5"
      },
      "execution_count": 6,
      "outputs": []
    },
    {
      "cell_type": "markdown",
      "source": [
        "## Dowloading our Dataset\n",
        "\n",
        "### Kaggle API\n",
        "Using the Kaggle API, we will download our dataset from Kaggle directly. This method requires a simple setup using the Google Colab 'Secrets' feature and obtaining a token from Kaggle.\n",
        "\n",
        "\n",
        "Help on this setup was obtained from a discussion board on [Kaggle](https://www.kaggle.com/discussions/general/74235#2580958)\n",
        "\n",
        "&nbsp;\n",
        "\n",
        "If help is required on this setup, follow the kaggle link.\n"
      ],
      "metadata": {
        "id": "DrDFy5KjLebI"
      }
    },
    {
      "cell_type": "code",
      "source": [
        "# Environmental variables must be set up for this method to work\n",
        "os.environ[\"KAGGLE_KEY\"] = userdata.get('KAGGLE_KEY')\n",
        "os.environ[\"KAGGLE_USERNAME\"] = userdata.get('KAGGLE_USERNAME')\n",
        "\n",
        "!kaggle datasets download -d alexandrakim2201/spotify-dataset\n",
        "!unzip -q 'spotify-dataset'"
      ],
      "metadata": {
        "colab": {
          "base_uri": "https://localhost:8080/"
        },
        "id": "GcsAPfoRLoJT",
        "outputId": "a87c22fb-bbd4-4876-8e6e-f8e558f68520"
      },
      "execution_count": 2,
      "outputs": [
        {
          "output_type": "stream",
          "name": "stdout",
          "text": [
            "Dataset URL: https://www.kaggle.com/datasets/alexandrakim2201/spotify-dataset\n",
            "License(s): Attribution-NonCommercial 4.0 International (CC BY-NC 4.0)\n",
            "Downloading spotify-dataset.zip to /content\n",
            "  0% 0.00/2.90M [00:00<?, ?B/s]\n",
            "100% 2.90M/2.90M [00:00<00:00, 1.13GB/s]\n"
          ]
        }
      ]
    },
    {
      "cell_type": "markdown",
      "source": [
        "---"
      ],
      "metadata": {
        "id": "nbn-cWnKMyVs"
      }
    },
    {
      "cell_type": "markdown",
      "source": [
        "---\n",
        "# Cleaning up and formatting our Dataset\n",
        "\n",
        "We must gather all our reviews into a dataset and format it to preprocess our data. To begin, we will create a DataFrame that will keep track of the the reviews."
      ],
      "metadata": {
        "id": "k4tJMIWlmZg-"
      }
    },
    {
      "cell_type": "code",
      "source": [
        "content_file = '/content/DATASET.csv'\n",
        "\n",
        "df = pd.read_csv(content_file)\n",
        "df.dropna(inplace=True)\n",
        "\n",
        "display(df)"
      ],
      "metadata": {
        "colab": {
          "base_uri": "https://localhost:8080/",
          "height": 423
        },
        "id": "0So8Es5PmpJO",
        "outputId": "ae04a08d-15fa-4672-a327-c812bc8baf91"
      },
      "execution_count": 3,
      "outputs": [
        {
          "output_type": "display_data",
          "data": {
            "text/plain": [
              "                                                  Review     label\n",
              "0      Great music service, the audio is high quality...  POSITIVE\n",
              "1      Please ignore previous negative rating. This a...  POSITIVE\n",
              "2      This pop-up \"Get the best Spotify experience o...  NEGATIVE\n",
              "3        Really buggy and terrible to use as of recently  NEGATIVE\n",
              "4      Dear Spotify why do I get songs that I didn't ...  NEGATIVE\n",
              "...                                                  ...       ...\n",
              "52697                                       Yes the best  POSITIVE\n",
              "52698  Spotify won my heart in Feb 2024 You won my he...  POSITIVE\n",
              "52699  I tried to open the app and it wont open I res...  POSITIVE\n",
              "52700                                              Good   POSITIVE\n",
              "52701  Nice app to play music and at very affordable ...  POSITIVE\n",
              "\n",
              "[52686 rows x 2 columns]"
            ],
            "text/html": [
              "\n",
              "  <div id=\"df-abb46524-2815-489c-a413-55d1e85d6a2d\" class=\"colab-df-container\">\n",
              "    <div>\n",
              "<style scoped>\n",
              "    .dataframe tbody tr th:only-of-type {\n",
              "        vertical-align: middle;\n",
              "    }\n",
              "\n",
              "    .dataframe tbody tr th {\n",
              "        vertical-align: top;\n",
              "    }\n",
              "\n",
              "    .dataframe thead th {\n",
              "        text-align: right;\n",
              "    }\n",
              "</style>\n",
              "<table border=\"1\" class=\"dataframe\">\n",
              "  <thead>\n",
              "    <tr style=\"text-align: right;\">\n",
              "      <th></th>\n",
              "      <th>Review</th>\n",
              "      <th>label</th>\n",
              "    </tr>\n",
              "  </thead>\n",
              "  <tbody>\n",
              "    <tr>\n",
              "      <th>0</th>\n",
              "      <td>Great music service, the audio is high quality...</td>\n",
              "      <td>POSITIVE</td>\n",
              "    </tr>\n",
              "    <tr>\n",
              "      <th>1</th>\n",
              "      <td>Please ignore previous negative rating. This a...</td>\n",
              "      <td>POSITIVE</td>\n",
              "    </tr>\n",
              "    <tr>\n",
              "      <th>2</th>\n",
              "      <td>This pop-up \"Get the best Spotify experience o...</td>\n",
              "      <td>NEGATIVE</td>\n",
              "    </tr>\n",
              "    <tr>\n",
              "      <th>3</th>\n",
              "      <td>Really buggy and terrible to use as of recently</td>\n",
              "      <td>NEGATIVE</td>\n",
              "    </tr>\n",
              "    <tr>\n",
              "      <th>4</th>\n",
              "      <td>Dear Spotify why do I get songs that I didn't ...</td>\n",
              "      <td>NEGATIVE</td>\n",
              "    </tr>\n",
              "    <tr>\n",
              "      <th>...</th>\n",
              "      <td>...</td>\n",
              "      <td>...</td>\n",
              "    </tr>\n",
              "    <tr>\n",
              "      <th>52697</th>\n",
              "      <td>Yes the best</td>\n",
              "      <td>POSITIVE</td>\n",
              "    </tr>\n",
              "    <tr>\n",
              "      <th>52698</th>\n",
              "      <td>Spotify won my heart in Feb 2024 You won my he...</td>\n",
              "      <td>POSITIVE</td>\n",
              "    </tr>\n",
              "    <tr>\n",
              "      <th>52699</th>\n",
              "      <td>I tried to open the app and it wont open I res...</td>\n",
              "      <td>POSITIVE</td>\n",
              "    </tr>\n",
              "    <tr>\n",
              "      <th>52700</th>\n",
              "      <td>Good</td>\n",
              "      <td>POSITIVE</td>\n",
              "    </tr>\n",
              "    <tr>\n",
              "      <th>52701</th>\n",
              "      <td>Nice app to play music and at very affordable ...</td>\n",
              "      <td>POSITIVE</td>\n",
              "    </tr>\n",
              "  </tbody>\n",
              "</table>\n",
              "<p>52686 rows × 2 columns</p>\n",
              "</div>\n",
              "    <div class=\"colab-df-buttons\">\n",
              "\n",
              "  <div class=\"colab-df-container\">\n",
              "    <button class=\"colab-df-convert\" onclick=\"convertToInteractive('df-abb46524-2815-489c-a413-55d1e85d6a2d')\"\n",
              "            title=\"Convert this dataframe to an interactive table.\"\n",
              "            style=\"display:none;\">\n",
              "\n",
              "  <svg xmlns=\"http://www.w3.org/2000/svg\" height=\"24px\" viewBox=\"0 -960 960 960\">\n",
              "    <path d=\"M120-120v-720h720v720H120Zm60-500h600v-160H180v160Zm220 220h160v-160H400v160Zm0 220h160v-160H400v160ZM180-400h160v-160H180v160Zm440 0h160v-160H620v160ZM180-180h160v-160H180v160Zm440 0h160v-160H620v160Z\"/>\n",
              "  </svg>\n",
              "    </button>\n",
              "\n",
              "  <style>\n",
              "    .colab-df-container {\n",
              "      display:flex;\n",
              "      gap: 12px;\n",
              "    }\n",
              "\n",
              "    .colab-df-convert {\n",
              "      background-color: #E8F0FE;\n",
              "      border: none;\n",
              "      border-radius: 50%;\n",
              "      cursor: pointer;\n",
              "      display: none;\n",
              "      fill: #1967D2;\n",
              "      height: 32px;\n",
              "      padding: 0 0 0 0;\n",
              "      width: 32px;\n",
              "    }\n",
              "\n",
              "    .colab-df-convert:hover {\n",
              "      background-color: #E2EBFA;\n",
              "      box-shadow: 0px 1px 2px rgba(60, 64, 67, 0.3), 0px 1px 3px 1px rgba(60, 64, 67, 0.15);\n",
              "      fill: #174EA6;\n",
              "    }\n",
              "\n",
              "    .colab-df-buttons div {\n",
              "      margin-bottom: 4px;\n",
              "    }\n",
              "\n",
              "    [theme=dark] .colab-df-convert {\n",
              "      background-color: #3B4455;\n",
              "      fill: #D2E3FC;\n",
              "    }\n",
              "\n",
              "    [theme=dark] .colab-df-convert:hover {\n",
              "      background-color: #434B5C;\n",
              "      box-shadow: 0px 1px 3px 1px rgba(0, 0, 0, 0.15);\n",
              "      filter: drop-shadow(0px 1px 2px rgba(0, 0, 0, 0.3));\n",
              "      fill: #FFFFFF;\n",
              "    }\n",
              "  </style>\n",
              "\n",
              "    <script>\n",
              "      const buttonEl =\n",
              "        document.querySelector('#df-abb46524-2815-489c-a413-55d1e85d6a2d button.colab-df-convert');\n",
              "      buttonEl.style.display =\n",
              "        google.colab.kernel.accessAllowed ? 'block' : 'none';\n",
              "\n",
              "      async function convertToInteractive(key) {\n",
              "        const element = document.querySelector('#df-abb46524-2815-489c-a413-55d1e85d6a2d');\n",
              "        const dataTable =\n",
              "          await google.colab.kernel.invokeFunction('convertToInteractive',\n",
              "                                                    [key], {});\n",
              "        if (!dataTable) return;\n",
              "\n",
              "        const docLinkHtml = 'Like what you see? Visit the ' +\n",
              "          '<a target=\"_blank\" href=https://colab.research.google.com/notebooks/data_table.ipynb>data table notebook</a>'\n",
              "          + ' to learn more about interactive tables.';\n",
              "        element.innerHTML = '';\n",
              "        dataTable['output_type'] = 'display_data';\n",
              "        await google.colab.output.renderOutput(dataTable, element);\n",
              "        const docLink = document.createElement('div');\n",
              "        docLink.innerHTML = docLinkHtml;\n",
              "        element.appendChild(docLink);\n",
              "      }\n",
              "    </script>\n",
              "  </div>\n",
              "\n",
              "\n",
              "    <div id=\"df-7777a533-7ee8-4702-89be-5918756ea3eb\">\n",
              "      <button class=\"colab-df-quickchart\" onclick=\"quickchart('df-7777a533-7ee8-4702-89be-5918756ea3eb')\"\n",
              "                title=\"Suggest charts\"\n",
              "                style=\"display:none;\">\n",
              "\n",
              "<svg xmlns=\"http://www.w3.org/2000/svg\" height=\"24px\"viewBox=\"0 0 24 24\"\n",
              "     width=\"24px\">\n",
              "    <g>\n",
              "        <path d=\"M19 3H5c-1.1 0-2 .9-2 2v14c0 1.1.9 2 2 2h14c1.1 0 2-.9 2-2V5c0-1.1-.9-2-2-2zM9 17H7v-7h2v7zm4 0h-2V7h2v10zm4 0h-2v-4h2v4z\"/>\n",
              "    </g>\n",
              "</svg>\n",
              "      </button>\n",
              "\n",
              "<style>\n",
              "  .colab-df-quickchart {\n",
              "      --bg-color: #E8F0FE;\n",
              "      --fill-color: #1967D2;\n",
              "      --hover-bg-color: #E2EBFA;\n",
              "      --hover-fill-color: #174EA6;\n",
              "      --disabled-fill-color: #AAA;\n",
              "      --disabled-bg-color: #DDD;\n",
              "  }\n",
              "\n",
              "  [theme=dark] .colab-df-quickchart {\n",
              "      --bg-color: #3B4455;\n",
              "      --fill-color: #D2E3FC;\n",
              "      --hover-bg-color: #434B5C;\n",
              "      --hover-fill-color: #FFFFFF;\n",
              "      --disabled-bg-color: #3B4455;\n",
              "      --disabled-fill-color: #666;\n",
              "  }\n",
              "\n",
              "  .colab-df-quickchart {\n",
              "    background-color: var(--bg-color);\n",
              "    border: none;\n",
              "    border-radius: 50%;\n",
              "    cursor: pointer;\n",
              "    display: none;\n",
              "    fill: var(--fill-color);\n",
              "    height: 32px;\n",
              "    padding: 0;\n",
              "    width: 32px;\n",
              "  }\n",
              "\n",
              "  .colab-df-quickchart:hover {\n",
              "    background-color: var(--hover-bg-color);\n",
              "    box-shadow: 0 1px 2px rgba(60, 64, 67, 0.3), 0 1px 3px 1px rgba(60, 64, 67, 0.15);\n",
              "    fill: var(--button-hover-fill-color);\n",
              "  }\n",
              "\n",
              "  .colab-df-quickchart-complete:disabled,\n",
              "  .colab-df-quickchart-complete:disabled:hover {\n",
              "    background-color: var(--disabled-bg-color);\n",
              "    fill: var(--disabled-fill-color);\n",
              "    box-shadow: none;\n",
              "  }\n",
              "\n",
              "  .colab-df-spinner {\n",
              "    border: 2px solid var(--fill-color);\n",
              "    border-color: transparent;\n",
              "    border-bottom-color: var(--fill-color);\n",
              "    animation:\n",
              "      spin 1s steps(1) infinite;\n",
              "  }\n",
              "\n",
              "  @keyframes spin {\n",
              "    0% {\n",
              "      border-color: transparent;\n",
              "      border-bottom-color: var(--fill-color);\n",
              "      border-left-color: var(--fill-color);\n",
              "    }\n",
              "    20% {\n",
              "      border-color: transparent;\n",
              "      border-left-color: var(--fill-color);\n",
              "      border-top-color: var(--fill-color);\n",
              "    }\n",
              "    30% {\n",
              "      border-color: transparent;\n",
              "      border-left-color: var(--fill-color);\n",
              "      border-top-color: var(--fill-color);\n",
              "      border-right-color: var(--fill-color);\n",
              "    }\n",
              "    40% {\n",
              "      border-color: transparent;\n",
              "      border-right-color: var(--fill-color);\n",
              "      border-top-color: var(--fill-color);\n",
              "    }\n",
              "    60% {\n",
              "      border-color: transparent;\n",
              "      border-right-color: var(--fill-color);\n",
              "    }\n",
              "    80% {\n",
              "      border-color: transparent;\n",
              "      border-right-color: var(--fill-color);\n",
              "      border-bottom-color: var(--fill-color);\n",
              "    }\n",
              "    90% {\n",
              "      border-color: transparent;\n",
              "      border-bottom-color: var(--fill-color);\n",
              "    }\n",
              "  }\n",
              "</style>\n",
              "\n",
              "      <script>\n",
              "        async function quickchart(key) {\n",
              "          const quickchartButtonEl =\n",
              "            document.querySelector('#' + key + ' button');\n",
              "          quickchartButtonEl.disabled = true;  // To prevent multiple clicks.\n",
              "          quickchartButtonEl.classList.add('colab-df-spinner');\n",
              "          try {\n",
              "            const charts = await google.colab.kernel.invokeFunction(\n",
              "                'suggestCharts', [key], {});\n",
              "          } catch (error) {\n",
              "            console.error('Error during call to suggestCharts:', error);\n",
              "          }\n",
              "          quickchartButtonEl.classList.remove('colab-df-spinner');\n",
              "          quickchartButtonEl.classList.add('colab-df-quickchart-complete');\n",
              "        }\n",
              "        (() => {\n",
              "          let quickchartButtonEl =\n",
              "            document.querySelector('#df-7777a533-7ee8-4702-89be-5918756ea3eb button');\n",
              "          quickchartButtonEl.style.display =\n",
              "            google.colab.kernel.accessAllowed ? 'block' : 'none';\n",
              "        })();\n",
              "      </script>\n",
              "    </div>\n",
              "\n",
              "  <div id=\"id_846f2dd5-b7a1-4194-ab0e-23516226dba4\">\n",
              "    <style>\n",
              "      .colab-df-generate {\n",
              "        background-color: #E8F0FE;\n",
              "        border: none;\n",
              "        border-radius: 50%;\n",
              "        cursor: pointer;\n",
              "        display: none;\n",
              "        fill: #1967D2;\n",
              "        height: 32px;\n",
              "        padding: 0 0 0 0;\n",
              "        width: 32px;\n",
              "      }\n",
              "\n",
              "      .colab-df-generate:hover {\n",
              "        background-color: #E2EBFA;\n",
              "        box-shadow: 0px 1px 2px rgba(60, 64, 67, 0.3), 0px 1px 3px 1px rgba(60, 64, 67, 0.15);\n",
              "        fill: #174EA6;\n",
              "      }\n",
              "\n",
              "      [theme=dark] .colab-df-generate {\n",
              "        background-color: #3B4455;\n",
              "        fill: #D2E3FC;\n",
              "      }\n",
              "\n",
              "      [theme=dark] .colab-df-generate:hover {\n",
              "        background-color: #434B5C;\n",
              "        box-shadow: 0px 1px 3px 1px rgba(0, 0, 0, 0.15);\n",
              "        filter: drop-shadow(0px 1px 2px rgba(0, 0, 0, 0.3));\n",
              "        fill: #FFFFFF;\n",
              "      }\n",
              "    </style>\n",
              "    <button class=\"colab-df-generate\" onclick=\"generateWithVariable('df')\"\n",
              "            title=\"Generate code using this dataframe.\"\n",
              "            style=\"display:none;\">\n",
              "\n",
              "  <svg xmlns=\"http://www.w3.org/2000/svg\" height=\"24px\"viewBox=\"0 0 24 24\"\n",
              "       width=\"24px\">\n",
              "    <path d=\"M7,19H8.4L18.45,9,17,7.55,7,17.6ZM5,21V16.75L18.45,3.32a2,2,0,0,1,2.83,0l1.4,1.43a1.91,1.91,0,0,1,.58,1.4,1.91,1.91,0,0,1-.58,1.4L9.25,21ZM18.45,9,17,7.55Zm-12,3A5.31,5.31,0,0,0,4.9,8.1,5.31,5.31,0,0,0,1,6.5,5.31,5.31,0,0,0,4.9,4.9,5.31,5.31,0,0,0,6.5,1,5.31,5.31,0,0,0,8.1,4.9,5.31,5.31,0,0,0,12,6.5,5.46,5.46,0,0,0,6.5,12Z\"/>\n",
              "  </svg>\n",
              "    </button>\n",
              "    <script>\n",
              "      (() => {\n",
              "      const buttonEl =\n",
              "        document.querySelector('#id_846f2dd5-b7a1-4194-ab0e-23516226dba4 button.colab-df-generate');\n",
              "      buttonEl.style.display =\n",
              "        google.colab.kernel.accessAllowed ? 'block' : 'none';\n",
              "\n",
              "      buttonEl.onclick = () => {\n",
              "        google.colab.notebook.generateWithVariable('df');\n",
              "      }\n",
              "      })();\n",
              "    </script>\n",
              "  </div>\n",
              "\n",
              "    </div>\n",
              "  </div>\n"
            ],
            "application/vnd.google.colaboratory.intrinsic+json": {
              "type": "dataframe",
              "variable_name": "df",
              "summary": "{\n  \"name\": \"df\",\n  \"rows\": 52686,\n  \"fields\": [\n    {\n      \"column\": \"Review\",\n      \"properties\": {\n        \"dtype\": \"string\",\n        \"num_unique_values\": 51472,\n        \"samples\": [\n          \"What's the point of being able to download music if it's just going to delete my downloaded music the day after and force me to go back online after if I want to listen to my downloaded music? Stick to Apple Music or Tidal. Spotify doesn't care for it's users.\",\n          \"Media buttons disappear after a while, so you lose control of the app. Please fix this bug as soon as possible, as it leaves the app unusable.\",\n          \"The app loses a part of its interface, in which the app needs to be force closed for it to return. Frustrating to do that a dozen times every day.\"\n        ],\n        \"semantic_type\": \"\",\n        \"description\": \"\"\n      }\n    },\n    {\n      \"column\": \"label\",\n      \"properties\": {\n        \"dtype\": \"category\",\n        \"num_unique_values\": 2,\n        \"samples\": [\n          \"NEGATIVE\",\n          \"POSITIVE\"\n        ],\n        \"semantic_type\": \"\",\n        \"description\": \"\"\n      }\n    }\n  ]\n}"
            }
          },
          "metadata": {}
        }
      ]
    },
    {
      "cell_type": "code",
      "source": [
        "def label_to_num(s):\n",
        "  if s.lower() == 'negative':\n",
        "    return 0\n",
        "  else:\n",
        "    return 1"
      ],
      "metadata": {
        "id": "9uRCDztjp-KW"
      },
      "execution_count": 4,
      "outputs": []
    },
    {
      "cell_type": "code",
      "source": [
        "# Cleaning the text\n",
        "def clean_text(text):\n",
        "    '''Make text lowercase, remove text in square brackets,\n",
        "    remove links, remove punctuation\n",
        "    and remove words containing numbers.'''\n",
        "    text = str(text).lower()\n",
        "    text = re.sub(r'\\[.*?\\]', '', text)\n",
        "    text = re.sub(r'https?://\\S+|www\\.\\S+', '', text)\n",
        "    text = re.sub(r'<.*?>+', '', text)\n",
        "    text = re.sub(r'[%s]' % re.escape(string.punctuation), '', text)\n",
        "    text = re.sub(r'\\n', '', text)\n",
        "    text = re.sub(r'\\w*\\d\\w*', '', text)\n",
        "    return text"
      ],
      "metadata": {
        "id": "O3dVsjWhEYTZ"
      },
      "execution_count": 7,
      "outputs": []
    },
    {
      "cell_type": "code",
      "source": [
        "review_label = ['negative', 'positive']\n",
        "\n",
        "# clean text and change labels to 0 or 1 (negative, positive)\n",
        "df['label'] = df['label'].apply(label_to_num)\n",
        "df['Review'] = df['Review'].apply(clean_text)\n",
        "\n",
        "\n",
        "display(df)"
      ],
      "metadata": {
        "colab": {
          "base_uri": "https://localhost:8080/",
          "height": 423
        },
        "id": "XFqlw7k6qx1G",
        "outputId": "72722258-f2b8-4eee-ab07-19260a94a366"
      },
      "execution_count": 8,
      "outputs": [
        {
          "output_type": "display_data",
          "data": {
            "text/plain": [
              "                                                  Review  label\n",
              "0      great music service the audio is high quality ...      1\n",
              "1      please ignore previous negative rating this ap...      1\n",
              "2      this popup get the best spotify experience on ...      0\n",
              "3        really buggy and terrible to use as of recently      0\n",
              "4      dear spotify why do i get songs that i didnt p...      0\n",
              "...                                                  ...    ...\n",
              "52697                                       yes the best      1\n",
              "52698  spotify won my heart in feb  you won my heart ...      1\n",
              "52699  i tried to open the app and it wont open i res...      1\n",
              "52700                                              good       1\n",
              "52701  nice app to play music and at very affordable ...      1\n",
              "\n",
              "[52686 rows x 2 columns]"
            ],
            "text/html": [
              "\n",
              "  <div id=\"df-68aca5e9-61ea-4a18-aa43-566321866b64\" class=\"colab-df-container\">\n",
              "    <div>\n",
              "<style scoped>\n",
              "    .dataframe tbody tr th:only-of-type {\n",
              "        vertical-align: middle;\n",
              "    }\n",
              "\n",
              "    .dataframe tbody tr th {\n",
              "        vertical-align: top;\n",
              "    }\n",
              "\n",
              "    .dataframe thead th {\n",
              "        text-align: right;\n",
              "    }\n",
              "</style>\n",
              "<table border=\"1\" class=\"dataframe\">\n",
              "  <thead>\n",
              "    <tr style=\"text-align: right;\">\n",
              "      <th></th>\n",
              "      <th>Review</th>\n",
              "      <th>label</th>\n",
              "    </tr>\n",
              "  </thead>\n",
              "  <tbody>\n",
              "    <tr>\n",
              "      <th>0</th>\n",
              "      <td>great music service the audio is high quality ...</td>\n",
              "      <td>1</td>\n",
              "    </tr>\n",
              "    <tr>\n",
              "      <th>1</th>\n",
              "      <td>please ignore previous negative rating this ap...</td>\n",
              "      <td>1</td>\n",
              "    </tr>\n",
              "    <tr>\n",
              "      <th>2</th>\n",
              "      <td>this popup get the best spotify experience on ...</td>\n",
              "      <td>0</td>\n",
              "    </tr>\n",
              "    <tr>\n",
              "      <th>3</th>\n",
              "      <td>really buggy and terrible to use as of recently</td>\n",
              "      <td>0</td>\n",
              "    </tr>\n",
              "    <tr>\n",
              "      <th>4</th>\n",
              "      <td>dear spotify why do i get songs that i didnt p...</td>\n",
              "      <td>0</td>\n",
              "    </tr>\n",
              "    <tr>\n",
              "      <th>...</th>\n",
              "      <td>...</td>\n",
              "      <td>...</td>\n",
              "    </tr>\n",
              "    <tr>\n",
              "      <th>52697</th>\n",
              "      <td>yes the best</td>\n",
              "      <td>1</td>\n",
              "    </tr>\n",
              "    <tr>\n",
              "      <th>52698</th>\n",
              "      <td>spotify won my heart in feb  you won my heart ...</td>\n",
              "      <td>1</td>\n",
              "    </tr>\n",
              "    <tr>\n",
              "      <th>52699</th>\n",
              "      <td>i tried to open the app and it wont open i res...</td>\n",
              "      <td>1</td>\n",
              "    </tr>\n",
              "    <tr>\n",
              "      <th>52700</th>\n",
              "      <td>good</td>\n",
              "      <td>1</td>\n",
              "    </tr>\n",
              "    <tr>\n",
              "      <th>52701</th>\n",
              "      <td>nice app to play music and at very affordable ...</td>\n",
              "      <td>1</td>\n",
              "    </tr>\n",
              "  </tbody>\n",
              "</table>\n",
              "<p>52686 rows × 2 columns</p>\n",
              "</div>\n",
              "    <div class=\"colab-df-buttons\">\n",
              "\n",
              "  <div class=\"colab-df-container\">\n",
              "    <button class=\"colab-df-convert\" onclick=\"convertToInteractive('df-68aca5e9-61ea-4a18-aa43-566321866b64')\"\n",
              "            title=\"Convert this dataframe to an interactive table.\"\n",
              "            style=\"display:none;\">\n",
              "\n",
              "  <svg xmlns=\"http://www.w3.org/2000/svg\" height=\"24px\" viewBox=\"0 -960 960 960\">\n",
              "    <path d=\"M120-120v-720h720v720H120Zm60-500h600v-160H180v160Zm220 220h160v-160H400v160Zm0 220h160v-160H400v160ZM180-400h160v-160H180v160Zm440 0h160v-160H620v160ZM180-180h160v-160H180v160Zm440 0h160v-160H620v160Z\"/>\n",
              "  </svg>\n",
              "    </button>\n",
              "\n",
              "  <style>\n",
              "    .colab-df-container {\n",
              "      display:flex;\n",
              "      gap: 12px;\n",
              "    }\n",
              "\n",
              "    .colab-df-convert {\n",
              "      background-color: #E8F0FE;\n",
              "      border: none;\n",
              "      border-radius: 50%;\n",
              "      cursor: pointer;\n",
              "      display: none;\n",
              "      fill: #1967D2;\n",
              "      height: 32px;\n",
              "      padding: 0 0 0 0;\n",
              "      width: 32px;\n",
              "    }\n",
              "\n",
              "    .colab-df-convert:hover {\n",
              "      background-color: #E2EBFA;\n",
              "      box-shadow: 0px 1px 2px rgba(60, 64, 67, 0.3), 0px 1px 3px 1px rgba(60, 64, 67, 0.15);\n",
              "      fill: #174EA6;\n",
              "    }\n",
              "\n",
              "    .colab-df-buttons div {\n",
              "      margin-bottom: 4px;\n",
              "    }\n",
              "\n",
              "    [theme=dark] .colab-df-convert {\n",
              "      background-color: #3B4455;\n",
              "      fill: #D2E3FC;\n",
              "    }\n",
              "\n",
              "    [theme=dark] .colab-df-convert:hover {\n",
              "      background-color: #434B5C;\n",
              "      box-shadow: 0px 1px 3px 1px rgba(0, 0, 0, 0.15);\n",
              "      filter: drop-shadow(0px 1px 2px rgba(0, 0, 0, 0.3));\n",
              "      fill: #FFFFFF;\n",
              "    }\n",
              "  </style>\n",
              "\n",
              "    <script>\n",
              "      const buttonEl =\n",
              "        document.querySelector('#df-68aca5e9-61ea-4a18-aa43-566321866b64 button.colab-df-convert');\n",
              "      buttonEl.style.display =\n",
              "        google.colab.kernel.accessAllowed ? 'block' : 'none';\n",
              "\n",
              "      async function convertToInteractive(key) {\n",
              "        const element = document.querySelector('#df-68aca5e9-61ea-4a18-aa43-566321866b64');\n",
              "        const dataTable =\n",
              "          await google.colab.kernel.invokeFunction('convertToInteractive',\n",
              "                                                    [key], {});\n",
              "        if (!dataTable) return;\n",
              "\n",
              "        const docLinkHtml = 'Like what you see? Visit the ' +\n",
              "          '<a target=\"_blank\" href=https://colab.research.google.com/notebooks/data_table.ipynb>data table notebook</a>'\n",
              "          + ' to learn more about interactive tables.';\n",
              "        element.innerHTML = '';\n",
              "        dataTable['output_type'] = 'display_data';\n",
              "        await google.colab.output.renderOutput(dataTable, element);\n",
              "        const docLink = document.createElement('div');\n",
              "        docLink.innerHTML = docLinkHtml;\n",
              "        element.appendChild(docLink);\n",
              "      }\n",
              "    </script>\n",
              "  </div>\n",
              "\n",
              "\n",
              "    <div id=\"df-cae59c34-81ba-4048-9430-7cdf77e40bad\">\n",
              "      <button class=\"colab-df-quickchart\" onclick=\"quickchart('df-cae59c34-81ba-4048-9430-7cdf77e40bad')\"\n",
              "                title=\"Suggest charts\"\n",
              "                style=\"display:none;\">\n",
              "\n",
              "<svg xmlns=\"http://www.w3.org/2000/svg\" height=\"24px\"viewBox=\"0 0 24 24\"\n",
              "     width=\"24px\">\n",
              "    <g>\n",
              "        <path d=\"M19 3H5c-1.1 0-2 .9-2 2v14c0 1.1.9 2 2 2h14c1.1 0 2-.9 2-2V5c0-1.1-.9-2-2-2zM9 17H7v-7h2v7zm4 0h-2V7h2v10zm4 0h-2v-4h2v4z\"/>\n",
              "    </g>\n",
              "</svg>\n",
              "      </button>\n",
              "\n",
              "<style>\n",
              "  .colab-df-quickchart {\n",
              "      --bg-color: #E8F0FE;\n",
              "      --fill-color: #1967D2;\n",
              "      --hover-bg-color: #E2EBFA;\n",
              "      --hover-fill-color: #174EA6;\n",
              "      --disabled-fill-color: #AAA;\n",
              "      --disabled-bg-color: #DDD;\n",
              "  }\n",
              "\n",
              "  [theme=dark] .colab-df-quickchart {\n",
              "      --bg-color: #3B4455;\n",
              "      --fill-color: #D2E3FC;\n",
              "      --hover-bg-color: #434B5C;\n",
              "      --hover-fill-color: #FFFFFF;\n",
              "      --disabled-bg-color: #3B4455;\n",
              "      --disabled-fill-color: #666;\n",
              "  }\n",
              "\n",
              "  .colab-df-quickchart {\n",
              "    background-color: var(--bg-color);\n",
              "    border: none;\n",
              "    border-radius: 50%;\n",
              "    cursor: pointer;\n",
              "    display: none;\n",
              "    fill: var(--fill-color);\n",
              "    height: 32px;\n",
              "    padding: 0;\n",
              "    width: 32px;\n",
              "  }\n",
              "\n",
              "  .colab-df-quickchart:hover {\n",
              "    background-color: var(--hover-bg-color);\n",
              "    box-shadow: 0 1px 2px rgba(60, 64, 67, 0.3), 0 1px 3px 1px rgba(60, 64, 67, 0.15);\n",
              "    fill: var(--button-hover-fill-color);\n",
              "  }\n",
              "\n",
              "  .colab-df-quickchart-complete:disabled,\n",
              "  .colab-df-quickchart-complete:disabled:hover {\n",
              "    background-color: var(--disabled-bg-color);\n",
              "    fill: var(--disabled-fill-color);\n",
              "    box-shadow: none;\n",
              "  }\n",
              "\n",
              "  .colab-df-spinner {\n",
              "    border: 2px solid var(--fill-color);\n",
              "    border-color: transparent;\n",
              "    border-bottom-color: var(--fill-color);\n",
              "    animation:\n",
              "      spin 1s steps(1) infinite;\n",
              "  }\n",
              "\n",
              "  @keyframes spin {\n",
              "    0% {\n",
              "      border-color: transparent;\n",
              "      border-bottom-color: var(--fill-color);\n",
              "      border-left-color: var(--fill-color);\n",
              "    }\n",
              "    20% {\n",
              "      border-color: transparent;\n",
              "      border-left-color: var(--fill-color);\n",
              "      border-top-color: var(--fill-color);\n",
              "    }\n",
              "    30% {\n",
              "      border-color: transparent;\n",
              "      border-left-color: var(--fill-color);\n",
              "      border-top-color: var(--fill-color);\n",
              "      border-right-color: var(--fill-color);\n",
              "    }\n",
              "    40% {\n",
              "      border-color: transparent;\n",
              "      border-right-color: var(--fill-color);\n",
              "      border-top-color: var(--fill-color);\n",
              "    }\n",
              "    60% {\n",
              "      border-color: transparent;\n",
              "      border-right-color: var(--fill-color);\n",
              "    }\n",
              "    80% {\n",
              "      border-color: transparent;\n",
              "      border-right-color: var(--fill-color);\n",
              "      border-bottom-color: var(--fill-color);\n",
              "    }\n",
              "    90% {\n",
              "      border-color: transparent;\n",
              "      border-bottom-color: var(--fill-color);\n",
              "    }\n",
              "  }\n",
              "</style>\n",
              "\n",
              "      <script>\n",
              "        async function quickchart(key) {\n",
              "          const quickchartButtonEl =\n",
              "            document.querySelector('#' + key + ' button');\n",
              "          quickchartButtonEl.disabled = true;  // To prevent multiple clicks.\n",
              "          quickchartButtonEl.classList.add('colab-df-spinner');\n",
              "          try {\n",
              "            const charts = await google.colab.kernel.invokeFunction(\n",
              "                'suggestCharts', [key], {});\n",
              "          } catch (error) {\n",
              "            console.error('Error during call to suggestCharts:', error);\n",
              "          }\n",
              "          quickchartButtonEl.classList.remove('colab-df-spinner');\n",
              "          quickchartButtonEl.classList.add('colab-df-quickchart-complete');\n",
              "        }\n",
              "        (() => {\n",
              "          let quickchartButtonEl =\n",
              "            document.querySelector('#df-cae59c34-81ba-4048-9430-7cdf77e40bad button');\n",
              "          quickchartButtonEl.style.display =\n",
              "            google.colab.kernel.accessAllowed ? 'block' : 'none';\n",
              "        })();\n",
              "      </script>\n",
              "    </div>\n",
              "\n",
              "  <div id=\"id_b9d7b8a2-59b8-4e34-93c6-f0886a51f66a\">\n",
              "    <style>\n",
              "      .colab-df-generate {\n",
              "        background-color: #E8F0FE;\n",
              "        border: none;\n",
              "        border-radius: 50%;\n",
              "        cursor: pointer;\n",
              "        display: none;\n",
              "        fill: #1967D2;\n",
              "        height: 32px;\n",
              "        padding: 0 0 0 0;\n",
              "        width: 32px;\n",
              "      }\n",
              "\n",
              "      .colab-df-generate:hover {\n",
              "        background-color: #E2EBFA;\n",
              "        box-shadow: 0px 1px 2px rgba(60, 64, 67, 0.3), 0px 1px 3px 1px rgba(60, 64, 67, 0.15);\n",
              "        fill: #174EA6;\n",
              "      }\n",
              "\n",
              "      [theme=dark] .colab-df-generate {\n",
              "        background-color: #3B4455;\n",
              "        fill: #D2E3FC;\n",
              "      }\n",
              "\n",
              "      [theme=dark] .colab-df-generate:hover {\n",
              "        background-color: #434B5C;\n",
              "        box-shadow: 0px 1px 3px 1px rgba(0, 0, 0, 0.15);\n",
              "        filter: drop-shadow(0px 1px 2px rgba(0, 0, 0, 0.3));\n",
              "        fill: #FFFFFF;\n",
              "      }\n",
              "    </style>\n",
              "    <button class=\"colab-df-generate\" onclick=\"generateWithVariable('df')\"\n",
              "            title=\"Generate code using this dataframe.\"\n",
              "            style=\"display:none;\">\n",
              "\n",
              "  <svg xmlns=\"http://www.w3.org/2000/svg\" height=\"24px\"viewBox=\"0 0 24 24\"\n",
              "       width=\"24px\">\n",
              "    <path d=\"M7,19H8.4L18.45,9,17,7.55,7,17.6ZM5,21V16.75L18.45,3.32a2,2,0,0,1,2.83,0l1.4,1.43a1.91,1.91,0,0,1,.58,1.4,1.91,1.91,0,0,1-.58,1.4L9.25,21ZM18.45,9,17,7.55Zm-12,3A5.31,5.31,0,0,0,4.9,8.1,5.31,5.31,0,0,0,1,6.5,5.31,5.31,0,0,0,4.9,4.9,5.31,5.31,0,0,0,6.5,1,5.31,5.31,0,0,0,8.1,4.9,5.31,5.31,0,0,0,12,6.5,5.46,5.46,0,0,0,6.5,12Z\"/>\n",
              "  </svg>\n",
              "    </button>\n",
              "    <script>\n",
              "      (() => {\n",
              "      const buttonEl =\n",
              "        document.querySelector('#id_b9d7b8a2-59b8-4e34-93c6-f0886a51f66a button.colab-df-generate');\n",
              "      buttonEl.style.display =\n",
              "        google.colab.kernel.accessAllowed ? 'block' : 'none';\n",
              "\n",
              "      buttonEl.onclick = () => {\n",
              "        google.colab.notebook.generateWithVariable('df');\n",
              "      }\n",
              "      })();\n",
              "    </script>\n",
              "  </div>\n",
              "\n",
              "    </div>\n",
              "  </div>\n"
            ],
            "application/vnd.google.colaboratory.intrinsic+json": {
              "type": "dataframe",
              "variable_name": "df",
              "summary": "{\n  \"name\": \"df\",\n  \"rows\": 52686,\n  \"fields\": [\n    {\n      \"column\": \"Review\",\n      \"properties\": {\n        \"dtype\": \"string\",\n        \"num_unique_values\": 51214,\n        \"samples\": [\n          \"i love spotify because it gives you so many wonderful options to discover\",\n          \"disappears on android auto often spotify trying to be too helpful on making the app easier to use it is actually a backwards step\",\n          \"easy to operate has a great variety of different types of music to listen to its a great music app to have\"\n        ],\n        \"semantic_type\": \"\",\n        \"description\": \"\"\n      }\n    },\n    {\n      \"column\": \"label\",\n      \"properties\": {\n        \"dtype\": \"number\",\n        \"std\": 0,\n        \"min\": 0,\n        \"max\": 1,\n        \"num_unique_values\": 2,\n        \"samples\": [\n          0,\n          1\n        ],\n        \"semantic_type\": \"\",\n        \"description\": \"\"\n      }\n    }\n  ]\n}"
            }
          },
          "metadata": {}
        }
      ]
    },
    {
      "cell_type": "code",
      "source": [
        "X_features = df['Review']\n",
        "Y_labels = df['label']\n",
        "\n",
        "print('Shape of our X_features array:', X_features.shape)\n",
        "print('Shape of our Y_labels array:', Y_labels.shape)"
      ],
      "metadata": {
        "colab": {
          "base_uri": "https://localhost:8080/"
        },
        "id": "vPrBlM_nod2g",
        "outputId": "6a739ff1-c43c-4f72-beec-69bb16711936"
      },
      "execution_count": 9,
      "outputs": [
        {
          "output_type": "stream",
          "name": "stdout",
          "text": [
            "Shape of our X_features array: (52686,)\n",
            "Shape of our Y_labels array: (52686,)\n"
          ]
        }
      ]
    },
    {
      "cell_type": "markdown",
      "source": [
        "---\n",
        "# Dataset Split\n",
        "\n",
        "Now that we have set up and loaded our data, we must normalize our data and set an `80/20` split for `training/testing`. Once again, `X_train/X_test` will just be filled with our reviews as text and `Y_train/Y_test` will just be the labels to each review. `0` being a `negative review`, `1` being a `positive review`."
      ],
      "metadata": {
        "id": "euOtLt_dpf0n"
      }
    },
    {
      "cell_type": "code",
      "source": [
        "X_train, X_test = np.array_split(X_features, [int(len(df) * 0.8)])\n",
        "Y_train, Y_test = np.array_split(Y_labels, [int(len(df) * 0.8)])\n",
        "\n",
        "print('Shape of our X_train array:', X_train.shape)\n",
        "print('Shape of our X_test array:', X_test.shape)"
      ],
      "metadata": {
        "colab": {
          "base_uri": "https://localhost:8080/"
        },
        "id": "ub03r7kLpaMj",
        "outputId": "9a8a4005-df48-4059-b113-f94f11fcf6a2"
      },
      "execution_count": 10,
      "outputs": [
        {
          "output_type": "stream",
          "name": "stdout",
          "text": [
            "Shape of our X_train array: (42148,)\n",
            "Shape of our X_test array: (10538,)\n"
          ]
        },
        {
          "output_type": "stream",
          "name": "stderr",
          "text": [
            "/usr/local/lib/python3.12/dist-packages/numpy/_core/fromnumeric.py:57: FutureWarning: 'Series.swapaxes' is deprecated and will be removed in a future version. Please use 'Series.transpose' instead.\n",
            "  return bound(*args, **kwds)\n"
          ]
        }
      ]
    },
    {
      "cell_type": "code",
      "source": [
        "l = 'Negative', 'Positive'\n",
        "sizes = [len(Y_train[Y_train == 0]), len(Y_train[Y_train == 1])]\n",
        "\n",
        "fig, ax = plt.subplots()\n",
        "ax.pie(sizes, labels=l, autopct='%1.1f%%', startangle=90, colors=['#ec414e', '#19bee7'])\n",
        "plt.title('Distribution of Reviews in Training Set')\n",
        "\n",
        "plt.show()"
      ],
      "metadata": {
        "colab": {
          "base_uri": "https://localhost:8080/",
          "height": 428
        },
        "id": "gA_NBo1vBT22",
        "outputId": "874d16be-455a-49a5-edc3-604a7d0ebe26"
      },
      "execution_count": 11,
      "outputs": [
        {
          "output_type": "display_data",
          "data": {
            "text/plain": [
              "<Figure size 640x480 with 1 Axes>"
            ],
            "image/png": "[encoded data removed]"
          },
          "metadata": {}
        }
      ]
    },
    {
      "cell_type": "markdown",
      "source": [
        "As you can see from the pie chart, our data is almost split 50/50 from our training set. 60% being negative reviews and the other 40% consisting of positive reviews. This means we have a sufficient amount of split to where we will encounter little to no bias when training. We will be checking for this in our baseline model."
      ],
      "metadata": {
        "id": "g_3VCbEJ4Qd-"
      }
    },
    {
      "cell_type": "markdown",
      "source": [
        "---\n",
        "# Visualizing our Data\n"
      ],
      "metadata": {
        "id": "XBL_hTGY5RLQ"
      }
    },
    {
      "cell_type": "code",
      "source": [
        "# Create a list of lengths for training examples with a positive label.\n",
        "text_lengths_pos = [len(x) for (i, x) in enumerate(X_train) if Y_train[i]]\n",
        "\n",
        "# And a list of lengths for training examples with a negative label.\n",
        "text_lengths_neg = [len(x) for (i, x) in enumerate(X_train) if not Y_train[i]]\n",
        "\n",
        "# The histogram function can take a list of inputs and corresponding labels.\n",
        "plt.hist([text_lengths_pos, text_lengths_neg], bins=20, range=(0, 500),\n",
        "         label=['positive', 'negative'])\n",
        "plt.legend()\n",
        "plt.show()\n",
        "\n",
        "# Also check the longest reviews.\n",
        "print('Longest positive review:', max(text_lengths_pos))\n",
        "print('Longest negative review:', max(text_lengths_neg))"
      ],
      "metadata": {
        "colab": {
          "base_uri": "https://localhost:8080/",
          "height": 470
        },
        "id": "aqe7NIUOZSc6",
        "outputId": "d4dfb165-5e32-4f52-d509-a8f6c6d8ba4b"
      },
      "execution_count": 12,
      "outputs": [
        {
          "output_type": "display_data",
          "data": {
            "text/plain": [
              "<Figure size 640x480 with 1 Axes>"
            ],
            "image/png": "[encoded data removed]"
          },
          "metadata": {}
        },
        {
          "output_type": "stream",
          "name": "stdout",
          "text": [
            "Longest positive review: 998\n",
            "Longest negative review: 1623\n"
          ]
        }
      ]
    },
    {
      "cell_type": "markdown",
      "source": [
        "# Tokenization"
      ],
      "metadata": {
        "id": "rGYUkv-5FhuX"
      }
    },
    {
      "cell_type": "markdown",
      "source": [
        "### Padding and Reduced Length\n",
        "As is clear from the length histogram, the current representation of the review text is a variable-length array. Since fixed-length arrays are easier to work with in Tensorflow, let's add special padding tokens at the end of each review until they are all the same length.\n",
        "\n",
        "We'll also use this operation to limit the number of token positions by truncating all reviews to a specified length. In the code below, as an example, we pad all training inputs to length 600.\n",
        "\n",
        "&nbsp;\n",
        "\n",
        "### Reduced Vocabulary\n",
        "We also want to be able to limit the vocabulary size. Since our padding function produces fixed-length sequences in a numpy matrix, we can use clever numpy indexing to efficiently replace all token IDs larger than some value with the designated out-of-vocabulary (OOV) ID.\n",
        "\n",
        "In the code below, as an example, we'll keep just token IDs less than 30000, replacing all others with OOV."
      ],
      "metadata": {
        "id": "qGiAGWyB4rnN"
      }
    },
    {
      "cell_type": "code",
      "source": [
        "def preprocess_text_data(text_data, tokenizer, max_length, max_vocab_size):\n",
        "    # Tokenize the text\n",
        "    sequences = tokenizer.texts_to_sequences(text_data)\n",
        "\n",
        "    # Pad sequences to a fixed length\n",
        "    padded_sequences = tf.keras.preprocessing.sequence.pad_sequences(sequences, maxlen=max_length, padding='post', value=0)\n",
        "\n",
        "    # Limit vocabulary to the max_vocab_size by setting any token_id >= max_vocab_size to 0 (OOV token)\n",
        "    limited_vocab_sequences = np.where(padded_sequences >= max_vocab_size, 0, padded_sequences)\n",
        "\n",
        "    return limited_vocab_sequences"
      ],
      "metadata": {
        "id": "nCSS0ZlIeBwy"
      },
      "execution_count": 13,
      "outputs": []
    },
    {
      "cell_type": "code",
      "source": [
        "# Initialize the tokenizer and fit on the data (X_train)\n",
        "tokenizer = tf.keras.preprocessing.text.Tokenizer(num_words=30000, oov_token=\"<OOV>\")\n",
        "tokenizer.fit_on_texts(X_train)\n",
        "\n",
        "# Preprocess the training data\n",
        "max_length = 600\n",
        "max_vocab_size = 30000\n",
        "X_train_processed = preprocess_text_data(X_train, tokenizer, max_length=max_length, max_vocab_size=max_vocab_size)\n"
      ],
      "metadata": {
        "id": "uJBplCMDgtmq"
      },
      "execution_count": 14,
      "outputs": []
    },
    {
      "cell_type": "code",
      "source": [
        "X_train_processed[500]"
      ],
      "metadata": {
        "colab": {
          "base_uri": "https://localhost:8080/"
        },
        "id": "GeLbvxKcOOGZ",
        "outputId": "e988c01b-2bcc-4ea9-b3f9-2c0c3f352fce"
      },
      "execution_count": null,
      "outputs": [
        {
          "output_type": "execute_result",
          "data": {
            "text/plain": [
              "array([9675,    4, 2318,   14,    7, 1399,   41,   86,   23,  339,  947,\n",
              "         41,    4,  364,   37,    3,  133,   24,   11,   46,    5,    6,\n",
              "        132,    8,  326,  189,   22,    3,  421,  267,   24,   11,   46,\n",
              "         23,   27,  108,   21,    3,   19,    4,  133,   24,  380,    4,\n",
              "         58,    2,   22,    3,   53,    4,   26,  535,   42,    3,  323,\n",
              "          8,   22,    6,   80,   50,   26,    6,    3,   49,   50,   58,\n",
              "          2,   22,    3,  497,   26,    3,   59,   58,  235,  469,  318,\n",
              "          5,    2,  321,   68,  124,   43,    8, 9676, 2450,   52,  453,\n",
              "         29,   14,    7,    0,    0,    0,    0,    0,    0,    0,    0,\n",
              "          0,    0,    0,    0,    0,    0,    0,    0,    0,    0,    0,\n",
              "          0,    0,    0,    0,    0,    0,    0,    0,    0,    0,    0,\n",
              "          0,    0,    0,    0,    0,    0,    0,    0,    0,    0,    0,\n",
              "          0,    0,    0,    0,    0,    0,    0,    0,    0,    0,    0,\n",
              "          0,    0,    0,    0,    0,    0,    0,    0,    0,    0,    0,\n",
              "          0,    0,    0,    0,    0,    0,    0,    0,    0,    0,    0,\n",
              "          0,    0,    0,    0,    0,    0,    0,    0,    0,    0,    0,\n",
              "          0,    0,    0,    0,    0,    0,    0,    0,    0,    0,    0,\n",
              "          0,    0,    0,    0,    0,    0,    0,    0,    0,    0,    0,\n",
              "          0,    0,    0,    0,    0,    0,    0,    0,    0,    0,    0,\n",
              "          0,    0,    0,    0,    0,    0,    0,    0,    0,    0,    0,\n",
              "          0,    0,    0,    0,    0,    0,    0,    0,    0,    0,    0,\n",
              "          0,    0,    0,    0,    0,    0,    0,    0,    0,    0,    0,\n",
              "          0,    0,    0,    0,    0,    0,    0,    0,    0,    0,    0,\n",
              "          0,    0,    0,    0,    0,    0,    0,    0,    0,    0,    0,\n",
              "          0,    0,    0,    0,    0,    0,    0,    0,    0,    0,    0,\n",
              "          0,    0,    0,    0,    0,    0,    0,    0,    0,    0,    0,\n",
              "          0,    0,    0,    0,    0,    0,    0,    0,    0,    0,    0,\n",
              "          0,    0,    0,    0,    0,    0,    0,    0,    0,    0,    0,\n",
              "          0,    0,    0,    0,    0,    0,    0,    0,    0,    0,    0,\n",
              "          0,    0,    0,    0,    0,    0,    0,    0,    0,    0,    0,\n",
              "          0,    0,    0,    0,    0,    0,    0,    0,    0,    0,    0,\n",
              "          0,    0,    0,    0,    0,    0,    0,    0,    0,    0,    0,\n",
              "          0,    0,    0,    0,    0,    0,    0,    0,    0,    0,    0,\n",
              "          0,    0,    0,    0,    0,    0,    0,    0,    0,    0,    0,\n",
              "          0,    0,    0,    0,    0,    0,    0,    0,    0,    0,    0,\n",
              "          0,    0,    0,    0,    0,    0,    0,    0,    0,    0,    0,\n",
              "          0,    0,    0,    0,    0,    0,    0,    0,    0,    0,    0,\n",
              "          0,    0,    0,    0,    0,    0,    0,    0,    0,    0,    0,\n",
              "          0,    0,    0,    0,    0,    0,    0,    0,    0,    0,    0,\n",
              "          0,    0,    0,    0,    0,    0,    0,    0,    0,    0,    0,\n",
              "          0,    0,    0,    0,    0,    0,    0,    0,    0,    0,    0,\n",
              "          0,    0,    0,    0,    0,    0,    0,    0,    0,    0,    0,\n",
              "          0,    0,    0,    0,    0,    0,    0,    0,    0,    0,    0,\n",
              "          0,    0,    0,    0,    0,    0,    0,    0,    0,    0,    0,\n",
              "          0,    0,    0,    0,    0,    0,    0,    0,    0,    0,    0,\n",
              "          0,    0,    0,    0,    0,    0,    0,    0,    0,    0,    0,\n",
              "          0,    0,    0,    0,    0,    0,    0,    0,    0,    0,    0,\n",
              "          0,    0,    0,    0,    0,    0,    0,    0,    0,    0,    0,\n",
              "          0,    0,    0,    0,    0,    0,    0,    0,    0,    0,    0,\n",
              "          0,    0,    0,    0,    0,    0,    0,    0,    0,    0,    0,\n",
              "          0,    0,    0,    0,    0,    0,    0,    0,    0,    0,    0,\n",
              "          0,    0,    0,    0,    0,    0,    0,    0,    0,    0,    0,\n",
              "          0,    0,    0,    0,    0,    0,    0,    0,    0,    0,    0,\n",
              "          0,    0,    0,    0,    0,    0,    0,    0,    0,    0,    0,\n",
              "          0,    0,    0,    0,    0,    0], dtype=int32)"
            ]
          },
          "metadata": {},
          "execution_count": 13
        }
      ]
    },
    {
      "cell_type": "markdown",
      "source": [
        "---\n",
        "# Training Our Model"
      ],
      "metadata": {
        "id": "Y8FkM0xQOHr9"
      }
    },
    {
      "cell_type": "code",
      "source": [
        "# Plot history of the model during training\n",
        "def plot_history(history):\n",
        "  plt.ylabel('Loss')\n",
        "  plt.xlabel('Epoch')\n",
        "  plt.xticks(range(0, len(history['loss'] + 1)))\n",
        "  plt.plot(history['loss'], label=\"training\", marker='o')\n",
        "  plt.plot(history['val_loss'], label=\"validation\", marker='o')\n",
        "  plt.legend()\n",
        "  plt.show()"
      ],
      "metadata": {
        "id": "Q-_S6gMfbFTt"
      },
      "execution_count": 15,
      "outputs": []
    },
    {
      "cell_type": "code",
      "source": [
        "def build_deep_embeddings_model(vocab_size, sequence_length, embedding_dim):\n",
        "    \"\"\"Build a tf.keras model using embeddings.\"\"\"\n",
        "    tf.keras.backend.clear_session()\n",
        "    tf.random.set_seed(0)\n",
        "\n",
        "    model = tf.keras.Sequential()\n",
        "\n",
        "    # Embedding layer\n",
        "    model.add(tf.keras.layers.Embedding(\n",
        "        input_dim=vocab_size,\n",
        "        output_dim=embedding_dim,\n",
        "        )\n",
        "    )\n",
        "\n",
        "    # Pooling and dense layers\n",
        "    model.add(tf.keras.layers.GlobalAveragePooling1D())\n",
        "    model.add(tf.keras.layers.Dense(units=8, activation='relu'))\n",
        "    model.add(tf.keras.layers.Dense(units=16, activation='relu'))\n",
        "    model.add(tf.keras.layers.Dense(units=1, activation='sigmoid'))\n",
        "\n",
        "    # Compile model\n",
        "    model.compile(loss='binary_crossentropy', optimizer='adam', metrics=['accuracy'])\n",
        "\n",
        "    return model\n",
        "\n",
        "# Build and summarize the model\n",
        "model = build_deep_embeddings_model(\n",
        "    vocab_size=max_vocab_size,\n",
        "    sequence_length=X_train_processed.shape[1],\n",
        "    embedding_dim=2\n",
        ")"
      ],
      "metadata": {
        "id": "eS1EvopRaT1U"
      },
      "execution_count": 23,
      "outputs": []
    },
    {
      "cell_type": "code",
      "source": [
        "history = model.fit(\n",
        "  x = X_train_processed,\n",
        "  y = Y_train,\n",
        "  epochs=20,\n",
        "  batch_size=64,\n",
        "  validation_split=0.1,\n",
        "  verbose=1,\n",
        "  )\n",
        "\n",
        "history = pd.DataFrame(history.history)\n",
        "plot_history(history)"
      ],
      "metadata": {
        "colab": {
          "base_uri": "https://localhost:8080/",
          "height": 1000
        },
        "id": "ON6-SrFHa5fN",
        "outputId": "a09fbf92-bbdc-4685-b3b1-ecc23ed3dcee"
      },
      "execution_count": 26,
      "outputs": [
        {
          "output_type": "stream",
          "name": "stdout",
          "text": [
            "Epoch 1/20\n",
            "\u001b[1m593/593\u001b[0m \u001b[32m━━━━━━━━━━━━━━━━━━━━\u001b[0m\u001b[37m\u001b[0m \u001b[1m5s\u001b[0m 6ms/step - accuracy: 0.5978 - loss: 0.6761 - val_accuracy: 0.6235 - val_loss: 0.6485\n",
            "Epoch 2/20\n",
            "\u001b[1m593/593\u001b[0m \u001b[32m━━━━━━━━━━━━━━━━━━━━\u001b[0m\u001b[37m\u001b[0m \u001b[1m2s\u001b[0m 3ms/step - accuracy: 0.6102 - loss: 0.6363 - val_accuracy: 0.7246 - val_loss: 0.5694\n",
            "Epoch 3/20\n",
            "\u001b[1m593/593\u001b[0m \u001b[32m━━━━━━━━━━━━━━━━━━━━\u001b[0m\u001b[37m\u001b[0m \u001b[1m2s\u001b[0m 3ms/step - accuracy: 0.7405 - loss: 0.5448 - val_accuracy: 0.7730 - val_loss: 0.4993\n",
            "Epoch 4/20\n",
            "\u001b[1m593/593\u001b[0m \u001b[32m━━━━━━━━━━━━━━━━━━━━\u001b[0m\u001b[37m\u001b[0m \u001b[1m2s\u001b[0m 3ms/step - accuracy: 0.7823 - loss: 0.4871 - val_accuracy: 0.8221 - val_loss: 0.4432\n",
            "Epoch 5/20\n",
            "\u001b[1m593/593\u001b[0m \u001b[32m━━━━━━━━━━━━━━━━━━━━\u001b[0m\u001b[37m\u001b[0m \u001b[1m2s\u001b[0m 3ms/step - accuracy: 0.8147 - loss: 0.4378 - val_accuracy: 0.8482 - val_loss: 0.4068\n",
            "Epoch 6/20\n",
            "\u001b[1m593/593\u001b[0m \u001b[32m━━━━━━━━━━━━━━━━━━━━\u001b[0m\u001b[37m\u001b[0m \u001b[1m2s\u001b[0m 3ms/step - accuracy: 0.8375 - loss: 0.3984 - val_accuracy: 0.8577 - val_loss: 0.3823\n",
            "Epoch 7/20\n",
            "\u001b[1m593/593\u001b[0m \u001b[32m━━━━━━━━━━━━━━━━━━━━\u001b[0m\u001b[37m\u001b[0m \u001b[1m2s\u001b[0m 3ms/step - accuracy: 0.8514 - loss: 0.3723 - val_accuracy: 0.8614 - val_loss: 0.3689\n",
            "Epoch 8/20\n",
            "\u001b[1m593/593\u001b[0m \u001b[32m━━━━━━━━━━━━━━━━━━━━\u001b[0m\u001b[37m\u001b[0m \u001b[1m2s\u001b[0m 3ms/step - accuracy: 0.8582 - loss: 0.3575 - val_accuracy: 0.8622 - val_loss: 0.3621\n",
            "Epoch 9/20\n",
            "\u001b[1m593/593\u001b[0m \u001b[32m━━━━━━━━━━━━━━━━━━━━\u001b[0m\u001b[37m\u001b[0m \u001b[1m2s\u001b[0m 3ms/step - accuracy: 0.8627 - loss: 0.3474 - val_accuracy: 0.8645 - val_loss: 0.3581\n",
            "Epoch 10/20\n",
            "\u001b[1m593/593\u001b[0m \u001b[32m━━━━━━━━━━━━━━━━━━━━\u001b[0m\u001b[37m\u001b[0m \u001b[1m3s\u001b[0m 3ms/step - accuracy: 0.8660 - loss: 0.3398 - val_accuracy: 0.8671 - val_loss: 0.3548\n",
            "Epoch 11/20\n",
            "\u001b[1m593/593\u001b[0m \u001b[32m━━━━━━━━━━━━━━━━━━━━\u001b[0m\u001b[37m\u001b[0m \u001b[1m2s\u001b[0m 3ms/step - accuracy: 0.8686 - loss: 0.3336 - val_accuracy: 0.8679 - val_loss: 0.3530\n",
            "Epoch 12/20\n",
            "\u001b[1m593/593\u001b[0m \u001b[32m━━━━━━━━━━━━━━━━━━━━\u001b[0m\u001b[37m\u001b[0m \u001b[1m2s\u001b[0m 3ms/step - accuracy: 0.8697 - loss: 0.3285 - val_accuracy: 0.8683 - val_loss: 0.3515\n",
            "Epoch 13/20\n",
            "\u001b[1m593/593\u001b[0m \u001b[32m━━━━━━━━━━━━━━━━━━━━\u001b[0m\u001b[37m\u001b[0m \u001b[1m2s\u001b[0m 4ms/step - accuracy: 0.8720 - loss: 0.3240 - val_accuracy: 0.8688 - val_loss: 0.3502\n",
            "Epoch 14/20\n",
            "\u001b[1m593/593\u001b[0m \u001b[32m━━━━━━━━━━━━━━━━━━━━\u001b[0m\u001b[37m\u001b[0m \u001b[1m2s\u001b[0m 3ms/step - accuracy: 0.8745 - loss: 0.3196 - val_accuracy: 0.8686 - val_loss: 0.3485\n",
            "Epoch 15/20\n",
            "\u001b[1m593/593\u001b[0m \u001b[32m━━━━━━━━━━━━━━━━━━━━\u001b[0m\u001b[37m\u001b[0m \u001b[1m2s\u001b[0m 3ms/step - accuracy: 0.8764 - loss: 0.3157 - val_accuracy: 0.8695 - val_loss: 0.3477\n",
            "Epoch 16/20\n",
            "\u001b[1m593/593\u001b[0m \u001b[32m━━━━━━━━━━━━━━━━━━━━\u001b[0m\u001b[37m\u001b[0m \u001b[1m2s\u001b[0m 3ms/step - accuracy: 0.8775 - loss: 0.3119 - val_accuracy: 0.8693 - val_loss: 0.3475\n",
            "Epoch 17/20\n",
            "\u001b[1m593/593\u001b[0m \u001b[32m━━━━━━━━━━━━━━━━━━━━\u001b[0m\u001b[37m\u001b[0m \u001b[1m2s\u001b[0m 3ms/step - accuracy: 0.8788 - loss: 0.3085 - val_accuracy: 0.8695 - val_loss: 0.3470\n",
            "Epoch 18/20\n",
            "\u001b[1m593/593\u001b[0m \u001b[32m━━━━━━━━━━━━━━━━━━━━\u001b[0m\u001b[37m\u001b[0m \u001b[1m2s\u001b[0m 3ms/step - accuracy: 0.8802 - loss: 0.3052 - val_accuracy: 0.8695 - val_loss: 0.3462\n",
            "Epoch 19/20\n",
            "\u001b[1m593/593\u001b[0m \u001b[32m━━━━━━━━━━━━━━━━━━━━\u001b[0m\u001b[37m\u001b[0m \u001b[1m2s\u001b[0m 3ms/step - accuracy: 0.8811 - loss: 0.3020 - val_accuracy: 0.8705 - val_loss: 0.3454\n",
            "Epoch 20/20\n",
            "\u001b[1m593/593\u001b[0m \u001b[32m━━━━━━━━━━━━━━━━━━━━\u001b[0m\u001b[37m\u001b[0m \u001b[1m2s\u001b[0m 4ms/step - accuracy: 0.8828 - loss: 0.2990 - val_accuracy: 0.8716 - val_loss: 0.3439\n"
          ]
        },
        {
          "output_type": "display_data",
          "data": {
            "text/plain": [
              "<Figure size 640x480 with 1 Axes>"
            ],
            "image/png": "[encoded data removed]"
          },
          "metadata": {}
        }
      ]
    },
    {
      "cell_type": "code",
      "source": [
        "# Display the model layers.\n",
        "display(model.layers)\n",
        "\n",
        "# Retrieve the embeddings layer, which itself is wrapped in a list.\n",
        "embeddings = model.layers[0].get_weights()[0]\n",
        "display(embeddings.shape)"
      ],
      "metadata": {
        "colab": {
          "base_uri": "https://localhost:8080/",
          "height": 126
        },
        "id": "cetRmekOLOLT",
        "outputId": "c4ed9ba3-b0ba-44c2-e044-6a75a5871dc2"
      },
      "execution_count": 27,
      "outputs": [
        {
          "output_type": "display_data",
          "data": {
            "text/plain": [
              "[<Embedding name=embedding, built=True>,\n",
              " <GlobalAveragePooling1D name=global_average_pooling1d, built=True>,\n",
              " <Dense name=dense, built=True>,\n",
              " <Dense name=dense_1, built=True>,\n",
              " <Dense name=dense_2, built=True>]"
            ]
          },
          "metadata": {}
        },
        {
          "output_type": "display_data",
          "data": {
            "text/plain": [
              "(30000, 2)"
            ]
          },
          "metadata": {}
        }
      ]
    },
    {
      "cell_type": "code",
      "source": [
        "def plot_2d_embeddings(embeddings, id_start=1, count=100):\n",
        "  # Get 1st and 2nd embedding dims for the desired tokens.\n",
        "  x1 = embeddings[id_start:id_start+count, 0]\n",
        "  x2 = embeddings[id_start:id_start+count, 1]\n",
        "\n",
        "\n",
        "  # Get the corresponding words from the reverse index (for labeling).\n",
        "  tokens = tokenizer.index_word\n",
        "  tokens = [tokens[i] for i in range(id_start, id_start+count)]\n",
        "\n",
        "  # Plot with the plotly library.\n",
        "  data = plotly.Scatter(x=x1, y=x2, text=tokens,\n",
        "                        mode='markers', textposition='bottom left',\n",
        "                        hoverinfo='text')\n",
        "  fig = plotly.Figure(data=[data],\n",
        "                      layout=plotly.Layout(title=\"Word Embeddings\",\n",
        "                                           hovermode='closest'))\n",
        "  fig.show()\n",
        "\n",
        "# Very frequent tokens tend to be more syntactic than semantic, so let's plot\n",
        "# some rarer words.\n",
        "plot_2d_embeddings(embeddings, id_start=500, count=500)"
      ],
      "metadata": {
        "colab": {
          "base_uri": "https://localhost:8080/",
          "height": 542
        },
        "id": "09bxpD4FLJNl",
        "outputId": "d245b87e-4f62-4a97-9b2a-58f48358af55"
      },
      "execution_count": 28,
      "outputs": [
        {
          "output_type": "display_data",
          "data": {
            "text/html": [
              "<html>\n",
              "<head><meta charset=\"utf-8\" /></head>\n",
              "<body>\n",
              "    <div>            <script src=\"https://cdnjs.cloudflare.com/ajax/libs/mathjax/2.7.5/MathJax.js?config=TeX-AMS-MML_SVG\"></script><script type=\"text/javascript\">if (window.MathJax && window.MathJax.Hub && window.MathJax.Hub.Config) {window.MathJax.Hub.Config({SVG: {font: \"STIX-Web\"}});}</script>                <script type=\"text/javascript\">window.PlotlyConfig = {MathJaxConfig: 'local'};</script>\n",
              "        <script charset=\"utf-8\" src=\"https://cdn.plot.ly/plotly-2.35.2.min.js\"></script>                <div id=\"b0ea55d5-1bbd-4646-9f29-6af33003d12f\" class=\"plotly-graph-div\" style=\"height:525px; width:100%;\"></div>            <script type=\"text/javascript\">                                    window.PLOTLYENV=window.PLOTLYENV || {};                                    if (document.getElementById(\"b0ea55d5-1bbd-4646-9f29-6af33003d12f\")) {                    Plotly.newPlot(                        \"b0ea55d5-1bbd-4646-9f29-6af33003d12f\",                        [{\"hoverinfo\":\"text\",\"mode\":\"markers\",\"text\":[\"goes\",\"amount\",\"pausing\",\"customer\",\"happens\",\"others\",\"current\",\"disappearing\",\"slow\",\"garbage\",\"missing\",\"away\",\"worked\",\"weeks\",\"wonderful\",\"saying\",\"clear\",\"downloading\",\"middle\",\"might\",\"tracks\",\"suggested\",\"couldnt\",\"removed\",\"kind\",\"online\",\"settings\",\"become\",\"reinstalled\",\"pc\",\"changed\",\"honestly\",\"trash\",\"rate\",\"second\",\"cause\",\"several\",\"wouldnt\",\"set\",\"recommendations\",\"apple\",\"payment\",\"heard\",\"big\",\"end\",\"matter\",\"asap\",\"extremely\",\"irritating\",\"went\",\"quite\",\"downloads\",\"rating\",\"except\",\"pauses\",\"stuck\",\"later\",\"ability\",\"create\",\"around\",\"mean\",\"disappointed\",\"certain\",\"enjoying\",\"listened\",\"card\",\"alot\",\"said\",\"may\",\"collection\",\"commercials\",\"someone\",\"left\",\"usually\",\"during\",\"hours\",\"totally\",\"login\",\"ones\",\"disappear\",\"cache\",\"changes\",\"ridiculous\",\"forward\",\"friends\",\"tell\",\"skipping\",\"buttons\",\"hell\",\"loading\",\"fantastic\",\"reinstalling\",\"deleted\",\"pop\",\"world\",\"constant\",\"seriously\",\"highly\",\"genre\",\"video\",\"closing\",\"mood\",\"genres\",\"awful\",\"simple\",\"repeat\",\"possible\",\"gave\",\"anyone\",\"mind\",\"lock\",\"episode\",\"everyday\",\"price\",\"galaxy\",\"appear\",\"both\",\"three\",\"function\",\"must\",\"row\",\"live\",\"previous\",\"team\",\"opening\",\"poor\",\"page\",\"seem\",\"wasnt\",\"continues\",\"fast\",\"okay\",\"yall\",\"rather\",\"kinda\",\"driving\",\"frequently\",\"high\",\"friendly\",\"five\",\"turned\",\"mins\",\"share\",\"today\",\"suggestions\",\"continue\",\"based\",\"amazon\",\"uninstalling\",\"restarting\",\"easily\",\"volume\",\"rogan\",\"probably\",\"due\",\"fav\",\"glitch\",\"gonna\",\"lost\",\"fun\",\"switching\",\"limited\",\"difficult\",\"rid\",\"membership\",\"idk\",\"phones\",\"ask\",\"finding\",\"wait\",\"ðÿ‘\",\"hit\",\"seen\",\"wide\",\"running\",\"joe\",\"reopen\",\"itll\",\"install\",\"type\",\"starting\",\"algorithm\",\"huge\",\"useful\",\"network\",\"job\",\"tho\",\"ur\",\"freezes\",\"choices\",\"episodes\",\"number\",\"deal\",\"monthly\",\"easier\",\"disappeared\",\"idea\",\"impossible\",\"sort\",\"display\",\"lets\",\"storage\",\"widget\",\"advertisement\",\"email\",\"theyre\",\"navigate\",\"notifications\",\"despite\",\"check\",\"deleting\",\"name\",\"coming\",\"lists\",\"crash\",\"waste\",\"menu\",\"services\",\"weird\",\"entire\",\"system\",\"simply\",\"company\",\"updating\",\"given\",\"forever\",\"desktop\",\"together\",\"care\",\"basically\",\"basic\",\"trial\",\"logged\",\"helps\",\"loop\",\"playpause\",\"media\",\"considering\",\"rewind\",\"minute\",\"damn\",\"took\",\"stream\",\"sleep\",\"although\",\"taking\",\"move\",\"came\",\"changing\",\"min\",\"shut\",\"reset\",\"ðÿž¶\",\"advertisements\",\"forced\",\"main\",\"headphones\",\"subscriber\",\"similar\",\"view\",\"short\",\"disappointing\",\"sounds\",\"run\",\"range\",\"scroll\",\"guess\",\"reviews\",\"moment\",\"save\",\"wants\",\"anywhere\",\"finally\",\"files\",\"n\",\"glitching\",\"member\",\"opinion\",\"lol\",\"functionality\",\"leave\",\"closed\",\"mix\",\"example\",\"computer\",\"cuts\",\"discover\",\"real\",\"happen\",\"shouldnt\",\"perfectly\",\"cutting\",\"small\",\"installed\",\"error\",\"uninterrupted\",\"yes\",\"broke\",\"twice\",\"barely\",\"tv\",\"via\",\"means\",\"gotten\",\"youll\",\"lose\",\"asking\",\"setting\",\"brilliant\",\"appreciate\",\"developers\",\"closes\",\"plz\",\"till\",\"swipe\",\"searching\",\"section\",\"low\",\"within\",\"tunes\",\"thinking\",\"link\",\"sudden\",\"hasnt\",\"favorites\",\"hearing\",\"improve\",\"suggest\",\"cuz\",\"taste\",\"enjoyed\",\"turns\",\"allows\",\"tab\",\"musics\",\"anytime\",\"trouble\",\"types\",\"mostly\",\"loving\",\"mixes\",\"god\",\"date\",\"mess\",\"searched\",\"absolute\",\"speaker\",\"created\",\"person\",\"newest\",\"country\",\"tap\",\"subscribe\",\"myself\",\"afford\",\"language\",\"normal\",\"yeah\",\"compared\",\"unlimited\",\"logging\",\"sad\",\"beginning\",\"figure\",\"restarted\",\"dumb\",\"lovers\",\"provide\",\"ultra\",\"sense\",\"saved\",\"sd\",\"youve\",\"loads\",\"bc\",\"none\",\"side\",\"password\",\"cut\",\"kept\",\"helpful\",\"switched\",\"group\",\"expensive\",\"nor\",\"laptop\",\"spend\",\"feels\",\"spot\",\"english\",\"experiencing\",\"believe\",\"adverts\",\"non\",\"local\",\"telling\",\"prefer\",\"normally\",\"space\",\"decided\",\"turning\",\"supposed\",\"re\",\"remember\",\"beautiful\",\"straight\",\"ruined\",\"decent\",\"major\",\"customers\",\"original\",\"solve\",\"expect\",\"functions\",\"satisfied\",\"personal\",\"tablet\",\"likes\",\"incredibly\",\"appears\",\"shuffling\",\"actual\",\"cleared\",\"freezing\",\"l\",\"advertising\",\"creating\",\"sign\",\"bought\",\"empty\",\"resolved\",\"removing\",\"cancelling\",\"rest\",\"manually\",\"sing\",\"selected\",\"immediately\",\"speakers\",\"solution\",\"layout\",\"ðÿ‘œ\",\"logo\",\"black\",\"along\",\"complete\",\"redownload\",\"forcing\",\"spotifys\",\"yesterday\",\"upgrade\",\"battery\",\"sorry\",\"buying\",\"convenient\",\"request\",\"waiting\",\"web\",\"rock\",\"looks\",\"night\",\"individual\",\"large\",\"suggestion\",\"autoplay\",\"locked\",\"hey\",\"miss\",\"words\",\"videos\",\"zero\",\"truly\",\"tired\",\"ðÿ˜š\",\"chose\",\"musical\",\"fully\",\"man\",\"unfortunately\",\"fan\",\"enjoyable\",\"putting\",\"complaint\",\"told\",\"platforms\",\"connecting\",\"oh\",\"fixes\",\"voice\",\"stay\",\"he\",\"message\",\"pain\",\"yt\",\"canceling\",\"mid\",\"read\",\"bands\",\"regularly\",\"exit\"],\"textposition\":\"bottom left\",\"x\":[1.1923795,0.7966223,3.0728831,0.4978992,1.0186752,0.3902332,0.7365167,3.8015215,3.9590957,4.3049784,3.9426234,0.7673478,0.8630675,1.8196914,-5.443631,0.9298098,-1.9440091,0.6366556,2.2914548,0.024498949,0.58837223,0.749914,0.09005892,2.3887968,-0.6244017,1.307828,0.57274854,1.4697883,0.9531317,-0.14838591,1.4414711,-0.93257815,4.2019954,0.18514198,1.4192054,-0.30472535,1.5606774,0.32769865,0.7846401,-0.26424593,0.8830122,2.4862146,-2.067664,-0.23235573,0.71845245,1.5137984,1.9211541,0.91673815,3.4507983,1.6071208,0.27363747,0.91288805,0.67369074,-1.1153934,3.0864668,1.9117891,0.22649132,-0.47448477,-1.5314792,-1.3538773,0.44372097,2.0442111,0.5363025,-4.612053,-0.6513742,0.84456646,-0.07948654,1.082448,0.5146501,-3.1170084,1.4709725,1.999755,2.373116,-0.30059096,0.7916738,-0.083188556,-0.87769425,1.9549664,-0.5714746,2.5392675,2.1412504,1.4453719,2.8752646,-0.54169774,-2.3199172,0.6401705,2.0960844,2.4206233,1.2037752,1.8536313,-5.037747,2.5123022,2.803246,-0.19918032,-2.5530574,2.693537,0.56419826,-2.837116,-0.48011518,1.2400194,2.433409,-1.7014631,-2.5359643,3.4549553,-0.9143017,0.25049722,0.51896775,-0.29935417,-0.63491327,-1.2187806,0.5624075,0.7361933,-1.5931605,-0.03139113,1.0078459,1.2342231,0.19352998,0.43237853,1.6727703,-0.23652741,0.7943885,-0.79117084,0.11285613,-1.1100903,2.2456937,3.7709584,0.6950921,1.0436054,0.3233444,0.48749143,-0.70519423,-0.7280893,1.2773505,1.4913065,1.5093584,-0.44412285,1.6507779,0.13649364,-0.9509,-1.2391965,0.85625345,1.1591761,0.360943,-0.07869621,-0.62767524,0.66317207,-0.9866083,1.0032525,1.5113132,1.8984692,-1.5967427,2.0604277,0.921997,-0.3091084,1.5113541,-1.3832554,1.5179054,0.44626522,1.7198075,-3.3887956,2.54326,1.3567157,2.8472579,1.0465089,-0.09121675,1.1277815,1.0125229,0.44168398,-1.2902143,0.5571844,-3.0923727,0.1905553,-0.3511587,-3.2156343,0.44924143,0.39585555,1.5772023,-0.15060756,0.7914489,-1.1804972,2.3359697,1.4361036,-1.128787,-1.3076957,0.22553754,-1.7168803,-0.17165317,-0.28026375,3.2691545,-2.4265163,1.0339459,0.048086908,-0.510217,0.53874016,1.1189852,3.7467492,0.16028684,3.0329754,0.89799815,0.90632594,0.5484983,1.2893511,0.4233791,3.186755,1.5878543,-0.2970789,-1.0951456,2.0039992,0.9532587,-0.73371917,2.18265,0.03463802,0.69900405,-0.09500815,2.7212489,2.771298,2.4420967,0.24329177,0.9366826,-0.21155028,0.2133595,-0.9608173,1.0300801,0.76737744,-0.042095963,-0.08051771,1.1395189,-0.17507556,1.354288,0.907469,1.3216312,-0.37262255,2.8701634,-2.9869642,-0.10614374,3.7826345,0.72066945,1.2878112,-0.48467958,1.6417261,1.7517078,0.56883216,-0.8609333,0.28228992,-1.6324934,1.1332012,0.17141072,-0.029836886,0.67683756,1.2284195,1.1341381,2.4271975,-1.7774465,2.0132897,0.41297346,0.14911605,0.7207473,1.3278327,0.37928572,2.0762963,0.41856557,2.3688848,-0.43626186,0.3939924,-2.1999326,1.1819237,0.5499048,0.051572543,-0.42650706,1.1151836,0.5937292,-0.81122875,-0.86706704,1.203923,0.44972947,1.9010843,0.04679913,-1.2573216,0.39565864,1.9028544,0.94101,2.0378,-0.9420282,-0.09274938,1.0103104,2.2356486,-0.7749778,-1.0915406,1.4042398,1.1670102,-2.3160794,2.1644576,-1.0468663,0.48361146,1.9937268,2.1802847,-0.029806752,0.55669147,1.5082017,2.705768,0.0031796577,1.0839888,-0.35926244,1.2848755,-0.36980867,1.0682226,1.423152,1.1948075,-4.342309,-2.5262568,-0.4468856,1.7565018,1.7510806,-0.26597852,0.06473088,0.22965358,0.4079219,2.3711524,0.08818802,-1.6766299,0.41020936,0.9118645,2.0807462,0.8430068,-1.507367,-0.9191194,-0.53335094,-0.27986544,0.39677396,-0.9028243,-3.272362,1.0641407,-1.0237991,0.5328637,-0.090801105,-1.4376833,0.7369958,-1.8903393,0.090206556,-3.336177,-1.1168158,0.16173033,-0.54003614,2.5885863,0.1378282,0.5980748,0.20554882,-0.9889804,0.29167688,1.3723793,-0.76798075,0.0046856864,0.82261163,-0.7363861,-0.24173453,0.2995818,0.43843728,-0.7319096,1.3517025,-0.65423316,2.458476,0.9921564,-0.23909387,0.61619234,1.8293781,1.3810998,-1.0938115,-0.5663897,1.0386931,1.4285899,0.79831105,2.028385,-0.46790272,0.7217025,0.5102764,0.87928414,-0.3034321,1.7665483,0.3921661,0.33561257,-1.6796697,0.4995747,1.0565147,0.36998186,0.8730597,0.0989822,0.055327255,1.5745964,-1.7714831,0.36267507,0.736941,0.04996012,1.099162,1.6365285,0.50691575,1.1365782,0.39906403,0.92852384,0.5535047,-0.05174532,1.959613,0.48384774,1.1701803,-0.18613368,-3.263264,0.32180533,3.0881839,-0.5326339,0.026646208,1.2717288,-0.635937,0.17398466,1.0086483,0.12911016,-1.557201,-0.12282159,0.15098363,-0.5757404,1.1276432,1.3043185,0.8865896,1.3339071,0.8165019,2.063706,-1.0746387,1.6498051,-0.8337793,2.4688902,0.076368384,1.7590322,0.46186137,1.3706272,1.7773459,-0.88241744,2.0445268,-0.8132882,0.95594424,0.80977684,1.0043235,1.2091857,0.38974473,-2.6829102,2.017643,1.1237959,-0.9280315,0.48613587,0.6697979,1.5742614,-0.7317659,0.8243333,0.5784248,1.2370071,-0.1434002,0.035634473,-0.09154336,0.03323711,0.8074695,0.7359406,-1.2847877,1.1222733,-0.48693633,0.69389343,-0.17370827,-0.44619185,1.2330118,1.2530782,-0.38791683,0.95835966,-0.48029053,1.2666608,1.3266075,-1.6691837,1.5347865,-2.5486898,0.14287075,-1.4870181,0.6220387,0.0017140763,1.3279643,-1.5684648,-3.003788,1.0336006,-0.772313,-0.7274256,0.18849528,0.96280557,0.27914315,1.321269,0.015011132,-0.13184182,0.30571255,0.4665003,2.1917284,0.4973951,1.716251,1.1191672,-0.51493526,-1.1073714,1.5728811,-0.042202592],\"y\":[-1.2531173,-0.830777,-3.1154487,-0.5431604,-1.1037067,-0.42184788,-0.79606366,-3.873618,-4.0049787,-4.3105063,-3.9735365,-0.8105478,-0.9386322,-1.913021,5.419894,-1.0117409,1.945234,-0.62149423,-2.3271916,-0.10384278,-0.6924873,-0.7585518,-0.070584364,-2.408849,0.54279417,-1.3653225,-0.597659,-1.5570221,-1.1043249,0.11454753,-1.5101533,0.90703905,-4.2079453,-0.12863189,-1.4748567,0.25909293,-1.5679759,-0.35678303,-0.88402957,0.24874799,-0.9317125,-2.513861,2.0126843,0.12979412,-0.68389237,-1.5567635,-1.9615204,-0.8624586,-3.4204922,-1.6307064,-0.32329533,-0.94617695,-0.6301867,1.1075643,-3.2174983,-1.9053236,-0.3152193,0.43015897,1.561246,1.3781223,-0.52457684,-2.1147556,-0.5446639,4.67843,0.6257498,-0.9392313,0.028104316,-1.1027254,-0.49490815,3.1241355,-1.4753051,-2.0013404,-2.4915946,0.20094196,-0.8546504,0.07115886,0.858032,-2.030718,0.46625823,-2.607591,-2.2353876,-1.5553406,-2.8852046,0.5562529,2.359124,-0.75229394,-2.181038,-2.3965523,-1.192737,-1.9584532,5.096702,-2.621679,-2.8517568,0.09129444,2.5966308,-2.6940372,-0.6567432,2.8823807,0.47251773,-1.2303268,-2.5550778,1.7611315,2.5660114,-3.410001,0.9148357,-0.2922185,-0.5460426,0.2927514,0.669748,1.288946,-0.652964,-0.8653878,1.6251236,0.11645623,-1.0702881,-1.3089174,-0.1920906,-0.44727,-1.7924055,0.23360111,-0.8041697,0.7175587,-0.18156585,1.1312151,-2.2280865,-3.7415352,-0.77218103,-1.0269443,-0.37994242,-0.5886761,0.67586553,0.6244581,-1.2975636,-1.6096874,-1.4870101,0.4364573,-1.6400613,-0.1701095,0.92716897,1.2769893,-0.9039499,-1.1125678,-0.3806507,0.0111244675,0.57254153,-0.6716603,0.9981646,-0.99464774,-1.5642099,-1.9975779,1.6410283,-2.038373,-0.89393175,0.28460604,-1.6075591,1.3018678,-1.6294165,-0.4937596,-1.6989093,3.3184078,-2.641904,-1.3987064,-2.8295135,-1.0770298,0.06398707,-1.10008,-1.0874473,-0.40006062,1.3380187,-0.56567353,3.1065023,-0.18965809,0.37322965,3.210781,-0.47697258,-0.46379152,-1.6571288,0.07924154,-0.84508735,1.1871846,-2.349453,-1.4353245,1.1695939,1.3267734,-0.24732418,1.6726208,0.15849476,0.23188429,-3.3723903,2.4655392,-1.0798209,-0.053529665,0.4963083,-0.58183444,-1.0315036,-3.846342,-0.14815822,-3.054641,-0.9682716,-0.93466854,-0.579923,-1.290048,-0.4856723,-3.2433774,-1.7041868,0.3086374,1.0615778,-2.0732243,-1.05498,0.7696107,-2.2669837,-0.055851556,-0.7130743,0.16304387,-2.7688277,-2.816556,-2.504194,-0.3458894,-0.9284754,0.24494681,-0.21874622,0.98273516,-1.0235012,-0.80842245,0.027285913,0.048214328,-1.2150592,0.14073537,-1.4301451,-0.9493102,-1.3581871,0.40422088,-2.8475513,2.9897838,0.061269086,-3.8717115,-0.79153913,-1.2672975,0.38378438,-1.6368469,-1.717873,-0.66169333,0.8145701,-0.34278974,1.5742177,-1.1232587,-0.20250234,0.036506705,-0.7049115,-1.1671062,-1.1238924,-2.5152996,1.8105937,-1.9633583,-0.51140124,-0.23132172,-0.83991855,-1.377209,-0.42301238,-2.1063797,-0.38242957,-2.4302204,0.42991343,-0.44104332,2.2867975,-1.2255502,-0.57991815,-0.08343486,0.44586682,-1.0964006,-0.5748008,0.84603965,0.8927431,-1.2256786,-0.4760204,-1.8750862,-0.06100152,1.2090396,-0.39174747,-1.9936197,-0.9815752,-2.0516627,0.97264755,0.07924094,-1.0321115,-2.3160539,0.7873434,1.0872527,-1.435336,-1.1673721,2.324508,-2.2248087,1.0259303,-0.47526607,-2.100614,-2.2172995,-0.04079816,-0.6604576,-1.5372064,-2.7676904,0.047171995,-1.080032,0.26775205,-1.2717482,0.3509123,-1.1844766,-1.3927869,-1.1676768,4.4411,2.5696795,0.43589804,-1.8043224,-1.753732,0.23564233,-0.06583852,-0.30908075,-0.42623875,-2.3881538,-0.04729173,1.7674387,-0.52595407,-0.911653,-2.109022,-0.94706535,1.4601271,0.89593387,0.4923737,0.30170068,-0.44508263,0.8712042,3.256606,-1.0718609,1.1027663,-0.64276934,0.14447883,1.4698786,-0.7759165,1.8627756,-0.11704535,3.3657014,1.0915914,-0.2488437,0.48448774,-2.6022267,-0.18840884,-0.54905224,-0.26246184,1.0031894,-0.2565785,-1.4163245,0.80959195,-0.028223954,-0.8289368,0.7605409,0.15478073,-0.29557997,-0.48939708,0.77307177,-1.389375,0.6058554,-2.465284,-0.94337946,0.16044062,-0.58751607,-1.8206961,-1.3255022,1.1592733,0.58778095,-1.0050125,-1.5277232,-0.789576,-1.9904225,0.4097235,-0.8055021,-0.51665115,-0.90196794,0.28714365,-1.8181736,-0.45327744,-0.3321021,1.6283946,-0.6043865,-1.0133682,-0.35158357,-0.9402569,-0.12620561,-0.11280221,-1.6226833,1.7113218,-0.34592623,-0.76026696,-0.043921087,-1.0827044,-1.6554226,-0.6169349,-1.0966709,-0.35322884,-1.0800185,-0.532708,0.06988037,-1.9586478,-0.44919732,-1.1254139,0.24853696,3.3003109,-0.3474661,-3.0906985,0.5184549,-0.09460771,-1.2741531,0.6223158,-0.19075567,-0.95985276,-0.12810963,1.5689439,0.091696866,-0.18974082,0.53812903,-1.2058638,-1.3620142,-0.91911364,-1.3411363,-0.9101649,-2.0832257,1.0994862,-1.6649896,0.8779781,-2.430152,-0.0779035,-1.7899275,-0.505975,-1.3694837,-1.7958742,0.9204215,-2.0542362,0.805116,-1.0010265,-0.8934019,-0.94065213,-1.1671824,-0.4679069,2.7879128,-2.0211172,-1.1432321,1.0030669,-0.58378035,-0.7258744,-1.6549505,0.7089243,-0.80718595,-0.6808053,-1.2035533,0.017283361,-0.016383762,0.08798623,0.005964964,-0.83891904,-0.81305075,1.2978066,-1.1132915,0.50016725,-0.6836792,0.17594773,0.46026024,-1.3301467,-1.2826622,0.35410798,-0.97301924,0.45197478,-1.3398943,-1.3714868,1.6765742,-1.6053987,2.577197,-0.19463103,1.5090333,-0.5976615,-0.097945616,-1.2690297,1.5992321,3.0177772,-1.0167937,0.8192345,0.6877513,-0.2243313,-1.0462158,-0.2947268,-1.312342,-0.010140182,0.1761627,-0.3556428,-0.48199937,-2.1973245,-0.47339064,-1.8251158,-1.1937374,0.53255355,1.090162,-1.6317266,-0.015273821],\"type\":\"scatter\"}],                        {\"hovermode\":\"closest\",\"title\":{\"text\":\"Word Embeddings\"},\"template\":{\"data\":{\"histogram2dcontour\":[{\"type\":\"histogram2dcontour\",\"colorbar\":{\"outlinewidth\":0,\"ticks\":\"\"},\"colorscale\":[[0.0,\"#0d0887\"],[0.1111111111111111,\"#46039f\"],[0.2222222222222222,\"#7201a8\"],[0.3333333333333333,\"#9c179e\"],[0.4444444444444444,\"#bd3786\"],[0.5555555555555556,\"#d8576b\"],[0.6666666666666666,\"#ed7953\"],[0.7777777777777778,\"#fb9f3a\"],[0.8888888888888888,\"#fdca26\"],[1.0,\"#f0f921\"]]}],\"choropleth\":[{\"type\":\"choropleth\",\"colorbar\":{\"outlinewidth\":0,\"ticks\":\"\"}}],\"histogram2d\":[{\"type\":\"histogram2d\",\"colorbar\":{\"outlinewidth\":0,\"ticks\":\"\"},\"colorscale\":[[0.0,\"#0d0887\"],[0.1111111111111111,\"#46039f\"],[0.2222222222222222,\"#7201a8\"],[0.3333333333333333,\"#9c179e\"],[0.4444444444444444,\"#bd3786\"],[0.5555555555555556,\"#d8576b\"],[0.6666666666666666,\"#ed7953\"],[0.7777777777777778,\"#fb9f3a\"],[0.8888888888888888,\"#fdca26\"],[1.0,\"#f0f921\"]]}],\"heatmap\":[{\"type\":\"heatmap\",\"colorbar\":{\"outlinewidth\":0,\"ticks\":\"\"},\"colorscale\":[[0.0,\"#0d0887\"],[0.1111111111111111,\"#46039f\"],[0.2222222222222222,\"#7201a8\"],[0.3333333333333333,\"#9c179e\"],[0.4444444444444444,\"#bd3786\"],[0.5555555555555556,\"#d8576b\"],[0.6666666666666666,\"#ed7953\"],[0.7777777777777778,\"#fb9f3a\"],[0.8888888888888888,\"#fdca26\"],[1.0,\"#f0f921\"]]}],\"heatmapgl\":[{\"type\":\"heatmapgl\",\"colorbar\":{\"outlinewidth\":0,\"ticks\":\"\"},\"colorscale\":[[0.0,\"#0d0887\"],[0.1111111111111111,\"#46039f\"],[0.2222222222222222,\"#7201a8\"],[0.3333333333333333,\"#9c179e\"],[0.4444444444444444,\"#bd3786\"],[0.5555555555555556,\"#d8576b\"],[0.6666666666666666,\"#ed7953\"],[0.7777777777777778,\"#fb9f3a\"],[0.8888888888888888,\"#fdca26\"],[1.0,\"#f0f921\"]]}],\"contourcarpet\":[{\"type\":\"contourcarpet\",\"colorbar\":{\"outlinewidth\":0,\"ticks\":\"\"}}],\"contour\":[{\"type\":\"contour\",\"colorbar\":{\"outlinewidth\":0,\"ticks\":\"\"},\"colorscale\":[[0.0,\"#0d0887\"],[0.1111111111111111,\"#46039f\"],[0.2222222222222222,\"#7201a8\"],[0.3333333333333333,\"#9c179e\"],[0.4444444444444444,\"#bd3786\"],[0.5555555555555556,\"#d8576b\"],[0.6666666666666666,\"#ed7953\"],[0.7777777777777778,\"#fb9f3a\"],[0.8888888888888888,\"#fdca26\"],[1.0,\"#f0f921\"]]}],\"surface\":[{\"type\":\"surface\",\"colorbar\":{\"outlinewidth\":0,\"ticks\":\"\"},\"colorscale\":[[0.0,\"#0d0887\"],[0.1111111111111111,\"#46039f\"],[0.2222222222222222,\"#7201a8\"],[0.3333333333333333,\"#9c179e\"],[0.4444444444444444,\"#bd3786\"],[0.5555555555555556,\"#d8576b\"],[0.6666666666666666,\"#ed7953\"],[0.7777777777777778,\"#fb9f3a\"],[0.8888888888888888,\"#fdca26\"],[1.0,\"#f0f921\"]]}],\"mesh3d\":[{\"type\":\"mesh3d\",\"colorbar\":{\"outlinewidth\":0,\"ticks\":\"\"}}],\"scatter\":[{\"fillpattern\":{\"fillmode\":\"overlay\",\"size\":10,\"solidity\":0.2},\"type\":\"scatter\"}],\"parcoords\":[{\"type\":\"parcoords\",\"line\":{\"colorbar\":{\"outlinewidth\":0,\"ticks\":\"\"}}}],\"scatterpolargl\":[{\"type\":\"scatterpolargl\",\"marker\":{\"colorbar\":{\"outlinewidth\":0,\"ticks\":\"\"}}}],\"bar\":[{\"error_x\":{\"color\":\"#2a3f5f\"},\"error_y\":{\"color\":\"#2a3f5f\"},\"marker\":{\"line\":{\"color\":\"#E5ECF6\",\"width\":0.5},\"pattern\":{\"fillmode\":\"overlay\",\"size\":10,\"solidity\":0.2}},\"type\":\"bar\"}],\"scattergeo\":[{\"type\":\"scattergeo\",\"marker\":{\"colorbar\":{\"outlinewidth\":0,\"ticks\":\"\"}}}],\"scatterpolar\":[{\"type\":\"scatterpolar\",\"marker\":{\"colorbar\":{\"outlinewidth\":0,\"ticks\":\"\"}}}],\"histogram\":[{\"marker\":{\"pattern\":{\"fillmode\":\"overlay\",\"size\":10,\"solidity\":0.2}},\"type\":\"histogram\"}],\"scattergl\":[{\"type\":\"scattergl\",\"marker\":{\"colorbar\":{\"outlinewidth\":0,\"ticks\":\"\"}}}],\"scatter3d\":[{\"type\":\"scatter3d\",\"line\":{\"colorbar\":{\"outlinewidth\":0,\"ticks\":\"\"}},\"marker\":{\"colorbar\":{\"outlinewidth\":0,\"ticks\":\"\"}}}],\"scattermapbox\":[{\"type\":\"scattermapbox\",\"marker\":{\"colorbar\":{\"outlinewidth\":0,\"ticks\":\"\"}}}],\"scatterternary\":[{\"type\":\"scatterternary\",\"marker\":{\"colorbar\":{\"outlinewidth\":0,\"ticks\":\"\"}}}],\"scattercarpet\":[{\"type\":\"scattercarpet\",\"marker\":{\"colorbar\":{\"outlinewidth\":0,\"ticks\":\"\"}}}],\"carpet\":[{\"aaxis\":{\"endlinecolor\":\"#2a3f5f\",\"gridcolor\":\"white\",\"linecolor\":\"white\",\"minorgridcolor\":\"white\",\"startlinecolor\":\"#2a3f5f\"},\"baxis\":{\"endlinecolor\":\"#2a3f5f\",\"gridcolor\":\"white\",\"linecolor\":\"white\",\"minorgridcolor\":\"white\",\"startlinecolor\":\"#2a3f5f\"},\"type\":\"carpet\"}],\"table\":[{\"cells\":{\"fill\":{\"color\":\"#EBF0F8\"},\"line\":{\"color\":\"white\"}},\"header\":{\"fill\":{\"color\":\"#C8D4E3\"},\"line\":{\"color\":\"white\"}},\"type\":\"table\"}],\"barpolar\":[{\"marker\":{\"line\":{\"color\":\"#E5ECF6\",\"width\":0.5},\"pattern\":{\"fillmode\":\"overlay\",\"size\":10,\"solidity\":0.2}},\"type\":\"barpolar\"}],\"pie\":[{\"automargin\":true,\"type\":\"pie\"}]},\"layout\":{\"autotypenumbers\":\"strict\",\"colorway\":[\"#636efa\",\"#EF553B\",\"#00cc96\",\"#ab63fa\",\"#FFA15A\",\"#19d3f3\",\"#FF6692\",\"#B6E880\",\"#FF97FF\",\"#FECB52\"],\"font\":{\"color\":\"#2a3f5f\"},\"hovermode\":\"closest\",\"hoverlabel\":{\"align\":\"left\"},\"paper_bgcolor\":\"white\",\"plot_bgcolor\":\"#E5ECF6\",\"polar\":{\"bgcolor\":\"#E5ECF6\",\"angularaxis\":{\"gridcolor\":\"white\",\"linecolor\":\"white\",\"ticks\":\"\"},\"radialaxis\":{\"gridcolor\":\"white\",\"linecolor\":\"white\",\"ticks\":\"\"}},\"ternary\":{\"bgcolor\":\"#E5ECF6\",\"aaxis\":{\"gridcolor\":\"white\",\"linecolor\":\"white\",\"ticks\":\"\"},\"baxis\":{\"gridcolor\":\"white\",\"linecolor\":\"white\",\"ticks\":\"\"},\"caxis\":{\"gridcolor\":\"white\",\"linecolor\":\"white\",\"ticks\":\"\"}},\"coloraxis\":{\"colorbar\":{\"outlinewidth\":0,\"ticks\":\"\"}},\"colorscale\":{\"sequential\":[[0.0,\"#0d0887\"],[0.1111111111111111,\"#46039f\"],[0.2222222222222222,\"#7201a8\"],[0.3333333333333333,\"#9c179e\"],[0.4444444444444444,\"#bd3786\"],[0.5555555555555556,\"#d8576b\"],[0.6666666666666666,\"#ed7953\"],[0.7777777777777778,\"#fb9f3a\"],[0.8888888888888888,\"#fdca26\"],[1.0,\"#f0f921\"]],\"sequentialminus\":[[0.0,\"#0d0887\"],[0.1111111111111111,\"#46039f\"],[0.2222222222222222,\"#7201a8\"],[0.3333333333333333,\"#9c179e\"],[0.4444444444444444,\"#bd3786\"],[0.5555555555555556,\"#d8576b\"],[0.6666666666666666,\"#ed7953\"],[0.7777777777777778,\"#fb9f3a\"],[0.8888888888888888,\"#fdca26\"],[1.0,\"#f0f921\"]],\"diverging\":[[0,\"#8e0152\"],[0.1,\"#c51b7d\"],[0.2,\"#de77ae\"],[0.3,\"#f1b6da\"],[0.4,\"#fde0ef\"],[0.5,\"#f7f7f7\"],[0.6,\"#e6f5d0\"],[0.7,\"#b8e186\"],[0.8,\"#7fbc41\"],[0.9,\"#4d9221\"],[1,\"#276419\"]]},\"xaxis\":{\"gridcolor\":\"white\",\"linecolor\":\"white\",\"ticks\":\"\",\"title\":{\"standoff\":15},\"zerolinecolor\":\"white\",\"automargin\":true,\"zerolinewidth\":2},\"yaxis\":{\"gridcolor\":\"white\",\"linecolor\":\"white\",\"ticks\":\"\",\"title\":{\"standoff\":15},\"zerolinecolor\":\"white\",\"automargin\":true,\"zerolinewidth\":2},\"scene\":{\"xaxis\":{\"backgroundcolor\":\"#E5ECF6\",\"gridcolor\":\"white\",\"linecolor\":\"white\",\"showbackground\":true,\"ticks\":\"\",\"zerolinecolor\":\"white\",\"gridwidth\":2},\"yaxis\":{\"backgroundcolor\":\"#E5ECF6\",\"gridcolor\":\"white\",\"linecolor\":\"white\",\"showbackground\":true,\"ticks\":\"\",\"zerolinecolor\":\"white\",\"gridwidth\":2},\"zaxis\":{\"backgroundcolor\":\"#E5ECF6\",\"gridcolor\":\"white\",\"linecolor\":\"white\",\"showbackground\":true,\"ticks\":\"\",\"zerolinecolor\":\"white\",\"gridwidth\":2}},\"shapedefaults\":{\"line\":{\"color\":\"#2a3f5f\"}},\"annotationdefaults\":{\"arrowcolor\":\"#2a3f5f\",\"arrowhead\":0,\"arrowwidth\":1},\"geo\":{\"bgcolor\":\"white\",\"landcolor\":\"#E5ECF6\",\"subunitcolor\":\"white\",\"showland\":true,\"showlakes\":true,\"lakecolor\":\"white\"},\"title\":{\"x\":0.05},\"mapbox\":{\"style\":\"light\"}}}},                        {\"responsive\": true}                    ).then(function(){\n",
              "                            \n",
              "var gd = document.getElementById('b0ea55d5-1bbd-4646-9f29-6af33003d12f');\n",
              "var x = new MutationObserver(function (mutations, observer) {{\n",
              "        var display = window.getComputedStyle(gd).display;\n",
              "        if (!display || display === 'none') {{\n",
              "            console.log([gd, 'removed!']);\n",
              "            Plotly.purge(gd);\n",
              "            observer.disconnect();\n",
              "        }}\n",
              "}});\n",
              "\n",
              "// Listen for the removal of the full notebook cells\n",
              "var notebookContainer = gd.closest('#notebook-container');\n",
              "if (notebookContainer) {{\n",
              "    x.observe(notebookContainer, {childList: true});\n",
              "}}\n",
              "\n",
              "// Listen for the clearing of the current output cell\n",
              "var outputEl = gd.closest('.output');\n",
              "if (outputEl) {{\n",
              "    x.observe(outputEl, {childList: true});\n",
              "}}\n",
              "\n",
              "                        })                };                            </script>        </div>\n",
              "</body>\n",
              "</html>"
            ]
          },
          "metadata": {}
        }
      ]
    },
    {
      "cell_type": "markdown",
      "source": [
        "---\n",
        "# Testing the Model"
      ],
      "metadata": {
        "id": "RbFEgmAcPSzU"
      }
    },
    {
      "cell_type": "code",
      "source": [
        "X_test_processed = preprocess_text_data(X_test, tokenizer, max_length=max_length, max_vocab_size=max_vocab_size)\n",
        "model.evaluate(X_test_processed, Y_test)"
      ],
      "metadata": {
        "colab": {
          "base_uri": "https://localhost:8080/"
        },
        "id": "KQ4jl_40PWF_",
        "outputId": "8f1c0825-8ac4-4c92-8dd6-b7d7018eb290"
      },
      "execution_count": 29,
      "outputs": [
        {
          "output_type": "stream",
          "name": "stdout",
          "text": [
            "\u001b[1m330/330\u001b[0m \u001b[32m━━━━━━━━━━━━━━━━━━━━\u001b[0m\u001b[37m\u001b[0m \u001b[1m2s\u001b[0m 4ms/step - accuracy: 0.8274 - loss: 0.3992\n"
          ]
        },
        {
          "output_type": "execute_result",
          "data": {
            "text/plain": [
              "[0.5225487947463989, 0.7451128959655762]"
            ]
          },
          "metadata": {},
          "execution_count": 29
        }
      ]
    },
    {
      "cell_type": "markdown",
      "source": [
        "# Demo"
      ],
      "metadata": {
        "id": "0L8WQNaLOY7M"
      }
    },
    {
      "cell_type": "code",
      "source": [
        "user_input = input(\"Enter a review: \")\n",
        "user_input = clean_text(user_input)\n",
        "\n",
        "user_prediction = model.predict(preprocess_text_data([user_input], tokenizer, max_length=max_length, max_vocab_size=max_vocab_size))\n",
        "print('Review speaks negatively' if user_prediction[0][0] < 0.6 else 'Review is speaks positively')"
      ],
      "metadata": {
        "colab": {
          "base_uri": "https://localhost:8080/"
        },
        "id": "NBiQUfDlO-5M",
        "outputId": "1087cd2b-7133-4356-a739-c99c8c978948"
      },
      "execution_count": 30,
      "outputs": [
        {
          "output_type": "stream",
          "name": "stdout",
          "text": [
            "Enter a review: This app doesn't have a lot of features.\n",
            "\u001b[1m1/1\u001b[0m \u001b[32m━━━━━━━━━━━━━━━━━━━━\u001b[0m\u001b[37m\u001b[0m \u001b[1m0s\u001b[0m 29ms/step\n",
            "Review speaks negatively\n"
          ]
        }
      ]
    },
    {
      "cell_type": "code",
      "source": [
        "user_input = input(\"Enter a review: \")\n",
        "user_input = clean_text(user_input)\n",
        "\n",
        "user_prediction = model.predict(preprocess_text_data([user_input], tokenizer, max_length=max_length, max_vocab_size=max_vocab_size))\n",
        "print('Review speaks negatively' if user_prediction[0][0] < 0.6 else 'Review is speaks positively')"
      ],
      "metadata": {
        "colab": {
          "base_uri": "https://localhost:8080/"
        },
        "id": "8tXAO8NLwzq4",
        "outputId": "3bc8dddc-d559-44dc-a5dc-bbcebce0cfa0"
      },
      "execution_count": 31,
      "outputs": [
        {
          "output_type": "stream",
          "name": "stdout",
          "text": [
            "Enter a review: I am in love with this app. Truly Unique!\n",
            "\u001b[1m1/1\u001b[0m \u001b[32m━━━━━━━━━━━━━━━━━━━━\u001b[0m\u001b[37m\u001b[0m \u001b[1m0s\u001b[0m 27ms/step\n",
            "Review is speaks positively\n"
          ]
        }
      ]
    }
  ]
}