{
  "nbformat": 4,
  "nbformat_minor": 0,
  "metadata": {
    "colab": {
      "provenance": [],
      "gpuType": "T4",
      "authorship_tag": "ABX9TyN/xv5Zg+rmg7QlUPXtmp+6",
      "include_colab_link": true
    },
    "kernelspec": {
      "name": "python3",
      "display_name": "Python 3"
    },
    "language_info": {
      "name": "python"
    },
    "accelerator": "GPU"
  },
  "cells": [
    {
      "cell_type": "markdown",
      "metadata": {
        "id": "view-in-github",
        "colab_type": "text"
      },
      "source": [
        "<a href=\"https://colab.research.google.com/github/czarolag/Spotify-Review---Sentimental-Analysis/blob/main/notebook/Spotify_Review_Prediction.ipynb\" target=\"_parent\"><img src=\"https://colab.research.google.com/assets/colab-badge.svg\" alt=\"Open In Colab\"/></a>"
      ]
    },
    {
      "cell_type": "markdown",
      "source": [
        "# Introduction\n",
        "\n",
        "## Our dataset\n",
        "This colab explores a dataset filled with reviews on the popular music app Spotify. These reviews are either positive and negative. You can find more about the dataset from Kaggle [here](https://www.kaggle.com/datasets/alexandrakim2201/spotify-dataset).\n",
        "\n",
        "&nbsp;\n",
        "## Our task\n",
        "The objective of our task is to create an model to predict whether a review is positive or negative based on the contents contained within the review. To complete this task we decided to implement a neural network. This model will be trained to have an acceptable accuracy rate to predict the proper type of review whether it describes the app in a positive manner or negative manner.\n",
        "\n",
        "&nbsp;\n",
        "\n",
        "Change runtime type to GPU if you want to run cells. Training times will take too long if running on CPU. To change run type, press the small arrow near `Connect` on the top right and press `Change runtime type` to `T4 GPU`. Also note you must run cells in order or errors may occur."
      ],
      "metadata": {
        "id": "TwyDZisGLxye"
      }
    },
    {
      "cell_type": "markdown",
      "source": [
        "---"
      ],
      "metadata": {
        "id": "krddsAEOMw4d"
      }
    },
    {
      "cell_type": "code",
      "source": [
        "# @title ## Getting our necessary imports (run this cell) { display-mode: \"form\" }\n",
        "import numpy as np\n",
        "from matplotlib import pyplot as plt\n",
        "import pandas as pd\n",
        "\n",
        "import seaborn as sns # for nicer plots\n",
        "sns.set(style='darkgrid') # default style\n",
        "import plotly.graph_objs as plotly  # for interactive plots\n",
        "\n",
        "import string\n",
        "import re\n",
        "\n",
        "import tensorflow as tf\n",
        "from google.colab import userdata\n",
        "import os"
      ],
      "metadata": {
        "id": "E4oi3fQnLPe5"
      },
      "execution_count": 6,
      "outputs": []
    },
    {
      "cell_type": "markdown",
      "source": [
        "## Dowloading our Dataset\n",
        "\n",
        "### Kaggle API\n",
        "Using the Kaggle API, we will download our dataset from Kaggle directly. This method requires a simple setup using the Google Colab 'Secrets' feature and obtaining a token from Kaggle.\n",
        "\n",
        "\n",
        "Help on this setup was obtained from a discussion board on [Kaggle](https://www.kaggle.com/discussions/general/74235#2580958)\n",
        "\n",
        "&nbsp;\n",
        "\n",
        "If help is required on this setup, follow the kaggle link.\n"
      ],
      "metadata": {
        "id": "DrDFy5KjLebI"
      }
    },
    {
      "cell_type": "code",
      "source": [
        "# Environmental variables must be set up for this method to work\n",
        "os.environ[\"KAGGLE_KEY\"] = userdata.get('KAGGLE_KEY')\n",
        "os.environ[\"KAGGLE_USERNAME\"] = userdata.get('KAGGLE_USERNAME')\n",
        "\n",
        "!kaggle datasets download -d alexandrakim2201/spotify-dataset\n",
        "!unzip -q 'spotify-dataset'"
      ],
      "metadata": {
        "colab": {
          "base_uri": "https://localhost:8080/"
        },
        "id": "GcsAPfoRLoJT",
        "outputId": "a87c22fb-bbd4-4876-8e6e-f8e558f68520"
      },
      "execution_count": 2,
      "outputs": [
        {
          "output_type": "stream",
          "name": "stdout",
          "text": [
            "Dataset URL: https://www.kaggle.com/datasets/alexandrakim2201/spotify-dataset\n",
            "License(s): Attribution-NonCommercial 4.0 International (CC BY-NC 4.0)\n",
            "Downloading spotify-dataset.zip to /content\n",
            "  0% 0.00/2.90M [00:00<?, ?B/s]\n",
            "100% 2.90M/2.90M [00:00<00:00, 1.13GB/s]\n"
          ]
        }
      ]
    },
    {
      "cell_type": "markdown",
      "source": [
        "---"
      ],
      "metadata": {
        "id": "nbn-cWnKMyVs"
      }
    },
    {
      "cell_type": "markdown",
      "source": [
        "---\n",
        "# Cleaning up and formatting our Dataset\n",
        "\n",
        "We must gather all our reviews into a dataset and format it to preprocess our data. To begin, we will create a DataFrame that will keep track of the the reviews."
      ],
      "metadata": {
        "id": "k4tJMIWlmZg-"
      }
    },
    {
      "cell_type": "code",
      "source": [
        "content_file = '/content/DATASET.csv'\n",
        "\n",
        "df = pd.read_csv(content_file)\n",
        "df.dropna(inplace=True)\n",
        "\n",
        "display(df)"
      ],
      "metadata": {
        "colab": {
          "base_uri": "https://localhost:8080/",
          "height": 423
        },
        "id": "0So8Es5PmpJO",
        "outputId": "ae04a08d-15fa-4672-a327-c812bc8baf91"
      },
      "execution_count": 3,
      "outputs": [
        {
          "output_type": "display_data",
          "data": {
            "text/plain": [
              "                                                  Review     label\n",
              "0      Great music service, the audio is high quality...  POSITIVE\n",
              "1      Please ignore previous negative rating. This a...  POSITIVE\n",
              "2      This pop-up \"Get the best Spotify experience o...  NEGATIVE\n",
              "3        Really buggy and terrible to use as of recently  NEGATIVE\n",
              "4      Dear Spotify why do I get songs that I didn't ...  NEGATIVE\n",
              "...                                                  ...       ...\n",
              "52697                                       Yes the best  POSITIVE\n",
              "52698  Spotify won my heart in Feb 2024 You won my he...  POSITIVE\n",
              "52699  I tried to open the app and it wont open I res...  POSITIVE\n",
              "52700                                              Good   POSITIVE\n",
              "52701  Nice app to play music and at very affordable ...  POSITIVE\n",
              "\n",
              "[52686 rows x 2 columns]"
            ],
            "text/html": [
              "\n",
              "  <div id=\"df-abb46524-2815-489c-a413-55d1e85d6a2d\" class=\"colab-df-container\">\n",
              "    <div>\n",
              "<style scoped>\n",
              "    .dataframe tbody tr th:only-of-type {\n",
              "        vertical-align: middle;\n",
              "    }\n",
              "\n",
              "    .dataframe tbody tr th {\n",
              "        vertical-align: top;\n",
              "    }\n",
              "\n",
              "    .dataframe thead th {\n",
              "        text-align: right;\n",
              "    }\n",
              "</style>\n",
              "<table border=\"1\" class=\"dataframe\">\n",
              "  <thead>\n",
              "    <tr style=\"text-align: right;\">\n",
              "      <th></th>\n",
              "      <th>Review</th>\n",
              "      <th>label</th>\n",
              "    </tr>\n",
              "  </thead>\n",
              "  <tbody>\n",
              "    <tr>\n",
              "      <th>0</th>\n",
              "      <td>Great music service, the audio is high quality...</td>\n",
              "      <td>POSITIVE</td>\n",
              "    </tr>\n",
              "    <tr>\n",
              "      <th>1</th>\n",
              "      <td>Please ignore previous negative rating. This a...</td>\n",
              "      <td>POSITIVE</td>\n",
              "    </tr>\n",
              "    <tr>\n",
              "      <th>2</th>\n",
              "      <td>This pop-up \"Get the best Spotify experience o...</td>\n",
              "      <td>NEGATIVE</td>\n",
              "    </tr>\n",
              "    <tr>\n",
              "      <th>3</th>\n",
              "      <td>Really buggy and terrible to use as of recently</td>\n",
              "      <td>NEGATIVE</td>\n",
              "    </tr>\n",
              "    <tr>\n",
              "      <th>4</th>\n",
              "      <td>Dear Spotify why do I get songs that I didn't ...</td>\n",
              "      <td>NEGATIVE</td>\n",
              "    </tr>\n",
              "    <tr>\n",
              "      <th>...</th>\n",
              "      <td>...</td>\n",
              "      <td>...</td>\n",
              "    </tr>\n",
              "    <tr>\n",
              "      <th>52697</th>\n",
              "      <td>Yes the best</td>\n",
              "      <td>POSITIVE</td>\n",
              "    </tr>\n",
              "    <tr>\n",
              "      <th>52698</th>\n",
              "      <td>Spotify won my heart in Feb 2024 You won my he...</td>\n",
              "      <td>POSITIVE</td>\n",
              "    </tr>\n",
              "    <tr>\n",
              "      <th>52699</th>\n",
              "      <td>I tried to open the app and it wont open I res...</td>\n",
              "      <td>POSITIVE</td>\n",
              "    </tr>\n",
              "    <tr>\n",
              "      <th>52700</th>\n",
              "      <td>Good</td>\n",
              "      <td>POSITIVE</td>\n",
              "    </tr>\n",
              "    <tr>\n",
              "      <th>52701</th>\n",
              "      <td>Nice app to play music and at very affordable ...</td>\n",
              "      <td>POSITIVE</td>\n",
              "    </tr>\n",
              "  </tbody>\n",
              "</table>\n",
              "<p>52686 rows × 2 columns</p>\n",
              "</div>\n",
              "    <div class=\"colab-df-buttons\">\n",
              "\n",
              "  <div class=\"colab-df-container\">\n",
              "    <button class=\"colab-df-convert\" onclick=\"convertToInteractive('df-abb46524-2815-489c-a413-55d1e85d6a2d')\"\n",
              "            title=\"Convert this dataframe to an interactive table.\"\n",
              "            style=\"display:none;\">\n",
              "\n",
              "  <svg xmlns=\"http://www.w3.org/2000/svg\" height=\"24px\" viewBox=\"0 -960 960 960\">\n",
              "    <path d=\"M120-120v-720h720v720H120Zm60-500h600v-160H180v160Zm220 220h160v-160H400v160Zm0 220h160v-160H400v160ZM180-400h160v-160H180v160Zm440 0h160v-160H620v160ZM180-180h160v-160H180v160Zm440 0h160v-160H620v160Z\"/>\n",
              "  </svg>\n",
              "    </button>\n",
              "\n",
              "  <style>\n",
              "    .colab-df-container {\n",
              "      display:flex;\n",
              "      gap: 12px;\n",
              "    }\n",
              "\n",
              "    .colab-df-convert {\n",
              "      background-color: #E8F0FE;\n",
              "      border: none;\n",
              "      border-radius: 50%;\n",
              "      cursor: pointer;\n",
              "      display: none;\n",
              "      fill: #1967D2;\n",
              "      height: 32px;\n",
              "      padding: 0 0 0 0;\n",
              "      width: 32px;\n",
              "    }\n",
              "\n",
              "    .colab-df-convert:hover {\n",
              "      background-color: #E2EBFA;\n",
              "      box-shadow: 0px 1px 2px rgba(60, 64, 67, 0.3), 0px 1px 3px 1px rgba(60, 64, 67, 0.15);\n",
              "      fill: #174EA6;\n",
              "    }\n",
              "\n",
              "    .colab-df-buttons div {\n",
              "      margin-bottom: 4px;\n",
              "    }\n",
              "\n",
              "    [theme=dark] .colab-df-convert {\n",
              "      background-color: #3B4455;\n",
              "      fill: #D2E3FC;\n",
              "    }\n",
              "\n",
              "    [theme=dark] .colab-df-convert:hover {\n",
              "      background-color: #434B5C;\n",
              "      box-shadow: 0px 1px 3px 1px rgba(0, 0, 0, 0.15);\n",
              "      filter: drop-shadow(0px 1px 2px rgba(0, 0, 0, 0.3));\n",
              "      fill: #FFFFFF;\n",
              "    }\n",
              "  </style>\n",
              "\n",
              "    <script>\n",
              "      const buttonEl =\n",
              "        document.querySelector('#df-abb46524-2815-489c-a413-55d1e85d6a2d button.colab-df-convert');\n",
              "      buttonEl.style.display =\n",
              "        google.colab.kernel.accessAllowed ? 'block' : 'none';\n",
              "\n",
              "      async function convertToInteractive(key) {\n",
              "        const element = document.querySelector('#df-abb46524-2815-489c-a413-55d1e85d6a2d');\n",
              "        const dataTable =\n",
              "          await google.colab.kernel.invokeFunction('convertToInteractive',\n",
              "                                                    [key], {});\n",
              "        if (!dataTable) return;\n",
              "\n",
              "        const docLinkHtml = 'Like what you see? Visit the ' +\n",
              "          '<a target=\"_blank\" href=https://colab.research.google.com/notebooks/data_table.ipynb>data table notebook</a>'\n",
              "          + ' to learn more about interactive tables.';\n",
              "        element.innerHTML = '';\n",
              "        dataTable['output_type'] = 'display_data';\n",
              "        await google.colab.output.renderOutput(dataTable, element);\n",
              "        const docLink = document.createElement('div');\n",
              "        docLink.innerHTML = docLinkHtml;\n",
              "        element.appendChild(docLink);\n",
              "      }\n",
              "    </script>\n",
              "  </div>\n",
              "\n",
              "\n",
              "    <div id=\"df-7777a533-7ee8-4702-89be-5918756ea3eb\">\n",
              "      <button class=\"colab-df-quickchart\" onclick=\"quickchart('df-7777a533-7ee8-4702-89be-5918756ea3eb')\"\n",
              "                title=\"Suggest charts\"\n",
              "                style=\"display:none;\">\n",
              "\n",
              "<svg xmlns=\"http://www.w3.org/2000/svg\" height=\"24px\"viewBox=\"0 0 24 24\"\n",
              "     width=\"24px\">\n",
              "    <g>\n",
              "        <path d=\"M19 3H5c-1.1 0-2 .9-2 2v14c0 1.1.9 2 2 2h14c1.1 0 2-.9 2-2V5c0-1.1-.9-2-2-2zM9 17H7v-7h2v7zm4 0h-2V7h2v10zm4 0h-2v-4h2v4z\"/>\n",
              "    </g>\n",
              "</svg>\n",
              "      </button>\n",
              "\n",
              "<style>\n",
              "  .colab-df-quickchart {\n",
              "      --bg-color: #E8F0FE;\n",
              "      --fill-color: #1967D2;\n",
              "      --hover-bg-color: #E2EBFA;\n",
              "      --hover-fill-color: #174EA6;\n",
              "      --disabled-fill-color: #AAA;\n",
              "      --disabled-bg-color: #DDD;\n",
              "  }\n",
              "\n",
              "  [theme=dark] .colab-df-quickchart {\n",
              "      --bg-color: #3B4455;\n",
              "      --fill-color: #D2E3FC;\n",
              "      --hover-bg-color: #434B5C;\n",
              "      --hover-fill-color: #FFFFFF;\n",
              "      --disabled-bg-color: #3B4455;\n",
              "      --disabled-fill-color: #666;\n",
              "  }\n",
              "\n",
              "  .colab-df-quickchart {\n",
              "    background-color: var(--bg-color);\n",
              "    border: none;\n",
              "    border-radius: 50%;\n",
              "    cursor: pointer;\n",
              "    display: none;\n",
              "    fill: var(--fill-color);\n",
              "    height: 32px;\n",
              "    padding: 0;\n",
              "    width: 32px;\n",
              "  }\n",
              "\n",
              "  .colab-df-quickchart:hover {\n",
              "    background-color: var(--hover-bg-color);\n",
              "    box-shadow: 0 1px 2px rgba(60, 64, 67, 0.3), 0 1px 3px 1px rgba(60, 64, 67, 0.15);\n",
              "    fill: var(--button-hover-fill-color);\n",
              "  }\n",
              "\n",
              "  .colab-df-quickchart-complete:disabled,\n",
              "  .colab-df-quickchart-complete:disabled:hover {\n",
              "    background-color: var(--disabled-bg-color);\n",
              "    fill: var(--disabled-fill-color);\n",
              "    box-shadow: none;\n",
              "  }\n",
              "\n",
              "  .colab-df-spinner {\n",
              "    border: 2px solid var(--fill-color);\n",
              "    border-color: transparent;\n",
              "    border-bottom-color: var(--fill-color);\n",
              "    animation:\n",
              "      spin 1s steps(1) infinite;\n",
              "  }\n",
              "\n",
              "  @keyframes spin {\n",
              "    0% {\n",
              "      border-color: transparent;\n",
              "      border-bottom-color: var(--fill-color);\n",
              "      border-left-color: var(--fill-color);\n",
              "    }\n",
              "    20% {\n",
              "      border-color: transparent;\n",
              "      border-left-color: var(--fill-color);\n",
              "      border-top-color: var(--fill-color);\n",
              "    }\n",
              "    30% {\n",
              "      border-color: transparent;\n",
              "      border-left-color: var(--fill-color);\n",
              "      border-top-color: var(--fill-color);\n",
              "      border-right-color: var(--fill-color);\n",
              "    }\n",
              "    40% {\n",
              "      border-color: transparent;\n",
              "      border-right-color: var(--fill-color);\n",
              "      border-top-color: var(--fill-color);\n",
              "    }\n",
              "    60% {\n",
              "      border-color: transparent;\n",
              "      border-right-color: var(--fill-color);\n",
              "    }\n",
              "    80% {\n",
              "      border-color: transparent;\n",
              "      border-right-color: var(--fill-color);\n",
              "      border-bottom-color: var(--fill-color);\n",
              "    }\n",
              "    90% {\n",
              "      border-color: transparent;\n",
              "      border-bottom-color: var(--fill-color);\n",
              "    }\n",
              "  }\n",
              "</style>\n",
              "\n",
              "      <script>\n",
              "        async function quickchart(key) {\n",
              "          const quickchartButtonEl =\n",
              "            document.querySelector('#' + key + ' button');\n",
              "          quickchartButtonEl.disabled = true;  // To prevent multiple clicks.\n",
              "          quickchartButtonEl.classList.add('colab-df-spinner');\n",
              "          try {\n",
              "            const charts = await google.colab.kernel.invokeFunction(\n",
              "                'suggestCharts', [key], {});\n",
              "          } catch (error) {\n",
              "            console.error('Error during call to suggestCharts:', error);\n",
              "          }\n",
              "          quickchartButtonEl.classList.remove('colab-df-spinner');\n",
              "          quickchartButtonEl.classList.add('colab-df-quickchart-complete');\n",
              "        }\n",
              "        (() => {\n",
              "          let quickchartButtonEl =\n",
              "            document.querySelector('#df-7777a533-7ee8-4702-89be-5918756ea3eb button');\n",
              "          quickchartButtonEl.style.display =\n",
              "            google.colab.kernel.accessAllowed ? 'block' : 'none';\n",
              "        })();\n",
              "      </script>\n",
              "    </div>\n",
              "\n",
              "  <div id=\"id_846f2dd5-b7a1-4194-ab0e-23516226dba4\">\n",
              "    <style>\n",
              "      .colab-df-generate {\n",
              "        background-color: #E8F0FE;\n",
              "        border: none;\n",
              "        border-radius: 50%;\n",
              "        cursor: pointer;\n",
              "        display: none;\n",
              "        fill: #1967D2;\n",
              "        height: 32px;\n",
              "        padding: 0 0 0 0;\n",
              "        width: 32px;\n",
              "      }\n",
              "\n",
              "      .colab-df-generate:hover {\n",
              "        background-color: #E2EBFA;\n",
              "        box-shadow: 0px 1px 2px rgba(60, 64, 67, 0.3), 0px 1px 3px 1px rgba(60, 64, 67, 0.15);\n",
              "        fill: #174EA6;\n",
              "      }\n",
              "\n",
              "      [theme=dark] .colab-df-generate {\n",
              "        background-color: #3B4455;\n",
              "        fill: #D2E3FC;\n",
              "      }\n",
              "\n",
              "      [theme=dark] .colab-df-generate:hover {\n",
              "        background-color: #434B5C;\n",
              "        box-shadow: 0px 1px 3px 1px rgba(0, 0, 0, 0.15);\n",
              "        filter: drop-shadow(0px 1px 2px rgba(0, 0, 0, 0.3));\n",
              "        fill: #FFFFFF;\n",
              "      }\n",
              "    </style>\n",
              "    <button class=\"colab-df-generate\" onclick=\"generateWithVariable('df')\"\n",
              "            title=\"Generate code using this dataframe.\"\n",
              "            style=\"display:none;\">\n",
              "\n",
              "  <svg xmlns=\"http://www.w3.org/2000/svg\" height=\"24px\"viewBox=\"0 0 24 24\"\n",
              "       width=\"24px\">\n",
              "    <path d=\"M7,19H8.4L18.45,9,17,7.55,7,17.6ZM5,21V16.75L18.45,3.32a2,2,0,0,1,2.83,0l1.4,1.43a1.91,1.91,0,0,1,.58,1.4,1.91,1.91,0,0,1-.58,1.4L9.25,21ZM18.45,9,17,7.55Zm-12,3A5.31,5.31,0,0,0,4.9,8.1,5.31,5.31,0,0,0,1,6.5,5.31,5.31,0,0,0,4.9,4.9,5.31,5.31,0,0,0,6.5,1,5.31,5.31,0,0,0,8.1,4.9,5.31,5.31,0,0,0,12,6.5,5.46,5.46,0,0,0,6.5,12Z\"/>\n",
              "  </svg>\n",
              "    </button>\n",
              "    <script>\n",
              "      (() => {\n",
              "      const buttonEl =\n",
              "        document.querySelector('#id_846f2dd5-b7a1-4194-ab0e-23516226dba4 button.colab-df-generate');\n",
              "      buttonEl.style.display =\n",
              "        google.colab.kernel.accessAllowed ? 'block' : 'none';\n",
              "\n",
              "      buttonEl.onclick = () => {\n",
              "        google.colab.notebook.generateWithVariable('df');\n",
              "      }\n",
              "      })();\n",
              "    </script>\n",
              "  </div>\n",
              "\n",
              "    </div>\n",
              "  </div>\n"
            ],
            "application/vnd.google.colaboratory.intrinsic+json": {
              "type": "dataframe",
              "variable_name": "df",
              "summary": "{\n  \"name\": \"df\",\n  \"rows\": 52686,\n  \"fields\": [\n    {\n      \"column\": \"Review\",\n      \"properties\": {\n        \"dtype\": \"string\",\n        \"num_unique_values\": 51472,\n        \"samples\": [\n          \"What's the point of being able to download music if it's just going to delete my downloaded music the day after and force me to go back online after if I want to listen to my downloaded music? Stick to Apple Music or Tidal. Spotify doesn't care for it's users.\",\n          \"Media buttons disappear after a while, so you lose control of the app. Please fix this bug as soon as possible, as it leaves the app unusable.\",\n          \"The app loses a part of its interface, in which the app needs to be force closed for it to return. Frustrating to do that a dozen times every day.\"\n        ],\n        \"semantic_type\": \"\",\n        \"description\": \"\"\n      }\n    },\n    {\n      \"column\": \"label\",\n      \"properties\": {\n        \"dtype\": \"category\",\n        \"num_unique_values\": 2,\n        \"samples\": [\n          \"NEGATIVE\",\n          \"POSITIVE\"\n        ],\n        \"semantic_type\": \"\",\n        \"description\": \"\"\n      }\n    }\n  ]\n}"
            }
          },
          "metadata": {}
        }
      ]
    },
    {
      "cell_type": "code",
      "source": [
        "def label_to_num(s):\n",
        "  if s.lower() == 'negative':\n",
        "    return 0\n",
        "  else:\n",
        "    return 1"
      ],
      "metadata": {
        "id": "9uRCDztjp-KW"
      },
      "execution_count": 4,
      "outputs": []
    },
    {
      "cell_type": "code",
      "source": [
        "# Cleaning the text\n",
        "def clean_text(text):\n",
        "    '''Make text lowercase, remove text in square brackets,\n",
        "    remove links, remove punctuation\n",
        "    and remove words containing numbers.'''\n",
        "    text = str(text).lower()\n",
        "    text = re.sub(r'\\[.*?\\]', '', text)\n",
        "    text = re.sub(r'https?://\\S+|www\\.\\S+', '', text)\n",
        "    text = re.sub(r'<.*?>+', '', text)\n",
        "    text = re.sub(r'[%s]' % re.escape(string.punctuation), '', text)\n",
        "    text = re.sub(r'\\n', '', text)\n",
        "    text = re.sub(r'\\w*\\d\\w*', '', text)\n",
        "    return text"
      ],
      "metadata": {
        "id": "O3dVsjWhEYTZ"
      },
      "execution_count": 7,
      "outputs": []
    },
    {
      "cell_type": "code",
      "source": [
        "review_label = ['negative', 'positive']\n",
        "\n",
        "# clean text and change labels to 0 or 1 (negative, positive)\n",
        "df['label'] = df['label'].apply(label_to_num)\n",
        "df['Review'] = df['Review'].apply(clean_text)\n",
        "\n",
        "\n",
        "display(df)"
      ],
      "metadata": {
        "colab": {
          "base_uri": "https://localhost:8080/",
          "height": 423
        },
        "id": "XFqlw7k6qx1G",
        "outputId": "72722258-f2b8-4eee-ab07-19260a94a366"
      },
      "execution_count": 8,
      "outputs": [
        {
          "output_type": "display_data",
          "data": {
            "text/plain": [
              "                                                  Review  label\n",
              "0      great music service the audio is high quality ...      1\n",
              "1      please ignore previous negative rating this ap...      1\n",
              "2      this popup get the best spotify experience on ...      0\n",
              "3        really buggy and terrible to use as of recently      0\n",
              "4      dear spotify why do i get songs that i didnt p...      0\n",
              "...                                                  ...    ...\n",
              "52697                                       yes the best      1\n",
              "52698  spotify won my heart in feb  you won my heart ...      1\n",
              "52699  i tried to open the app and it wont open i res...      1\n",
              "52700                                              good       1\n",
              "52701  nice app to play music and at very affordable ...      1\n",
              "\n",
              "[52686 rows x 2 columns]"
            ],
            "text/html": [
              "\n",
              "  <div id=\"df-68aca5e9-61ea-4a18-aa43-566321866b64\" class=\"colab-df-container\">\n",
              "    <div>\n",
              "<style scoped>\n",
              "    .dataframe tbody tr th:only-of-type {\n",
              "        vertical-align: middle;\n",
              "    }\n",
              "\n",
              "    .dataframe tbody tr th {\n",
              "        vertical-align: top;\n",
              "    }\n",
              "\n",
              "    .dataframe thead th {\n",
              "        text-align: right;\n",
              "    }\n",
              "</style>\n",
              "<table border=\"1\" class=\"dataframe\">\n",
              "  <thead>\n",
              "    <tr style=\"text-align: right;\">\n",
              "      <th></th>\n",
              "      <th>Review</th>\n",
              "      <th>label</th>\n",
              "    </tr>\n",
              "  </thead>\n",
              "  <tbody>\n",
              "    <tr>\n",
              "      <th>0</th>\n",
              "      <td>great music service the audio is high quality ...</td>\n",
              "      <td>1</td>\n",
              "    </tr>\n",
              "    <tr>\n",
              "      <th>1</th>\n",
              "      <td>please ignore previous negative rating this ap...</td>\n",
              "      <td>1</td>\n",
              "    </tr>\n",
              "    <tr>\n",
              "      <th>2</th>\n",
              "      <td>this popup get the best spotify experience on ...</td>\n",
              "      <td>0</td>\n",
              "    </tr>\n",
              "    <tr>\n",
              "      <th>3</th>\n",
              "      <td>really buggy and terrible to use as of recently</td>\n",
              "      <td>0</td>\n",
              "    </tr>\n",
              "    <tr>\n",
              "      <th>4</th>\n",
              "      <td>dear spotify why do i get songs that i didnt p...</td>\n",
              "      <td>0</td>\n",
              "    </tr>\n",
              "    <tr>\n",
              "      <th>...</th>\n",
              "      <td>...</td>\n",
              "      <td>...</td>\n",
              "    </tr>\n",
              "    <tr>\n",
              "      <th>52697</th>\n",
              "      <td>yes the best</td>\n",
              "      <td>1</td>\n",
              "    </tr>\n",
              "    <tr>\n",
              "      <th>52698</th>\n",
              "      <td>spotify won my heart in feb  you won my heart ...</td>\n",
              "      <td>1</td>\n",
              "    </tr>\n",
              "    <tr>\n",
              "      <th>52699</th>\n",
              "      <td>i tried to open the app and it wont open i res...</td>\n",
              "      <td>1</td>\n",
              "    </tr>\n",
              "    <tr>\n",
              "      <th>52700</th>\n",
              "      <td>good</td>\n",
              "      <td>1</td>\n",
              "    </tr>\n",
              "    <tr>\n",
              "      <th>52701</th>\n",
              "      <td>nice app to play music and at very affordable ...</td>\n",
              "      <td>1</td>\n",
              "    </tr>\n",
              "  </tbody>\n",
              "</table>\n",
              "<p>52686 rows × 2 columns</p>\n",
              "</div>\n",
              "    <div class=\"colab-df-buttons\">\n",
              "\n",
              "  <div class=\"colab-df-container\">\n",
              "    <button class=\"colab-df-convert\" onclick=\"convertToInteractive('df-68aca5e9-61ea-4a18-aa43-566321866b64')\"\n",
              "            title=\"Convert this dataframe to an interactive table.\"\n",
              "            style=\"display:none;\">\n",
              "\n",
              "  <svg xmlns=\"http://www.w3.org/2000/svg\" height=\"24px\" viewBox=\"0 -960 960 960\">\n",
              "    <path d=\"M120-120v-720h720v720H120Zm60-500h600v-160H180v160Zm220 220h160v-160H400v160Zm0 220h160v-160H400v160ZM180-400h160v-160H180v160Zm440 0h160v-160H620v160ZM180-180h160v-160H180v160Zm440 0h160v-160H620v160Z\"/>\n",
              "  </svg>\n",
              "    </button>\n",
              "\n",
              "  <style>\n",
              "    .colab-df-container {\n",
              "      display:flex;\n",
              "      gap: 12px;\n",
              "    }\n",
              "\n",
              "    .colab-df-convert {\n",
              "      background-color: #E8F0FE;\n",
              "      border: none;\n",
              "      border-radius: 50%;\n",
              "      cursor: pointer;\n",
              "      display: none;\n",
              "      fill: #1967D2;\n",
              "      height: 32px;\n",
              "      padding: 0 0 0 0;\n",
              "      width: 32px;\n",
              "    }\n",
              "\n",
              "    .colab-df-convert:hover {\n",
              "      background-color: #E2EBFA;\n",
              "      box-shadow: 0px 1px 2px rgba(60, 64, 67, 0.3), 0px 1px 3px 1px rgba(60, 64, 67, 0.15);\n",
              "      fill: #174EA6;\n",
              "    }\n",
              "\n",
              "    .colab-df-buttons div {\n",
              "      margin-bottom: 4px;\n",
              "    }\n",
              "\n",
              "    [theme=dark] .colab-df-convert {\n",
              "      background-color: #3B4455;\n",
              "      fill: #D2E3FC;\n",
              "    }\n",
              "\n",
              "    [theme=dark] .colab-df-convert:hover {\n",
              "      background-color: #434B5C;\n",
              "      box-shadow: 0px 1px 3px 1px rgba(0, 0, 0, 0.15);\n",
              "      filter: drop-shadow(0px 1px 2px rgba(0, 0, 0, 0.3));\n",
              "      fill: #FFFFFF;\n",
              "    }\n",
              "  </style>\n",
              "\n",
              "    <script>\n",
              "      const buttonEl =\n",
              "        document.querySelector('#df-68aca5e9-61ea-4a18-aa43-566321866b64 button.colab-df-convert');\n",
              "      buttonEl.style.display =\n",
              "        google.colab.kernel.accessAllowed ? 'block' : 'none';\n",
              "\n",
              "      async function convertToInteractive(key) {\n",
              "        const element = document.querySelector('#df-68aca5e9-61ea-4a18-aa43-566321866b64');\n",
              "        const dataTable =\n",
              "          await google.colab.kernel.invokeFunction('convertToInteractive',\n",
              "                                                    [key], {});\n",
              "        if (!dataTable) return;\n",
              "\n",
              "        const docLinkHtml = 'Like what you see? Visit the ' +\n",
              "          '<a target=\"_blank\" href=https://colab.research.google.com/notebooks/data_table.ipynb>data table notebook</a>'\n",
              "          + ' to learn more about interactive tables.';\n",
              "        element.innerHTML = '';\n",
              "        dataTable['output_type'] = 'display_data';\n",
              "        await google.colab.output.renderOutput(dataTable, element);\n",
              "        const docLink = document.createElement('div');\n",
              "        docLink.innerHTML = docLinkHtml;\n",
              "        element.appendChild(docLink);\n",
              "      }\n",
              "    </script>\n",
              "  </div>\n",
              "\n",
              "\n",
              "    <div id=\"df-cae59c34-81ba-4048-9430-7cdf77e40bad\">\n",
              "      <button class=\"colab-df-quickchart\" onclick=\"quickchart('df-cae59c34-81ba-4048-9430-7cdf77e40bad')\"\n",
              "                title=\"Suggest charts\"\n",
              "                style=\"display:none;\">\n",
              "\n",
              "<svg xmlns=\"http://www.w3.org/2000/svg\" height=\"24px\"viewBox=\"0 0 24 24\"\n",
              "     width=\"24px\">\n",
              "    <g>\n",
              "        <path d=\"M19 3H5c-1.1 0-2 .9-2 2v14c0 1.1.9 2 2 2h14c1.1 0 2-.9 2-2V5c0-1.1-.9-2-2-2zM9 17H7v-7h2v7zm4 0h-2V7h2v10zm4 0h-2v-4h2v4z\"/>\n",
              "    </g>\n",
              "</svg>\n",
              "      </button>\n",
              "\n",
              "<style>\n",
              "  .colab-df-quickchart {\n",
              "      --bg-color: #E8F0FE;\n",
              "      --fill-color: #1967D2;\n",
              "      --hover-bg-color: #E2EBFA;\n",
              "      --hover-fill-color: #174EA6;\n",
              "      --disabled-fill-color: #AAA;\n",
              "      --disabled-bg-color: #DDD;\n",
              "  }\n",
              "\n",
              "  [theme=dark] .colab-df-quickchart {\n",
              "      --bg-color: #3B4455;\n",
              "      --fill-color: #D2E3FC;\n",
              "      --hover-bg-color: #434B5C;\n",
              "      --hover-fill-color: #FFFFFF;\n",
              "      --disabled-bg-color: #3B4455;\n",
              "      --disabled-fill-color: #666;\n",
              "  }\n",
              "\n",
              "  .colab-df-quickchart {\n",
              "    background-color: var(--bg-color);\n",
              "    border: none;\n",
              "    border-radius: 50%;\n",
              "    cursor: pointer;\n",
              "    display: none;\n",
              "    fill: var(--fill-color);\n",
              "    height: 32px;\n",
              "    padding: 0;\n",
              "    width: 32px;\n",
              "  }\n",
              "\n",
              "  .colab-df-quickchart:hover {\n",
              "    background-color: var(--hover-bg-color);\n",
              "    box-shadow: 0 1px 2px rgba(60, 64, 67, 0.3), 0 1px 3px 1px rgba(60, 64, 67, 0.15);\n",
              "    fill: var(--button-hover-fill-color);\n",
              "  }\n",
              "\n",
              "  .colab-df-quickchart-complete:disabled,\n",
              "  .colab-df-quickchart-complete:disabled:hover {\n",
              "    background-color: var(--disabled-bg-color);\n",
              "    fill: var(--disabled-fill-color);\n",
              "    box-shadow: none;\n",
              "  }\n",
              "\n",
              "  .colab-df-spinner {\n",
              "    border: 2px solid var(--fill-color);\n",
              "    border-color: transparent;\n",
              "    border-bottom-color: var(--fill-color);\n",
              "    animation:\n",
              "      spin 1s steps(1) infinite;\n",
              "  }\n",
              "\n",
              "  @keyframes spin {\n",
              "    0% {\n",
              "      border-color: transparent;\n",
              "      border-bottom-color: var(--fill-color);\n",
              "      border-left-color: var(--fill-color);\n",
              "    }\n",
              "    20% {\n",
              "      border-color: transparent;\n",
              "      border-left-color: var(--fill-color);\n",
              "      border-top-color: var(--fill-color);\n",
              "    }\n",
              "    30% {\n",
              "      border-color: transparent;\n",
              "      border-left-color: var(--fill-color);\n",
              "      border-top-color: var(--fill-color);\n",
              "      border-right-color: var(--fill-color);\n",
              "    }\n",
              "    40% {\n",
              "      border-color: transparent;\n",
              "      border-right-color: var(--fill-color);\n",
              "      border-top-color: var(--fill-color);\n",
              "    }\n",
              "    60% {\n",
              "      border-color: transparent;\n",
              "      border-right-color: var(--fill-color);\n",
              "    }\n",
              "    80% {\n",
              "      border-color: transparent;\n",
              "      border-right-color: var(--fill-color);\n",
              "      border-bottom-color: var(--fill-color);\n",
              "    }\n",
              "    90% {\n",
              "      border-color: transparent;\n",
              "      border-bottom-color: var(--fill-color);\n",
              "    }\n",
              "  }\n",
              "</style>\n",
              "\n",
              "      <script>\n",
              "        async function quickchart(key) {\n",
              "          const quickchartButtonEl =\n",
              "            document.querySelector('#' + key + ' button');\n",
              "          quickchartButtonEl.disabled = true;  // To prevent multiple clicks.\n",
              "          quickchartButtonEl.classList.add('colab-df-spinner');\n",
              "          try {\n",
              "            const charts = await google.colab.kernel.invokeFunction(\n",
              "                'suggestCharts', [key], {});\n",
              "          } catch (error) {\n",
              "            console.error('Error during call to suggestCharts:', error);\n",
              "          }\n",
              "          quickchartButtonEl.classList.remove('colab-df-spinner');\n",
              "          quickchartButtonEl.classList.add('colab-df-quickchart-complete');\n",
              "        }\n",
              "        (() => {\n",
              "          let quickchartButtonEl =\n",
              "            document.querySelector('#df-cae59c34-81ba-4048-9430-7cdf77e40bad button');\n",
              "          quickchartButtonEl.style.display =\n",
              "            google.colab.kernel.accessAllowed ? 'block' : 'none';\n",
              "        })();\n",
              "      </script>\n",
              "    </div>\n",
              "\n",
              "  <div id=\"id_b9d7b8a2-59b8-4e34-93c6-f0886a51f66a\">\n",
              "    <style>\n",
              "      .colab-df-generate {\n",
              "        background-color: #E8F0FE;\n",
              "        border: none;\n",
              "        border-radius: 50%;\n",
              "        cursor: pointer;\n",
              "        display: none;\n",
              "        fill: #1967D2;\n",
              "        height: 32px;\n",
              "        padding: 0 0 0 0;\n",
              "        width: 32px;\n",
              "      }\n",
              "\n",
              "      .colab-df-generate:hover {\n",
              "        background-color: #E2EBFA;\n",
              "        box-shadow: 0px 1px 2px rgba(60, 64, 67, 0.3), 0px 1px 3px 1px rgba(60, 64, 67, 0.15);\n",
              "        fill: #174EA6;\n",
              "      }\n",
              "\n",
              "      [theme=dark] .colab-df-generate {\n",
              "        background-color: #3B4455;\n",
              "        fill: #D2E3FC;\n",
              "      }\n",
              "\n",
              "      [theme=dark] .colab-df-generate:hover {\n",
              "        background-color: #434B5C;\n",
              "        box-shadow: 0px 1px 3px 1px rgba(0, 0, 0, 0.15);\n",
              "        filter: drop-shadow(0px 1px 2px rgba(0, 0, 0, 0.3));\n",
              "        fill: #FFFFFF;\n",
              "      }\n",
              "    </style>\n",
              "    <button class=\"colab-df-generate\" onclick=\"generateWithVariable('df')\"\n",
              "            title=\"Generate code using this dataframe.\"\n",
              "            style=\"display:none;\">\n",
              "\n",
              "  <svg xmlns=\"http://www.w3.org/2000/svg\" height=\"24px\"viewBox=\"0 0 24 24\"\n",
              "       width=\"24px\">\n",
              "    <path d=\"M7,19H8.4L18.45,9,17,7.55,7,17.6ZM5,21V16.75L18.45,3.32a2,2,0,0,1,2.83,0l1.4,1.43a1.91,1.91,0,0,1,.58,1.4,1.91,1.91,0,0,1-.58,1.4L9.25,21ZM18.45,9,17,7.55Zm-12,3A5.31,5.31,0,0,0,4.9,8.1,5.31,5.31,0,0,0,1,6.5,5.31,5.31,0,0,0,4.9,4.9,5.31,5.31,0,0,0,6.5,1,5.31,5.31,0,0,0,8.1,4.9,5.31,5.31,0,0,0,12,6.5,5.46,5.46,0,0,0,6.5,12Z\"/>\n",
              "  </svg>\n",
              "    </button>\n",
              "    <script>\n",
              "      (() => {\n",
              "      const buttonEl =\n",
              "        document.querySelector('#id_b9d7b8a2-59b8-4e34-93c6-f0886a51f66a button.colab-df-generate');\n",
              "      buttonEl.style.display =\n",
              "        google.colab.kernel.accessAllowed ? 'block' : 'none';\n",
              "\n",
              "      buttonEl.onclick = () => {\n",
              "        google.colab.notebook.generateWithVariable('df');\n",
              "      }\n",
              "      })();\n",
              "    </script>\n",
              "  </div>\n",
              "\n",
              "    </div>\n",
              "  </div>\n"
            ],
            "application/vnd.google.colaboratory.intrinsic+json": {
              "type": "dataframe",
              "variable_name": "df",
              "summary": "{\n  \"name\": \"df\",\n  \"rows\": 52686,\n  \"fields\": [\n    {\n      \"column\": \"Review\",\n      \"properties\": {\n        \"dtype\": \"string\",\n        \"num_unique_values\": 51214,\n        \"samples\": [\n          \"i love spotify because it gives you so many wonderful options to discover\",\n          \"disappears on android auto often spotify trying to be too helpful on making the app easier to use it is actually a backwards step\",\n          \"easy to operate has a great variety of different types of music to listen to its a great music app to have\"\n        ],\n        \"semantic_type\": \"\",\n        \"description\": \"\"\n      }\n    },\n    {\n      \"column\": \"label\",\n      \"properties\": {\n        \"dtype\": \"number\",\n        \"std\": 0,\n        \"min\": 0,\n        \"max\": 1,\n        \"num_unique_values\": 2,\n        \"samples\": [\n          0,\n          1\n        ],\n        \"semantic_type\": \"\",\n        \"description\": \"\"\n      }\n    }\n  ]\n}"
            }
          },
          "metadata": {}
        }
      ]
    },
    {
      "cell_type": "code",
      "source": [
        "X_features = df['Review']\n",
        "Y_labels = df['label']\n",
        "\n",
        "print('Shape of our X_features array:', X_features.shape)\n",
        "print('Shape of our Y_labels array:', Y_labels.shape)"
      ],
      "metadata": {
        "colab": {
          "base_uri": "https://localhost:8080/"
        },
        "id": "vPrBlM_nod2g",
        "outputId": "6a739ff1-c43c-4f72-beec-69bb16711936"
      },
      "execution_count": 9,
      "outputs": [
        {
          "output_type": "stream",
          "name": "stdout",
          "text": [
            "Shape of our X_features array: (52686,)\n",
            "Shape of our Y_labels array: (52686,)\n"
          ]
        }
      ]
    },
    {
      "cell_type": "markdown",
      "source": [
        "---\n",
        "# Dataset Split\n",
        "\n",
        "Now that we have set up and loaded our data, we must normalize our data and set an `80/20` split for `training/testing`. Once again, `X_train/X_test` will just be filled with our reviews as text and `Y_train/Y_test` will just be the labels to each review. `0` being a `negative review`, `1` being a `positive review`."
      ],
      "metadata": {
        "id": "euOtLt_dpf0n"
      }
    },
    {
      "cell_type": "code",
      "source": [
        "X_train, X_test = np.array_split(X_features, [int(len(df) * 0.8)])\n",
        "Y_train, Y_test = np.array_split(Y_labels, [int(len(df) * 0.8)])\n",
        "\n",
        "print('Shape of our X_train array:', X_train.shape)\n",
        "print('Shape of our X_test array:', X_test.shape)"
      ],
      "metadata": {
        "colab": {
          "base_uri": "https://localhost:8080/"
        },
        "id": "ub03r7kLpaMj",
        "outputId": "9a8a4005-df48-4059-b113-f94f11fcf6a2"
      },
      "execution_count": 10,
      "outputs": [
        {
          "output_type": "stream",
          "name": "stdout",
          "text": [
            "Shape of our X_train array: (42148,)\n",
            "Shape of our X_test array: (10538,)\n"
          ]
        },
        {
          "output_type": "stream",
          "name": "stderr",
          "text": [
            "/usr/local/lib/python3.12/dist-packages/numpy/_core/fromnumeric.py:57: FutureWarning: 'Series.swapaxes' is deprecated and will be removed in a future version. Please use 'Series.transpose' instead.\n",
            "  return bound(*args, **kwds)\n"
          ]
        }
      ]
    },
    {
      "cell_type": "code",
      "source": [
        "l = 'Negative', 'Positive'\n",
        "sizes = [len(Y_train[Y_train == 0]), len(Y_train[Y_train == 1])]\n",
        "\n",
        "fig, ax = plt.subplots()\n",
        "ax.pie(sizes, labels=l, autopct='%1.1f%%', startangle=90, colors=['#ec414e', '#19bee7'])\n",
        "plt.title('Distribution of Reviews in Training Set')\n",
        "\n",
        "plt.show()"
      ],
      "metadata": {
        "colab": {
          "base_uri": "https://localhost:8080/",
          "height": 428
        },
        "id": "gA_NBo1vBT22",
        "outputId": "874d16be-455a-49a5-edc3-604a7d0ebe26"
      },
      "execution_count": 11,
      "outputs": [
        {
          "output_type": "display_data",
          "data": {
            "text/plain": [
              "<Figure size 640x480 with 1 Axes>"
            ],
            "image/png": "[encoded data removed]"
          },
          "metadata": {}
        }
      ]
    },
    {
      "cell_type": "markdown",
      "source": [
        "As you can see from the pie chart, our data is almost split 50/50 from our training set. 60% being negative reviews and the other 40% consisting of positive reviews. This means we have a sufficient amount of split to where we will encounter little to no bias when training. We will be checking for this in our baseline model."
      ],
      "metadata": {
        "id": "g_3VCbEJ4Qd-"
      }
    },
    {
      "cell_type": "markdown",
      "source": [
        "---\n",
        "# Visualizing our Data\n"
      ],
      "metadata": {
        "id": "XBL_hTGY5RLQ"
      }
    },
    {
      "cell_type": "code",
      "source": [
        "# Create a list of lengths for training examples with a positive label.\n",
        "text_lengths_pos = [len(x) for (i, x) in enumerate(X_train) if Y_train[i]]\n",
        "\n",
        "# And a list of lengths for training examples with a negative label.\n",
        "text_lengths_neg = [len(x) for (i, x) in enumerate(X_train) if not Y_train[i]]\n",
        "\n",
        "# The histogram function can take a list of inputs and corresponding labels.\n",
        "plt.hist([text_lengths_pos, text_lengths_neg], bins=20, range=(0, 500),\n",
        "         label=['positive', 'negative'])\n",
        "plt.legend()\n",
        "plt.show()\n",
        "\n",
        "# Also check the longest reviews.\n",
        "print('Longest positive review:', max(text_lengths_pos))\n",
        "print('Longest negative review:', max(text_lengths_neg))"
      ],
      "metadata": {
        "colab": {
          "base_uri": "https://localhost:8080/",
          "height": 470
        },
        "id": "aqe7NIUOZSc6",
        "outputId": "d4dfb165-5e32-4f52-d509-a8f6c6d8ba4b"
      },
      "execution_count": 12,
      "outputs": [
        {
          "output_type": "display_data",
          "data": {
            "text/plain": [
              "<Figure size 640x480 with 1 Axes>"
            ],
            "image/png": "[encoded data removed]"
          },
          "metadata": {}
        },
        {
          "output_type": "stream",
          "name": "stdout",
          "text": [
            "Longest positive review: 998\n",
            "Longest negative review: 1623\n"
          ]
        }
      ]
    },
    {
      "cell_type": "markdown",
      "source": [
        "# Tokenization"
      ],
      "metadata": {
        "id": "rGYUkv-5FhuX"
      }
    },
    {
      "cell_type": "markdown",
      "source": [
        "### Padding and Reduced Length\n",
        "As is clear from the length histogram, the current representation of the review text is a variable-length array. Since fixed-length arrays are easier to work with in Tensorflow, let's add special padding tokens at the end of each review until they are all the same length.\n",
        "\n",
        "We'll also use this operation to limit the number of token positions by truncating all reviews to a specified length. In the code below, as an example, we pad all training inputs to length 600.\n",
        "\n",
        "&nbsp;\n",
        "\n",
        "### Reduced Vocabulary\n",
        "We also want to be able to limit the vocabulary size. Since our padding function produces fixed-length sequences in a numpy matrix, we can use clever numpy indexing to efficiently replace all token IDs larger than some value with the designated out-of-vocabulary (OOV) ID.\n",
        "\n",
        "In the code below, as an example, we'll keep just token IDs less than 30000, replacing all others with OOV."
      ],
      "metadata": {
        "id": "qGiAGWyB4rnN"
      }
    },
    {
      "cell_type": "code",
      "source": [
        "def preprocess_text_data(text_data, tokenizer, max_length, max_vocab_size):\n",
        "    # Tokenize the text\n",
        "    sequences = tokenizer.texts_to_sequences(text_data)\n",
        "\n",
        "    # Pad sequences to a fixed length\n",
        "    padded_sequences = tf.keras.preprocessing.sequence.pad_sequences(sequences, maxlen=max_length, padding='post', value=0)\n",
        "\n",
        "    # Limit vocabulary to the max_vocab_size by setting any token_id >= max_vocab_size to 0 (OOV token)\n",
        "    limited_vocab_sequences = np.where(padded_sequences >= max_vocab_size, 0, padded_sequences)\n",
        "\n",
        "    return limited_vocab_sequences"
      ],
      "metadata": {
        "id": "nCSS0ZlIeBwy"
      },
      "execution_count": 13,
      "outputs": []
    },
    {
      "cell_type": "code",
      "source": [
        "# Initialize the tokenizer and fit on the data (X_train)\n",
        "tokenizer = tf.keras.preprocessing.text.Tokenizer(num_words=30000, oov_token=\"<OOV>\")\n",
        "tokenizer.fit_on_texts(X_train)\n",
        "\n",
        "# Preprocess the training data\n",
        "max_length = 600\n",
        "max_vocab_size = 30000\n",
        "X_train_processed = preprocess_text_data(X_train, tokenizer, max_length=max_length, max_vocab_size=max_vocab_size)\n"
      ],
      "metadata": {
        "id": "uJBplCMDgtmq"
      },
      "execution_count": 14,
      "outputs": []
    },
    {
      "cell_type": "code",
      "source": [
        "X_train_processed[500]"
      ],
      "metadata": {
        "colab": {
          "base_uri": "https://localhost:8080/"
        },
        "id": "GeLbvxKcOOGZ",
        "outputId": "e988c01b-2bcc-4ea9-b3f9-2c0c3f352fce"
      },
      "execution_count": null,
      "outputs": [
        {
          "output_type": "execute_result",
          "data": {
            "text/plain": [
              "array([9675,    4, 2318,   14,    7, 1399,   41,   86,   23,  339,  947,\n",
              "         41,    4,  364,   37,    3,  133,   24,   11,   46,    5,    6,\n",
              "        132,    8,  326,  189,   22,    3,  421,  267,   24,   11,   46,\n",
              "         23,   27,  108,   21,    3,   19,    4,  133,   24,  380,    4,\n",
              "         58,    2,   22,    3,   53,    4,   26,  535,   42,    3,  323,\n",
              "          8,   22,    6,   80,   50,   26,    6,    3,   49,   50,   58,\n",
              "          2,   22,    3,  497,   26,    3,   59,   58,  235,  469,  318,\n",
              "          5,    2,  321,   68,  124,   43,    8, 9676, 2450,   52,  453,\n",
              "         29,   14,    7,    0,    0,    0,    0,    0,    0,    0,    0,\n",
              "          0,    0,    0,    0,    0,    0,    0,    0,    0,    0,    0,\n",
              "          0,    0,    0,    0,    0,    0,    0,    0,    0,    0,    0,\n",
              "          0,    0,    0,    0,    0,    0,    0,    0,    0,    0,    0,\n",
              "          0,    0,    0,    0,    0,    0,    0,    0,    0,    0,    0,\n",
              "          0,    0,    0,    0,    0,    0,    0,    0,    0,    0,    0,\n",
              "          0,    0,    0,    0,    0,    0,    0,    0,    0,    0,    0,\n",
              "          0,    0,    0,    0,    0,    0,    0,    0,    0,    0,    0,\n",
              "          0,    0,    0,    0,    0,    0,    0,    0,    0,    0,    0,\n",
              "          0,    0,    0,    0,    0,    0,    0,    0,    0,    0,    0,\n",
              "          0,    0,    0,    0,    0,    0,    0,    0,    0,    0,    0,\n",
              "          0,    0,    0,    0,    0,    0,    0,    0,    0,    0,    0,\n",
              "          0,    0,    0,    0,    0,    0,    0,    0,    0,    0,    0,\n",
              "          0,    0,    0,    0,    0,    0,    0,    0,    0,    0,    0,\n",
              "          0,    0,    0,    0,    0,    0,    0,    0,    0,    0,    0,\n",
              "          0,    0,    0,    0,    0,    0,    0,    0,    0,    0,    0,\n",
              "          0,    0,    0,    0,    0,    0,    0,    0,    0,    0,    0,\n",
              "          0,    0,    0,    0,    0,    0,    0,    0,    0,    0,    0,\n",
              "          0,    0,    0,    0,    0,    0,    0,    0,    0,    0,    0,\n",
              "          0,    0,    0,    0,    0,    0,    0,    0,    0,    0,    0,\n",
              "          0,    0,    0,    0,    0,    0,    0,    0,    0,    0,    0,\n",
              "          0,    0,    0,    0,    0,    0,    0,    0,    0,    0,    0,\n",
              "          0,    0,    0,    0,    0,    0,    0,    0,    0,    0,    0,\n",
              "          0,    0,    0,    0,    0,    0,    0,    0,    0,    0,    0,\n",
              "          0,    0,    0,    0,    0,    0,    0,    0,    0,    0,    0,\n",
              "          0,    0,    0,    0,    0,    0,    0,    0,    0,    0,    0,\n",
              "          0,    0,    0,    0,    0,    0,    0,    0,    0,    0,    0,\n",
              "          0,    0,    0,    0,    0,    0,    0,    0,    0,    0,    0,\n",
              "          0,    0,    0,    0,    0,    0,    0,    0,    0,    0,    0,\n",
              "          0,    0,    0,    0,    0,    0,    0,    0,    0,    0,    0,\n",
              "          0,    0,    0,    0,    0,    0,    0,    0,    0,    0,    0,\n",
              "          0,    0,    0,    0,    0,    0,    0,    0,    0,    0,    0,\n",
              "          0,    0,    0,    0,    0,    0,    0,    0,    0,    0,    0,\n",
              "          0,    0,    0,    0,    0,    0,    0,    0,    0,    0,    0,\n",
              "          0,    0,    0,    0,    0,    0,    0,    0,    0,    0,    0,\n",
              "          0,    0,    0,    0,    0,    0,    0,    0,    0,    0,    0,\n",
              "          0,    0,    0,    0,    0,    0,    0,    0,    0,    0,    0,\n",
              "          0,    0,    0,    0,    0,    0,    0,    0,    0,    0,    0,\n",
              "          0,    0,    0,    0,    0,    0,    0,    0,    0,    0,    0,\n",
              "          0,    0,    0,    0,    0,    0,    0,    0,    0,    0,    0,\n",
              "          0,    0,    0,    0,    0,    0,    0,    0,    0,    0,    0,\n",
              "          0,    0,    0,    0,    0,    0,    0,    0,    0,    0,    0,\n",
              "          0,    0,    0,    0,    0,    0,    0,    0,    0,    0,    0,\n",
              "          0,    0,    0,    0,    0,    0,    0,    0,    0,    0,    0,\n",
              "          0,    0,    0,    0,    0,    0,    0,    0,    0,    0,    0,\n",
              "          0,    0,    0,    0,    0,    0,    0,    0,    0,    0,    0,\n",
              "          0,    0,    0,    0,    0,    0], dtype=int32)"
            ]
          },
          "metadata": {},
          "execution_count": 13
        }
      ]
    },
    {
      "cell_type": "markdown",
      "source": [
        "---\n",
        "# Training Our Model"
      ],
      "metadata": {
        "id": "Y8FkM0xQOHr9"
      }
    },
    {
      "cell_type": "code",
      "source": [
        "# Plot history of the model during training\n",
        "def plot_history(history):\n",
        "  plt.ylabel('Loss')\n",
        "  plt.xlabel('Epoch')\n",
        "  plt.xticks(range(0, len(history['loss'] + 1)))\n",
        "  plt.plot(history['loss'], label=\"training\", marker='o')\n",
        "  plt.plot(history['val_loss'], label=\"validation\", marker='o')\n",
        "  plt.legend()\n",
        "  plt.show()"
      ],
      "metadata": {
        "id": "Q-_S6gMfbFTt"
      },
      "execution_count": 15,
      "outputs": []
    },
    {
      "cell_type": "code",
      "source": [
        "def build_deep_embeddings_model(vocab_size, sequence_length, embedding_dim):\n",
        "    \"\"\"Build a tf.keras model using embeddings.\"\"\"\n",
        "    tf.keras.backend.clear_session()\n",
        "    tf.random.set_seed(0)\n",
        "\n",
        "    model = tf.keras.Sequential()\n",
        "\n",
        "    # Embedding layer\n",
        "    model.add(tf.keras.layers.Embedding(\n",
        "        input_dim=vocab_size,\n",
        "        output_dim=embedding_dim,\n",
        "        )\n",
        "    )\n",
        "\n",
        "    # Pooling and dense layers\n",
        "    model.add(tf.keras.layers.GlobalAveragePooling1D())\n",
        "    model.add(tf.keras.layers.Dense(units=8, activation='relu'))\n",
        "    model.add(tf.keras.layers.Dense(units=16, activation='relu'))\n",
        "    model.add(tf.keras.layers.Dense(units=1, activation='sigmoid'))\n",
        "\n",
        "    # Compile model\n",
        "    model.compile(loss='binary_crossentropy', optimizer='adam', metrics=['accuracy'])\n",
        "\n",
        "    return model\n",
        "\n",
        "# Build and summarize the model\n",
        "model = build_deep_embeddings_model(\n",
        "    vocab_size=max_vocab_size,\n",
        "    sequence_length=X_train_processed.shape[1],\n",
        "    embedding_dim=2\n",
        ")"
      ],
      "metadata": {
        "colab": {
          "base_uri": "https://localhost:8080/",
          "height": 305
        },
        "id": "eS1EvopRaT1U",
        "outputId": "4150c557-ed0f-419d-f782-40da364f69e7"
      },
      "execution_count": 16,
      "outputs": [
        {
          "output_type": "display_data",
          "data": {
            "text/plain": [
              "\u001b[1mModel: \"sequential\"\u001b[0m\n"
            ],
            "text/html": [
              "<pre style=\"white-space:pre;overflow-x:auto;line-height:normal;font-family:Menlo,'DejaVu Sans Mono',consolas,'Courier New',monospace\"><span style=\"font-weight: bold\">Model: \"sequential\"</span>\n",
              "</pre>\n"
            ]
          },
          "metadata": {}
        },
        {
          "output_type": "display_data",
          "data": {
            "text/plain": [
              "┏━━━━━━━━━━━━━━━━━━━━━━━━━━━━━━━━━┳━━━━━━━━━━━━━━━━━━━━━━━━┳━━━━━━━━━━━━━━━┓\n",
              "┃\u001b[1m \u001b[0m\u001b[1mLayer (type)                   \u001b[0m\u001b[1m \u001b[0m┃\u001b[1m \u001b[0m\u001b[1mOutput Shape          \u001b[0m\u001b[1m \u001b[0m┃\u001b[1m \u001b[0m\u001b[1m      Param #\u001b[0m\u001b[1m \u001b[0m┃\n",
              "┡━━━━━━━━━━━━━━━━━━━━━━━━━━━━━━━━━╇━━━━━━━━━━━━━━━━━━━━━━━━╇━━━━━━━━━━━━━━━┩\n",
              "│ embedding (\u001b[38;5;33mEmbedding\u001b[0m)           │ ?                      │   \u001b[38;5;34m0\u001b[0m (unbuilt) │\n",
              "├─────────────────────────────────┼────────────────────────┼───────────────┤\n",
              "│ global_average_pooling1d        │ ?                      │             \u001b[38;5;34m0\u001b[0m │\n",
              "│ (\u001b[38;5;33mGlobalAveragePooling1D\u001b[0m)        │                        │               │\n",
              "├─────────────────────────────────┼────────────────────────┼───────────────┤\n",
              "│ dense (\u001b[38;5;33mDense\u001b[0m)                   │ ?                      │   \u001b[38;5;34m0\u001b[0m (unbuilt) │\n",
              "├─────────────────────────────────┼────────────────────────┼───────────────┤\n",
              "│ dense_1 (\u001b[38;5;33mDense\u001b[0m)                 │ ?                      │   \u001b[38;5;34m0\u001b[0m (unbuilt) │\n",
              "├─────────────────────────────────┼────────────────────────┼───────────────┤\n",
              "│ dense_2 (\u001b[38;5;33mDense\u001b[0m)                 │ ?                      │   \u001b[38;5;34m0\u001b[0m (unbuilt) │\n",
              "└─────────────────────────────────┴────────────────────────┴───────────────┘\n"
            ],
            "text/html": [
              "<pre style=\"white-space:pre;overflow-x:auto;line-height:normal;font-family:Menlo,'DejaVu Sans Mono',consolas,'Courier New',monospace\">┏━━━━━━━━━━━━━━━━━━━━━━━━━━━━━━━━━┳━━━━━━━━━━━━━━━━━━━━━━━━┳━━━━━━━━━━━━━━━┓\n",
              "┃<span style=\"font-weight: bold\"> Layer (type)                    </span>┃<span style=\"font-weight: bold\"> Output Shape           </span>┃<span style=\"font-weight: bold\">       Param # </span>┃\n",
              "┡━━━━━━━━━━━━━━━━━━━━━━━━━━━━━━━━━╇━━━━━━━━━━━━━━━━━━━━━━━━╇━━━━━━━━━━━━━━━┩\n",
              "│ embedding (<span style=\"color: #0087ff; text-decoration-color: #0087ff\">Embedding</span>)           │ ?                      │   <span style=\"color: #00af00; text-decoration-color: #00af00\">0</span> (unbuilt) │\n",
              "├─────────────────────────────────┼────────────────────────┼───────────────┤\n",
              "│ global_average_pooling1d        │ ?                      │             <span style=\"color: #00af00; text-decoration-color: #00af00\">0</span> │\n",
              "│ (<span style=\"color: #0087ff; text-decoration-color: #0087ff\">GlobalAveragePooling1D</span>)        │                        │               │\n",
              "├─────────────────────────────────┼────────────────────────┼───────────────┤\n",
              "│ dense (<span style=\"color: #0087ff; text-decoration-color: #0087ff\">Dense</span>)                   │ ?                      │   <span style=\"color: #00af00; text-decoration-color: #00af00\">0</span> (unbuilt) │\n",
              "├─────────────────────────────────┼────────────────────────┼───────────────┤\n",
              "│ dense_1 (<span style=\"color: #0087ff; text-decoration-color: #0087ff\">Dense</span>)                 │ ?                      │   <span style=\"color: #00af00; text-decoration-color: #00af00\">0</span> (unbuilt) │\n",
              "├─────────────────────────────────┼────────────────────────┼───────────────┤\n",
              "│ dense_2 (<span style=\"color: #0087ff; text-decoration-color: #0087ff\">Dense</span>)                 │ ?                      │   <span style=\"color: #00af00; text-decoration-color: #00af00\">0</span> (unbuilt) │\n",
              "└─────────────────────────────────┴────────────────────────┴───────────────┘\n",
              "</pre>\n"
            ]
          },
          "metadata": {}
        },
        {
          "output_type": "display_data",
          "data": {
            "text/plain": [
              "\u001b[1m Total params: \u001b[0m\u001b[38;5;34m0\u001b[0m (0.00 B)\n"
            ],
            "text/html": [
              "<pre style=\"white-space:pre;overflow-x:auto;line-height:normal;font-family:Menlo,'DejaVu Sans Mono',consolas,'Courier New',monospace\"><span style=\"font-weight: bold\"> Total params: </span><span style=\"color: #00af00; text-decoration-color: #00af00\">0</span> (0.00 B)\n",
              "</pre>\n"
            ]
          },
          "metadata": {}
        },
        {
          "output_type": "display_data",
          "data": {
            "text/plain": [
              "\u001b[1m Trainable params: \u001b[0m\u001b[38;5;34m0\u001b[0m (0.00 B)\n"
            ],
            "text/html": [
              "<pre style=\"white-space:pre;overflow-x:auto;line-height:normal;font-family:Menlo,'DejaVu Sans Mono',consolas,'Courier New',monospace\"><span style=\"font-weight: bold\"> Trainable params: </span><span style=\"color: #00af00; text-decoration-color: #00af00\">0</span> (0.00 B)\n",
              "</pre>\n"
            ]
          },
          "metadata": {}
        },
        {
          "output_type": "display_data",
          "data": {
            "text/plain": [
              "\u001b[1m Non-trainable params: \u001b[0m\u001b[38;5;34m0\u001b[0m (0.00 B)\n"
            ],
            "text/html": [
              "<pre style=\"white-space:pre;overflow-x:auto;line-height:normal;font-family:Menlo,'DejaVu Sans Mono',consolas,'Courier New',monospace\"><span style=\"font-weight: bold\"> Non-trainable params: </span><span style=\"color: #00af00; text-decoration-color: #00af00\">0</span> (0.00 B)\n",
              "</pre>\n"
            ]
          },
          "metadata": {}
        }
      ]
    },
    {
      "cell_type": "code",
      "source": [
        "history = model.fit(\n",
        "  x = X_train_processed,\n",
        "  y = Y_train,\n",
        "  epochs=15,\n",
        "  batch_size=64,\n",
        "  validation_split=0.1,\n",
        "  verbose=1,\n",
        "  )\n",
        "\n",
        "history = pd.DataFrame(history.history)\n",
        "plot_history(history)"
      ],
      "metadata": {
        "colab": {
          "base_uri": "https://localhost:8080/",
          "height": 1000
        },
        "id": "ON6-SrFHa5fN",
        "outputId": "dcf2ebb7-6d7e-4b90-b252-33b53f44d9be"
      },
      "execution_count": 17,
      "outputs": [
        {
          "output_type": "stream",
          "name": "stdout",
          "text": [
            "Epoch 1/15\n",
            "\u001b[1m593/593\u001b[0m \u001b[32m━━━━━━━━━━━━━━━━━━━━\u001b[0m\u001b[37m\u001b[0m \u001b[1m7s\u001b[0m 6ms/step - accuracy: 0.5978 - loss: 0.6757 - val_accuracy: 0.6235 - val_loss: 0.6548\n",
            "Epoch 2/15\n",
            "\u001b[1m593/593\u001b[0m \u001b[32m━━━━━━━━━━━━━━━━━━━━\u001b[0m\u001b[37m\u001b[0m \u001b[1m2s\u001b[0m 3ms/step - accuracy: 0.6383 - loss: 0.6256 - val_accuracy: 0.7393 - val_loss: 0.5372\n",
            "Epoch 3/15\n",
            "\u001b[1m593/593\u001b[0m \u001b[32m━━━━━━━━━━━━━━━━━━━━\u001b[0m\u001b[37m\u001b[0m \u001b[1m2s\u001b[0m 3ms/step - accuracy: 0.7552 - loss: 0.5203 - val_accuracy: 0.8097 - val_loss: 0.4647\n",
            "Epoch 4/15\n",
            "\u001b[1m593/593\u001b[0m \u001b[32m━━━━━━━━━━━━━━━━━━━━\u001b[0m\u001b[37m\u001b[0m \u001b[1m2s\u001b[0m 3ms/step - accuracy: 0.8034 - loss: 0.4544 - val_accuracy: 0.8477 - val_loss: 0.4024\n",
            "Epoch 5/15\n",
            "\u001b[1m593/593\u001b[0m \u001b[32m━━━━━━━━━━━━━━━━━━━━\u001b[0m\u001b[37m\u001b[0m \u001b[1m2s\u001b[0m 3ms/step - accuracy: 0.8327 - loss: 0.4009 - val_accuracy: 0.8531 - val_loss: 0.3707\n",
            "Epoch 6/15\n",
            "\u001b[1m593/593\u001b[0m \u001b[32m━━━━━━━━━━━━━━━━━━━━\u001b[0m\u001b[37m\u001b[0m \u001b[1m2s\u001b[0m 4ms/step - accuracy: 0.8460 - loss: 0.3737 - val_accuracy: 0.8605 - val_loss: 0.3528\n",
            "Epoch 7/15\n",
            "\u001b[1m593/593\u001b[0m \u001b[32m━━━━━━━━━━━━━━━━━━━━\u001b[0m\u001b[37m\u001b[0m \u001b[1m2s\u001b[0m 3ms/step - accuracy: 0.8547 - loss: 0.3576 - val_accuracy: 0.8667 - val_loss: 0.3409\n",
            "Epoch 8/15\n",
            "\u001b[1m593/593\u001b[0m \u001b[32m━━━━━━━━━━━━━━━━━━━━\u001b[0m\u001b[37m\u001b[0m \u001b[1m2s\u001b[0m 3ms/step - accuracy: 0.8607 - loss: 0.3468 - val_accuracy: 0.8714 - val_loss: 0.3333\n",
            "Epoch 9/15\n",
            "\u001b[1m593/593\u001b[0m \u001b[32m━━━━━━━━━━━━━━━━━━━━\u001b[0m\u001b[37m\u001b[0m \u001b[1m2s\u001b[0m 3ms/step - accuracy: 0.8651 - loss: 0.3381 - val_accuracy: 0.8735 - val_loss: 0.3295\n",
            "Epoch 10/15\n",
            "\u001b[1m593/593\u001b[0m \u001b[32m━━━━━━━━━━━━━━━━━━━━\u001b[0m\u001b[37m\u001b[0m \u001b[1m2s\u001b[0m 3ms/step - accuracy: 0.8682 - loss: 0.3310 - val_accuracy: 0.8757 - val_loss: 0.3273\n",
            "Epoch 11/15\n",
            "\u001b[1m593/593\u001b[0m \u001b[32m━━━━━━━━━━━━━━━━━━━━\u001b[0m\u001b[37m\u001b[0m \u001b[1m2s\u001b[0m 3ms/step - accuracy: 0.8707 - loss: 0.3252 - val_accuracy: 0.8795 - val_loss: 0.3252\n",
            "Epoch 12/15\n",
            "\u001b[1m593/593\u001b[0m \u001b[32m━━━━━━━━━━━━━━━━━━━━\u001b[0m\u001b[37m\u001b[0m \u001b[1m2s\u001b[0m 3ms/step - accuracy: 0.8730 - loss: 0.3205 - val_accuracy: 0.8795 - val_loss: 0.3233\n",
            "Epoch 13/15\n",
            "\u001b[1m593/593\u001b[0m \u001b[32m━━━━━━━━━━━━━━━━━━━━\u001b[0m\u001b[37m\u001b[0m \u001b[1m3s\u001b[0m 4ms/step - accuracy: 0.8750 - loss: 0.3157 - val_accuracy: 0.8804 - val_loss: 0.3210\n",
            "Epoch 14/15\n",
            "\u001b[1m593/593\u001b[0m \u001b[32m━━━━━━━━━━━━━━━━━━━━\u001b[0m\u001b[37m\u001b[0m \u001b[1m2s\u001b[0m 3ms/step - accuracy: 0.8770 - loss: 0.3113 - val_accuracy: 0.8814 - val_loss: 0.3175\n",
            "Epoch 15/15\n",
            "\u001b[1m593/593\u001b[0m \u001b[32m━━━━━━━━━━━━━━━━━━━━\u001b[0m\u001b[37m\u001b[0m \u001b[1m2s\u001b[0m 3ms/step - accuracy: 0.8782 - loss: 0.3075 - val_accuracy: 0.8821 - val_loss: 0.3143\n"
          ]
        },
        {
          "output_type": "display_data",
          "data": {
            "text/plain": [
              "<Figure size 640x480 with 1 Axes>"
            ],
            "image/png": "[encoded data removed]"
          },
          "metadata": {}
        }
      ]
    },
    {
      "cell_type": "code",
      "source": [
        "# Display the model layers.\n",
        "display(model.layers)\n",
        "\n",
        "# Retrieve the embeddings layer, which itself is wrapped in a list.\n",
        "embeddings = model.layers[0].get_weights()[0]\n",
        "display(embeddings.shape)"
      ],
      "metadata": {
        "colab": {
          "base_uri": "https://localhost:8080/",
          "height": 126
        },
        "id": "cetRmekOLOLT",
        "outputId": "cf9664b9-9c87-4a9e-8a33-b0599b2c898e"
      },
      "execution_count": 18,
      "outputs": [
        {
          "output_type": "display_data",
          "data": {
            "text/plain": [
              "[<Embedding name=embedding, built=True>,\n",
              " <GlobalAveragePooling1D name=global_average_pooling1d, built=True>,\n",
              " <Dense name=dense, built=True>,\n",
              " <Dense name=dense_1, built=True>,\n",
              " <Dense name=dense_2, built=True>]"
            ]
          },
          "metadata": {}
        },
        {
          "output_type": "display_data",
          "data": {
            "text/plain": [
              "(30000, 2)"
            ]
          },
          "metadata": {}
        }
      ]
    },
    {
      "cell_type": "code",
      "source": [
        "def plot_2d_embeddings(embeddings, id_start=1, count=100):\n",
        "  # Get 1st and 2nd embedding dims for the desired tokens.\n",
        "  x1 = embeddings[id_start:id_start+count, 0]\n",
        "  x2 = embeddings[id_start:id_start+count, 1]\n",
        "\n",
        "\n",
        "  # Get the corresponding words from the reverse index (for labeling).\n",
        "  tokens = tokenizer.index_word\n",
        "  tokens = [tokens[i] for i in range(id_start, id_start+count)]\n",
        "\n",
        "  # Plot with the plotly library.\n",
        "  data = plotly.Scatter(x=x1, y=x2, text=tokens,\n",
        "                        mode='markers', textposition='bottom left',\n",
        "                        hoverinfo='text')\n",
        "  fig = plotly.Figure(data=[data],\n",
        "                      layout=plotly.Layout(title=\"Word Embeddings\",\n",
        "                                           hovermode='closest'))\n",
        "  fig.show()\n",
        "\n",
        "# Very frequent tokens tend to be more syntactic than semantic, so let's plot\n",
        "# some rarer words.\n",
        "plot_2d_embeddings(embeddings, id_start=500, count=500)"
      ],
      "metadata": {
        "colab": {
          "base_uri": "https://localhost:8080/",
          "height": 542
        },
        "id": "09bxpD4FLJNl",
        "outputId": "f4cd0720-2904-4d30-8fc9-04f0a761a113"
      },
      "execution_count": 19,
      "outputs": [
        {
          "output_type": "display_data",
          "data": {
            "text/html": [
              "<html>\n",
              "<head><meta charset=\"utf-8\" /></head>\n",
              "<body>\n",
              "    <div>            <script src=\"https://cdnjs.cloudflare.com/ajax/libs/mathjax/2.7.5/MathJax.js?config=TeX-AMS-MML_SVG\"></script><script type=\"text/javascript\">if (window.MathJax && window.MathJax.Hub && window.MathJax.Hub.Config) {window.MathJax.Hub.Config({SVG: {font: \"STIX-Web\"}});}</script>                <script type=\"text/javascript\">window.PlotlyConfig = {MathJaxConfig: 'local'};</script>\n",
              "        <script charset=\"utf-8\" src=\"https://cdn.plot.ly/plotly-2.35.2.min.js\"></script>                <div id=\"147551c0-bcf6-4273-9a09-a99bd7b81fea\" class=\"plotly-graph-div\" style=\"height:525px; width:100%;\"></div>            <script type=\"text/javascript\">                                    window.PLOTLYENV=window.PLOTLYENV || {};                                    if (document.getElementById(\"147551c0-bcf6-4273-9a09-a99bd7b81fea\")) {                    Plotly.newPlot(                        \"147551c0-bcf6-4273-9a09-a99bd7b81fea\",                        [{\"hoverinfo\":\"text\",\"mode\":\"markers\",\"text\":[\"goes\",\"amount\",\"pausing\",\"customer\",\"happens\",\"others\",\"current\",\"disappearing\",\"slow\",\"garbage\",\"missing\",\"away\",\"worked\",\"weeks\",\"wonderful\",\"saying\",\"clear\",\"downloading\",\"middle\",\"might\",\"tracks\",\"suggested\",\"couldnt\",\"removed\",\"kind\",\"online\",\"settings\",\"become\",\"reinstalled\",\"pc\",\"changed\",\"honestly\",\"trash\",\"rate\",\"second\",\"cause\",\"several\",\"wouldnt\",\"set\",\"recommendations\",\"apple\",\"payment\",\"heard\",\"big\",\"end\",\"matter\",\"asap\",\"extremely\",\"irritating\",\"went\",\"quite\",\"downloads\",\"rating\",\"except\",\"pauses\",\"stuck\",\"later\",\"ability\",\"create\",\"around\",\"mean\",\"disappointed\",\"certain\",\"enjoying\",\"listened\",\"card\",\"alot\",\"said\",\"may\",\"collection\",\"commercials\",\"someone\",\"left\",\"usually\",\"during\",\"hours\",\"totally\",\"login\",\"ones\",\"disappear\",\"cache\",\"changes\",\"ridiculous\",\"forward\",\"friends\",\"tell\",\"skipping\",\"buttons\",\"hell\",\"loading\",\"fantastic\",\"reinstalling\",\"deleted\",\"pop\",\"world\",\"constant\",\"seriously\",\"highly\",\"genre\",\"video\",\"closing\",\"mood\",\"genres\",\"awful\",\"simple\",\"repeat\",\"possible\",\"gave\",\"anyone\",\"mind\",\"lock\",\"episode\",\"everyday\",\"price\",\"galaxy\",\"appear\",\"both\",\"three\",\"function\",\"must\",\"row\",\"live\",\"previous\",\"team\",\"opening\",\"poor\",\"page\",\"seem\",\"wasnt\",\"continues\",\"fast\",\"okay\",\"yall\",\"rather\",\"kinda\",\"driving\",\"frequently\",\"high\",\"friendly\",\"five\",\"turned\",\"mins\",\"share\",\"today\",\"suggestions\",\"continue\",\"based\",\"amazon\",\"uninstalling\",\"restarting\",\"easily\",\"volume\",\"rogan\",\"probably\",\"due\",\"fav\",\"glitch\",\"gonna\",\"lost\",\"fun\",\"switching\",\"limited\",\"difficult\",\"rid\",\"membership\",\"idk\",\"phones\",\"ask\",\"finding\",\"wait\",\"ðÿ‘\",\"hit\",\"seen\",\"wide\",\"running\",\"joe\",\"reopen\",\"itll\",\"install\",\"type\",\"starting\",\"algorithm\",\"huge\",\"useful\",\"network\",\"job\",\"tho\",\"ur\",\"freezes\",\"choices\",\"episodes\",\"number\",\"deal\",\"monthly\",\"easier\",\"disappeared\",\"idea\",\"impossible\",\"sort\",\"display\",\"lets\",\"storage\",\"widget\",\"advertisement\",\"email\",\"theyre\",\"navigate\",\"notifications\",\"despite\",\"check\",\"deleting\",\"name\",\"coming\",\"lists\",\"crash\",\"waste\",\"menu\",\"services\",\"weird\",\"entire\",\"system\",\"simply\",\"company\",\"updating\",\"given\",\"forever\",\"desktop\",\"together\",\"care\",\"basically\",\"basic\",\"trial\",\"logged\",\"helps\",\"loop\",\"playpause\",\"media\",\"considering\",\"rewind\",\"minute\",\"damn\",\"took\",\"stream\",\"sleep\",\"although\",\"taking\",\"move\",\"came\",\"changing\",\"min\",\"shut\",\"reset\",\"ðÿž¶\",\"advertisements\",\"forced\",\"main\",\"headphones\",\"subscriber\",\"similar\",\"view\",\"short\",\"disappointing\",\"sounds\",\"run\",\"range\",\"scroll\",\"guess\",\"reviews\",\"moment\",\"save\",\"wants\",\"anywhere\",\"finally\",\"files\",\"n\",\"glitching\",\"member\",\"opinion\",\"lol\",\"functionality\",\"leave\",\"closed\",\"mix\",\"example\",\"computer\",\"cuts\",\"discover\",\"real\",\"happen\",\"shouldnt\",\"perfectly\",\"cutting\",\"small\",\"installed\",\"error\",\"uninterrupted\",\"yes\",\"broke\",\"twice\",\"barely\",\"tv\",\"via\",\"means\",\"gotten\",\"youll\",\"lose\",\"asking\",\"setting\",\"brilliant\",\"appreciate\",\"developers\",\"closes\",\"plz\",\"till\",\"swipe\",\"searching\",\"section\",\"low\",\"within\",\"tunes\",\"thinking\",\"link\",\"sudden\",\"hasnt\",\"favorites\",\"hearing\",\"improve\",\"suggest\",\"cuz\",\"taste\",\"enjoyed\",\"turns\",\"allows\",\"tab\",\"musics\",\"anytime\",\"trouble\",\"types\",\"mostly\",\"loving\",\"mixes\",\"god\",\"date\",\"mess\",\"searched\",\"absolute\",\"speaker\",\"created\",\"person\",\"newest\",\"country\",\"tap\",\"subscribe\",\"myself\",\"afford\",\"language\",\"normal\",\"yeah\",\"compared\",\"unlimited\",\"logging\",\"sad\",\"beginning\",\"figure\",\"restarted\",\"dumb\",\"lovers\",\"provide\",\"ultra\",\"sense\",\"saved\",\"sd\",\"youve\",\"loads\",\"bc\",\"none\",\"side\",\"password\",\"cut\",\"kept\",\"helpful\",\"switched\",\"group\",\"expensive\",\"nor\",\"laptop\",\"spend\",\"feels\",\"spot\",\"english\",\"experiencing\",\"believe\",\"adverts\",\"non\",\"local\",\"telling\",\"prefer\",\"normally\",\"space\",\"decided\",\"turning\",\"supposed\",\"re\",\"remember\",\"beautiful\",\"straight\",\"ruined\",\"decent\",\"major\",\"customers\",\"original\",\"solve\",\"expect\",\"functions\",\"satisfied\",\"personal\",\"tablet\",\"likes\",\"incredibly\",\"appears\",\"shuffling\",\"actual\",\"cleared\",\"freezing\",\"l\",\"advertising\",\"creating\",\"sign\",\"bought\",\"empty\",\"resolved\",\"removing\",\"cancelling\",\"rest\",\"manually\",\"sing\",\"selected\",\"immediately\",\"speakers\",\"solution\",\"layout\",\"ðÿ‘œ\",\"logo\",\"black\",\"along\",\"complete\",\"redownload\",\"forcing\",\"spotifys\",\"yesterday\",\"upgrade\",\"battery\",\"sorry\",\"buying\",\"convenient\",\"request\",\"waiting\",\"web\",\"rock\",\"looks\",\"night\",\"individual\",\"large\",\"suggestion\",\"autoplay\",\"locked\",\"hey\",\"miss\",\"words\",\"videos\",\"zero\",\"truly\",\"tired\",\"ðÿ˜š\",\"chose\",\"musical\",\"fully\",\"man\",\"unfortunately\",\"fan\",\"enjoyable\",\"putting\",\"complaint\",\"told\",\"platforms\",\"connecting\",\"oh\",\"fixes\",\"voice\",\"stay\",\"he\",\"message\",\"pain\",\"yt\",\"canceling\",\"mid\",\"read\",\"bands\",\"regularly\",\"exit\"],\"textposition\":\"bottom left\",\"x\":[-0.9924257,-0.6276956,-2.6219642,-0.48087373,-0.95408833,-0.4096016,-0.7547044,-3.1777966,-3.1616101,-3.422931,-3.1021788,-0.7024489,-0.8770486,-1.5998371,4.360997,-0.92083967,1.573555,-0.6021697,-1.8276953,-0.096392624,-0.43846935,-0.5742105,-0.13663751,-1.9090488,0.58643717,-1.0919895,-0.5212271,-1.2641791,-0.9487431,-0.0013478477,-1.2891767,0.6697536,-3.3129666,0.037113868,-1.2550308,0.12423445,-1.2184117,-0.3722256,-0.57861274,0.35443026,-0.9099471,-1.980064,1.6159565,0.2448486,-0.49510726,-1.213594,-1.6324471,-0.83497983,-2.8194606,-1.4978632,-0.28997356,-0.8024009,-0.4817121,0.7915169,-2.5738807,-1.6230865,-0.35133594,0.35098028,1.3687311,1.1576304,-0.3837387,-1.6596067,-0.42918056,3.690302,0.4815313,-0.75832814,-0.010009971,-0.93252254,-0.40946123,2.4631917,-0.97471046,-1.6414338,-2.067972,0.112069115,-0.7353397,-0.045688745,0.71629554,-1.6790776,0.4537196,-2.067519,-1.7479246,-1.293489,-2.3267257,0.3095553,1.9138916,-0.49317628,-1.7501292,-2.0425491,-1.0671204,-1.586219,4.0514994,-2.2816498,-2.2192037,0.028022956,2.020483,-2.1830678,-0.5209667,2.4071417,0.401999,-0.9509768,-2.1435618,1.4431275,1.9492029,-2.6629684,0.85799813,-0.2564855,-0.38339752,0.31234205,0.54339784,0.9353699,-0.7095887,-0.8634426,1.3978533,-0.008503669,-1.0567689,-1.095592,-0.33845308,-0.32197413,-1.4478121,0.17410657,-0.6593944,0.7067189,-0.1812738,0.96426547,-1.8129016,-3.107155,-0.7366143,-0.94010776,-0.4790883,-0.57740855,0.44260153,0.31662494,-0.9958943,-1.2941127,-1.2108495,0.19757003,-1.4599303,-0.019014692,0.7537926,1.0759228,-0.78088486,-0.94843787,-0.27160576,-0.05033269,0.48314658,-0.50742483,0.83677876,-0.87917244,-1.3542261,-1.6122012,1.3410974,-1.716448,-0.73396945,0.2326705,-1.3679254,0.974493,-1.2172028,-0.5079966,-1.3351027,2.7825203,-2.0133226,-1.1497413,-2.305123,-0.81225175,-0.1359099,-0.8997055,-0.81475747,-0.21135211,1.048263,-0.5574318,2.4065192,-0.29510373,0.44446295,2.767835,-0.45398927,-0.336214,-1.4545434,0.0017238961,-0.6725522,1.0294327,-1.8193835,-1.1000483,0.92874706,1.1631426,-0.19236644,1.4135567,-0.037868053,0.24175373,-2.6327205,1.8467561,-0.8764675,-0.092337914,0.50513107,-0.49670276,-0.69069535,-2.90384,-0.20000374,-2.3694613,-0.73679537,-0.8215142,-0.4355919,-0.93678814,-0.5231594,-2.5031583,-1.4288515,0.16793557,0.88665235,-1.5968835,-0.84775174,0.5133375,-1.8182118,0.0027790926,-0.57984334,0.14611806,-2.1745813,-2.2321935,-1.904044,-0.18327147,-0.80859274,0.1858365,-0.1730988,0.7442077,-0.87038296,-0.7939688,-0.043179564,0.06574405,-0.86953425,0.060264636,-1.2544942,-0.7989245,-1.2159443,0.35898805,-2.1669934,2.445719,0.06084627,-2.8306646,-0.73726076,-1.1211556,0.22456703,-1.2466533,-1.5116476,-0.5912412,0.64777774,-0.18220705,1.2763559,-0.9900923,-0.1115644,-0.055060294,-0.5685123,-1.0049913,-1.101369,-2.1021817,1.661676,-1.6931144,-0.5910833,-0.11742619,-0.76242995,-1.1598458,-0.20236473,-1.5765952,-0.32192838,-1.9806623,0.4435614,-0.391906,1.8741368,-0.9735159,-0.43709075,-0.04045649,0.43657565,-0.88115144,-0.502528,0.8083078,0.68733686,-1.0713394,-0.34624746,-1.5701293,-0.15265173,0.9746576,-0.24479169,-1.5143733,-0.7784017,-1.7125858,0.89914227,0.10247925,-0.77262104,-1.925384,0.7357115,0.79348993,-1.2378433,-0.9479784,1.8254493,-1.7515364,0.7768107,-0.5393147,-1.6867738,-1.6911149,-0.075231075,-0.6380262,-1.3371973,-2.0874085,-0.04229637,-0.89424765,0.34562686,-1.0423182,0.2992851,-0.9627553,-1.289882,-1.0662634,3.4275963,1.9505026,0.27311283,-1.4258164,-1.388266,0.013912303,-0.023055898,-0.11382973,-0.36536705,-1.7980573,-0.10996207,1.5318773,-0.43078956,-0.72944593,-1.7684166,-0.7543138,1.2929343,0.8111064,0.45623982,0.26069096,-0.29473338,0.8108486,2.546287,-1.0050815,0.86948377,-0.48511586,0.13334663,1.2838523,-0.68666255,1.472052,-0.15240845,2.6203434,0.8674785,-0.16031103,0.52729225,-2.127751,-0.23386054,-0.41437215,-0.16002378,0.7759015,-0.14101733,-1.2238371,0.72765034,-0.053416554,-0.737594,0.58152515,0.17440143,-0.09037687,-0.43432853,0.6447949,-1.0810457,0.55841964,-1.939616,-0.7343301,0.1227673,-0.5412091,-1.5431092,-1.1029556,0.919332,0.51767164,-0.9641839,-1.1281953,-0.57403934,-1.50538,0.37206772,-0.70112103,-0.46173298,-0.6207461,0.30054346,-1.4964743,-0.3470592,-0.33795786,1.3641263,-0.44524953,-0.68238705,-0.31597537,-0.8867853,-0.18428597,-0.052498825,-1.2052915,1.4792454,-0.26720843,-0.6734018,-0.06905045,-0.8768648,-1.1823113,-0.38622916,-0.89858294,-0.33404133,-0.8782864,-0.44635835,-0.11265441,-1.6096323,-0.4726372,-0.9219545,0.24150771,2.5739422,-0.32696533,-2.4072309,0.308922,-0.093186766,-0.93874645,0.36783168,-0.39688304,-0.78494155,-0.2341851,1.1989222,0.1979026,-0.18596362,0.321427,-0.8872598,-1.0715402,-0.8983593,-1.0173142,-0.823478,-1.685039,0.91502637,-1.3477648,0.81214106,-1.9667531,-0.034869973,-1.4894549,-0.51918775,-1.063468,-1.5984267,0.6064913,-1.5656909,0.68543273,-0.8705146,-0.79957116,-0.86018026,-1.0411696,-0.31150338,2.187072,-1.622254,-0.9890452,0.84145516,-0.3541319,-0.52585316,-1.4884136,0.5512736,-0.7076291,-0.5664976,-1.1355723,-0.035733804,-0.054764964,0.11031977,-0.1335906,-0.6939457,-0.72576255,1.0399642,-0.9181616,0.36650243,-0.52785,0.2982869,0.47551143,-1.0146713,-1.1124827,0.2109443,-0.8159947,0.41452226,-1.0793362,-1.0567776,1.3679492,-1.2783089,2.0107465,-0.11054265,1.1441971,-0.44716096,0.06498086,-1.0287057,1.1816348,2.4609182,-0.8072957,0.5803024,0.4003089,-0.1743032,-0.8236796,-0.1687574,-1.0889882,0.06395116,0.17376007,-0.28944913,-0.29901433,-1.8153329,-0.5008721,-1.4634864,-1.0212755,0.47882763,0.82960784,-1.2754817,-0.05578731],\"y\":[-0.94934,-0.5623455,-2.5243123,-0.3901534,-0.90203214,-0.3945316,-0.57266927,-3.1214995,-3.1441302,-3.4225798,-3.043682,-0.5982235,-0.83658683,-1.4564347,4.2656574,-0.8105276,1.6060042,-0.5937232,-1.7696178,-0.06233608,-0.32841006,-0.4613636,-0.15001893,-1.8829764,0.60243756,-0.9894678,-0.38438648,-1.2648706,-0.83637667,0.100375056,-1.2175865,0.6955175,-3.308255,0.03882525,-1.2161437,0.15528004,-1.1505835,-0.22624113,-0.5366536,0.32317454,-0.8751973,-1.9906204,1.7201773,0.24683349,-0.43281773,-1.1925064,-1.6207262,-0.7177843,-2.7035348,-1.431793,-0.19259086,-0.7238509,-0.3863452,0.85446465,-2.4264274,-1.5577068,-0.26127073,0.33503038,1.3513112,1.243611,-0.2890577,-1.6138307,-0.46429086,3.671446,0.51820606,-0.75574875,0.019177165,-0.91359323,-0.35295013,2.4191484,-0.96516174,-1.6095358,-2.0105479,0.19832532,-0.5988385,-0.025125552,0.78989357,-1.6333683,0.51946527,-2.0760376,-1.6607523,-1.2496855,-2.3125145,0.40275824,1.8907136,-0.42939958,-1.6948048,-1.9103193,-0.99690455,-1.5508598,4.014501,-2.1258657,-2.1777656,0.09755512,2.070838,-2.1427875,-0.51896995,2.368542,0.40742576,-0.93491346,-2.086576,1.3377799,1.8585173,-2.6512985,0.90327334,-0.20599362,-0.34623766,0.38741893,0.5167507,0.8967967,-0.57658195,-0.7282807,1.3260379,0.09579426,-1.0201229,-1.1172416,-0.20373115,-0.29203764,-1.3374565,0.18022212,-0.622901,0.7297545,-0.10441507,0.9764896,-1.766273,-3.0015752,-0.6548597,-0.8930671,-0.33998573,-0.49213746,0.39965773,0.38316146,-1.0265824,-1.1941531,-1.1071674,0.17536396,-1.4244611,-0.0017356252,0.7703069,1.1023493,-0.66268504,-0.8676809,-0.24982575,-0.052047316,0.5235189,-0.4803297,0.8231946,-0.8430482,-1.2616804,-1.563784,1.366328,-1.6408824,-0.76847285,0.25996965,-1.2977774,0.9881517,-1.1754645,-0.43692517,-1.2995783,2.6990597,-1.8779683,-1.0117302,-2.2645028,-0.75092894,-0.017357647,-0.8941413,-0.76473016,-0.24751554,0.9819919,-0.5386491,2.4048884,-0.24196135,0.4269281,2.6636572,-0.37539056,-0.27427214,-1.3788399,0.07515813,-0.6252927,0.9952154,-1.8385088,-1.0220811,1.0094162,1.1846259,-0.13150711,1.3193845,0.011762157,0.2002373,-2.6118557,1.8355308,-0.8022767,-0.022528818,0.47997713,-0.46682402,-0.68251896,-2.8853571,-0.08531845,-2.366766,-0.6431262,-0.7639887,-0.47734886,-0.8830078,-0.3723883,-2.4904337,-1.3499322,0.21858126,0.82346714,-1.5043808,-0.81725615,0.6097493,-1.7481796,0.06907247,-0.5490187,0.16886789,-2.1283586,-2.2200816,-1.8149799,-0.20344631,-0.73713046,0.15670927,-0.1159879,0.8627941,-0.8835167,-0.7883318,0.046696924,0.13453533,-0.87572235,0.08340753,-1.1441023,-0.72803813,-1.1808383,0.40242884,-2.062453,2.4716203,0.05403812,-2.849535,-0.67031974,-1.0252384,0.3025911,-1.2508574,-1.4666711,-0.56050533,0.70593,-0.1329575,1.3201818,-0.9292634,-0.055626154,-0.07279049,-0.51954746,-1.0011389,-1.0090728,-2.0562656,1.4946816,-1.717252,-0.43504432,-0.059069317,-0.74921405,-1.1144423,-0.1995734,-1.5167257,-0.2740323,-1.8957962,0.4585975,-0.3248225,1.8144908,-0.9741509,-0.39064533,-0.05230034,0.4888905,-0.7888162,-0.46299055,0.7112164,0.69201016,-0.91000813,-0.32902145,-1.4617,-0.13622032,0.98858726,-0.3032462,-1.4538388,-0.78986514,-1.6275177,0.8813289,0.074976094,-0.77501786,-1.9024463,0.65005183,0.80523646,-1.1611311,-0.95950204,1.8842849,-1.6765215,0.86531013,-0.45414543,-1.6190794,-1.7341777,-0.04529406,-0.52704746,-1.2497147,-2.0978272,0.011543051,-0.9286598,0.31035277,-0.9343099,0.30014843,-0.9436747,-1.2367195,-1.0479791,3.4112108,1.9560266,0.29971135,-1.2897909,-1.3619289,0.09293748,-0.013849485,-0.08244991,-0.3191368,-1.7378383,-0.048245344,1.4596275,-0.34715265,-0.679443,-1.6949421,-0.73685,1.2508742,0.77783155,0.4403013,0.20335288,-0.22755238,0.8549051,2.5495844,-0.8686683,0.8776136,-0.55360174,0.05626871,1.2762518,-0.64494807,1.4156283,-0.103138454,2.599506,0.85410756,-0.20535044,0.53309494,-1.9739794,-0.16463937,-0.3256193,-0.16418621,0.703954,-0.1697473,-1.196417,0.7152831,-0.019126028,-0.71465623,0.54439795,0.16451705,-0.16677387,-0.37105274,0.67068917,-1.0127116,0.6150372,-1.9022434,-0.7808868,0.16668911,-0.46075606,-1.5296738,-1.0860175,0.9363784,0.43687278,-0.9322808,-1.0874165,-0.56443703,-1.4721547,0.4309403,-0.69532186,-0.34609777,-0.7104353,0.29164925,-1.4425648,-0.28575987,-0.33037177,1.2979536,-0.3688549,-0.7095361,-0.28798106,-0.82140064,-0.10237861,-0.060694203,-1.1493684,1.4116452,-0.28521737,-0.61150295,-0.10704823,-0.9240204,-1.1622919,-0.3760422,-0.90309703,-0.2496693,-0.72959644,-0.4301124,-0.041381862,-1.5600672,-0.3639544,-0.92943776,0.28400707,2.5417442,-0.2934934,-2.4160178,0.40623763,0.0059784628,-0.908301,0.36700848,-0.22950514,-0.76153183,-0.1657451,1.1536309,0.14805867,-0.08893681,0.24253225,-0.8253025,-1.0097269,-0.7984846,-0.95578307,-0.74456203,-1.6827482,0.8808635,-1.2376693,0.7692106,-1.9689842,-0.06675941,-1.4435252,-0.48995474,-1.0080024,-1.4918553,0.68872845,-1.6092682,0.6427821,-0.7786687,-0.785959,-0.844938,-0.9674465,-0.3627539,2.1563463,-1.5359012,-0.9068076,0.8480944,-0.2746765,-0.58053476,-1.4093254,0.5985312,-0.6607504,-0.5050954,-1.0381213,-0.0030785915,0.008043817,0.13866694,-0.06986407,-0.6668336,-0.6807116,1.0078424,-0.8977107,0.40433326,-0.45026085,0.23850396,0.4841899,-1.0626795,-1.0102584,0.16892825,-0.76610935,0.40057755,-1.061831,-1.0592978,1.3575516,-1.2206775,2.0194318,-0.12113777,1.1728121,-0.3675041,0.07335971,-1.006555,1.176557,2.4040408,-0.782282,0.55149233,0.46224803,-0.1726876,-0.8202157,-0.2541589,-1.0238786,0.07604469,0.18805768,-0.24705215,-0.31162965,-1.8505569,-0.43210134,-1.4230927,-0.9154262,0.47036576,0.86297977,-1.2034822,0.025884874],\"type\":\"scatter\"}],                        {\"hovermode\":\"closest\",\"title\":{\"text\":\"Word Embeddings\"},\"template\":{\"data\":{\"histogram2dcontour\":[{\"type\":\"histogram2dcontour\",\"colorbar\":{\"outlinewidth\":0,\"ticks\":\"\"},\"colorscale\":[[0.0,\"#0d0887\"],[0.1111111111111111,\"#46039f\"],[0.2222222222222222,\"#7201a8\"],[0.3333333333333333,\"#9c179e\"],[0.4444444444444444,\"#bd3786\"],[0.5555555555555556,\"#d8576b\"],[0.6666666666666666,\"#ed7953\"],[0.7777777777777778,\"#fb9f3a\"],[0.8888888888888888,\"#fdca26\"],[1.0,\"#f0f921\"]]}],\"choropleth\":[{\"type\":\"choropleth\",\"colorbar\":{\"outlinewidth\":0,\"ticks\":\"\"}}],\"histogram2d\":[{\"type\":\"histogram2d\",\"colorbar\":{\"outlinewidth\":0,\"ticks\":\"\"},\"colorscale\":[[0.0,\"#0d0887\"],[0.1111111111111111,\"#46039f\"],[0.2222222222222222,\"#7201a8\"],[0.3333333333333333,\"#9c179e\"],[0.4444444444444444,\"#bd3786\"],[0.5555555555555556,\"#d8576b\"],[0.6666666666666666,\"#ed7953\"],[0.7777777777777778,\"#fb9f3a\"],[0.8888888888888888,\"#fdca26\"],[1.0,\"#f0f921\"]]}],\"heatmap\":[{\"type\":\"heatmap\",\"colorbar\":{\"outlinewidth\":0,\"ticks\":\"\"},\"colorscale\":[[0.0,\"#0d0887\"],[0.1111111111111111,\"#46039f\"],[0.2222222222222222,\"#7201a8\"],[0.3333333333333333,\"#9c179e\"],[0.4444444444444444,\"#bd3786\"],[0.5555555555555556,\"#d8576b\"],[0.6666666666666666,\"#ed7953\"],[0.7777777777777778,\"#fb9f3a\"],[0.8888888888888888,\"#fdca26\"],[1.0,\"#f0f921\"]]}],\"heatmapgl\":[{\"type\":\"heatmapgl\",\"colorbar\":{\"outlinewidth\":0,\"ticks\":\"\"},\"colorscale\":[[0.0,\"#0d0887\"],[0.1111111111111111,\"#46039f\"],[0.2222222222222222,\"#7201a8\"],[0.3333333333333333,\"#9c179e\"],[0.4444444444444444,\"#bd3786\"],[0.5555555555555556,\"#d8576b\"],[0.6666666666666666,\"#ed7953\"],[0.7777777777777778,\"#fb9f3a\"],[0.8888888888888888,\"#fdca26\"],[1.0,\"#f0f921\"]]}],\"contourcarpet\":[{\"type\":\"contourcarpet\",\"colorbar\":{\"outlinewidth\":0,\"ticks\":\"\"}}],\"contour\":[{\"type\":\"contour\",\"colorbar\":{\"outlinewidth\":0,\"ticks\":\"\"},\"colorscale\":[[0.0,\"#0d0887\"],[0.1111111111111111,\"#46039f\"],[0.2222222222222222,\"#7201a8\"],[0.3333333333333333,\"#9c179e\"],[0.4444444444444444,\"#bd3786\"],[0.5555555555555556,\"#d8576b\"],[0.6666666666666666,\"#ed7953\"],[0.7777777777777778,\"#fb9f3a\"],[0.8888888888888888,\"#fdca26\"],[1.0,\"#f0f921\"]]}],\"surface\":[{\"type\":\"surface\",\"colorbar\":{\"outlinewidth\":0,\"ticks\":\"\"},\"colorscale\":[[0.0,\"#0d0887\"],[0.1111111111111111,\"#46039f\"],[0.2222222222222222,\"#7201a8\"],[0.3333333333333333,\"#9c179e\"],[0.4444444444444444,\"#bd3786\"],[0.5555555555555556,\"#d8576b\"],[0.6666666666666666,\"#ed7953\"],[0.7777777777777778,\"#fb9f3a\"],[0.8888888888888888,\"#fdca26\"],[1.0,\"#f0f921\"]]}],\"mesh3d\":[{\"type\":\"mesh3d\",\"colorbar\":{\"outlinewidth\":0,\"ticks\":\"\"}}],\"scatter\":[{\"fillpattern\":{\"fillmode\":\"overlay\",\"size\":10,\"solidity\":0.2},\"type\":\"scatter\"}],\"parcoords\":[{\"type\":\"parcoords\",\"line\":{\"colorbar\":{\"outlinewidth\":0,\"ticks\":\"\"}}}],\"scatterpolargl\":[{\"type\":\"scatterpolargl\",\"marker\":{\"colorbar\":{\"outlinewidth\":0,\"ticks\":\"\"}}}],\"bar\":[{\"error_x\":{\"color\":\"#2a3f5f\"},\"error_y\":{\"color\":\"#2a3f5f\"},\"marker\":{\"line\":{\"color\":\"#E5ECF6\",\"width\":0.5},\"pattern\":{\"fillmode\":\"overlay\",\"size\":10,\"solidity\":0.2}},\"type\":\"bar\"}],\"scattergeo\":[{\"type\":\"scattergeo\",\"marker\":{\"colorbar\":{\"outlinewidth\":0,\"ticks\":\"\"}}}],\"scatterpolar\":[{\"type\":\"scatterpolar\",\"marker\":{\"colorbar\":{\"outlinewidth\":0,\"ticks\":\"\"}}}],\"histogram\":[{\"marker\":{\"pattern\":{\"fillmode\":\"overlay\",\"size\":10,\"solidity\":0.2}},\"type\":\"histogram\"}],\"scattergl\":[{\"type\":\"scattergl\",\"marker\":{\"colorbar\":{\"outlinewidth\":0,\"ticks\":\"\"}}}],\"scatter3d\":[{\"type\":\"scatter3d\",\"line\":{\"colorbar\":{\"outlinewidth\":0,\"ticks\":\"\"}},\"marker\":{\"colorbar\":{\"outlinewidth\":0,\"ticks\":\"\"}}}],\"scattermapbox\":[{\"type\":\"scattermapbox\",\"marker\":{\"colorbar\":{\"outlinewidth\":0,\"ticks\":\"\"}}}],\"scatterternary\":[{\"type\":\"scatterternary\",\"marker\":{\"colorbar\":{\"outlinewidth\":0,\"ticks\":\"\"}}}],\"scattercarpet\":[{\"type\":\"scattercarpet\",\"marker\":{\"colorbar\":{\"outlinewidth\":0,\"ticks\":\"\"}}}],\"carpet\":[{\"aaxis\":{\"endlinecolor\":\"#2a3f5f\",\"gridcolor\":\"white\",\"linecolor\":\"white\",\"minorgridcolor\":\"white\",\"startlinecolor\":\"#2a3f5f\"},\"baxis\":{\"endlinecolor\":\"#2a3f5f\",\"gridcolor\":\"white\",\"linecolor\":\"white\",\"minorgridcolor\":\"white\",\"startlinecolor\":\"#2a3f5f\"},\"type\":\"carpet\"}],\"table\":[{\"cells\":{\"fill\":{\"color\":\"#EBF0F8\"},\"line\":{\"color\":\"white\"}},\"header\":{\"fill\":{\"color\":\"#C8D4E3\"},\"line\":{\"color\":\"white\"}},\"type\":\"table\"}],\"barpolar\":[{\"marker\":{\"line\":{\"color\":\"#E5ECF6\",\"width\":0.5},\"pattern\":{\"fillmode\":\"overlay\",\"size\":10,\"solidity\":0.2}},\"type\":\"barpolar\"}],\"pie\":[{\"automargin\":true,\"type\":\"pie\"}]},\"layout\":{\"autotypenumbers\":\"strict\",\"colorway\":[\"#636efa\",\"#EF553B\",\"#00cc96\",\"#ab63fa\",\"#FFA15A\",\"#19d3f3\",\"#FF6692\",\"#B6E880\",\"#FF97FF\",\"#FECB52\"],\"font\":{\"color\":\"#2a3f5f\"},\"hovermode\":\"closest\",\"hoverlabel\":{\"align\":\"left\"},\"paper_bgcolor\":\"white\",\"plot_bgcolor\":\"#E5ECF6\",\"polar\":{\"bgcolor\":\"#E5ECF6\",\"angularaxis\":{\"gridcolor\":\"white\",\"linecolor\":\"white\",\"ticks\":\"\"},\"radialaxis\":{\"gridcolor\":\"white\",\"linecolor\":\"white\",\"ticks\":\"\"}},\"ternary\":{\"bgcolor\":\"#E5ECF6\",\"aaxis\":{\"gridcolor\":\"white\",\"linecolor\":\"white\",\"ticks\":\"\"},\"baxis\":{\"gridcolor\":\"white\",\"linecolor\":\"white\",\"ticks\":\"\"},\"caxis\":{\"gridcolor\":\"white\",\"linecolor\":\"white\",\"ticks\":\"\"}},\"coloraxis\":{\"colorbar\":{\"outlinewidth\":0,\"ticks\":\"\"}},\"colorscale\":{\"sequential\":[[0.0,\"#0d0887\"],[0.1111111111111111,\"#46039f\"],[0.2222222222222222,\"#7201a8\"],[0.3333333333333333,\"#9c179e\"],[0.4444444444444444,\"#bd3786\"],[0.5555555555555556,\"#d8576b\"],[0.6666666666666666,\"#ed7953\"],[0.7777777777777778,\"#fb9f3a\"],[0.8888888888888888,\"#fdca26\"],[1.0,\"#f0f921\"]],\"sequentialminus\":[[0.0,\"#0d0887\"],[0.1111111111111111,\"#46039f\"],[0.2222222222222222,\"#7201a8\"],[0.3333333333333333,\"#9c179e\"],[0.4444444444444444,\"#bd3786\"],[0.5555555555555556,\"#d8576b\"],[0.6666666666666666,\"#ed7953\"],[0.7777777777777778,\"#fb9f3a\"],[0.8888888888888888,\"#fdca26\"],[1.0,\"#f0f921\"]],\"diverging\":[[0,\"#8e0152\"],[0.1,\"#c51b7d\"],[0.2,\"#de77ae\"],[0.3,\"#f1b6da\"],[0.4,\"#fde0ef\"],[0.5,\"#f7f7f7\"],[0.6,\"#e6f5d0\"],[0.7,\"#b8e186\"],[0.8,\"#7fbc41\"],[0.9,\"#4d9221\"],[1,\"#276419\"]]},\"xaxis\":{\"gridcolor\":\"white\",\"linecolor\":\"white\",\"ticks\":\"\",\"title\":{\"standoff\":15},\"zerolinecolor\":\"white\",\"automargin\":true,\"zerolinewidth\":2},\"yaxis\":{\"gridcolor\":\"white\",\"linecolor\":\"white\",\"ticks\":\"\",\"title\":{\"standoff\":15},\"zerolinecolor\":\"white\",\"automargin\":true,\"zerolinewidth\":2},\"scene\":{\"xaxis\":{\"backgroundcolor\":\"#E5ECF6\",\"gridcolor\":\"white\",\"linecolor\":\"white\",\"showbackground\":true,\"ticks\":\"\",\"zerolinecolor\":\"white\",\"gridwidth\":2},\"yaxis\":{\"backgroundcolor\":\"#E5ECF6\",\"gridcolor\":\"white\",\"linecolor\":\"white\",\"showbackground\":true,\"ticks\":\"\",\"zerolinecolor\":\"white\",\"gridwidth\":2},\"zaxis\":{\"backgroundcolor\":\"#E5ECF6\",\"gridcolor\":\"white\",\"linecolor\":\"white\",\"showbackground\":true,\"ticks\":\"\",\"zerolinecolor\":\"white\",\"gridwidth\":2}},\"shapedefaults\":{\"line\":{\"color\":\"#2a3f5f\"}},\"annotationdefaults\":{\"arrowcolor\":\"#2a3f5f\",\"arrowhead\":0,\"arrowwidth\":1},\"geo\":{\"bgcolor\":\"white\",\"landcolor\":\"#E5ECF6\",\"subunitcolor\":\"white\",\"showland\":true,\"showlakes\":true,\"lakecolor\":\"white\"},\"title\":{\"x\":0.05},\"mapbox\":{\"style\":\"light\"}}}},                        {\"responsive\": true}                    ).then(function(){\n",
              "                            \n",
              "var gd = document.getElementById('147551c0-bcf6-4273-9a09-a99bd7b81fea');\n",
              "var x = new MutationObserver(function (mutations, observer) {{\n",
              "        var display = window.getComputedStyle(gd).display;\n",
              "        if (!display || display === 'none') {{\n",
              "            console.log([gd, 'removed!']);\n",
              "            Plotly.purge(gd);\n",
              "            observer.disconnect();\n",
              "        }}\n",
              "}});\n",
              "\n",
              "// Listen for the removal of the full notebook cells\n",
              "var notebookContainer = gd.closest('#notebook-container');\n",
              "if (notebookContainer) {{\n",
              "    x.observe(notebookContainer, {childList: true});\n",
              "}}\n",
              "\n",
              "// Listen for the clearing of the current output cell\n",
              "var outputEl = gd.closest('.output');\n",
              "if (outputEl) {{\n",
              "    x.observe(outputEl, {childList: true});\n",
              "}}\n",
              "\n",
              "                        })                };                            </script>        </div>\n",
              "</body>\n",
              "</html>"
            ]
          },
          "metadata": {}
        }
      ]
    },
    {
      "cell_type": "markdown",
      "source": [
        "---\n",
        "# Testing the Model"
      ],
      "metadata": {
        "id": "RbFEgmAcPSzU"
      }
    },
    {
      "cell_type": "code",
      "source": [
        "X_test_processed = preprocess_text_data(X_test, tokenizer, max_length=max_length, max_vocab_size=max_vocab_size)\n",
        "model.evaluate(X_test_processed, Y_test)"
      ],
      "metadata": {
        "colab": {
          "base_uri": "https://localhost:8080/"
        },
        "id": "KQ4jl_40PWF_",
        "outputId": "66658d1f-c5a9-4aa3-8cb0-dc231b1cad62"
      },
      "execution_count": 20,
      "outputs": [
        {
          "output_type": "stream",
          "name": "stdout",
          "text": [
            "\u001b[1m330/330\u001b[0m \u001b[32m━━━━━━━━━━━━━━━━━━━━\u001b[0m\u001b[37m\u001b[0m \u001b[1m2s\u001b[0m 4ms/step - accuracy: 0.8465 - loss: 0.3571\n"
          ]
        },
        {
          "output_type": "execute_result",
          "data": {
            "text/plain": [
              "[0.42810380458831787, 0.7996773719787598]"
            ]
          },
          "metadata": {},
          "execution_count": 20
        }
      ]
    },
    {
      "cell_type": "markdown",
      "source": [
        "# Demo"
      ],
      "metadata": {
        "id": "0L8WQNaLOY7M"
      }
    },
    {
      "cell_type": "code",
      "source": [
        "user_input = input(\"Enter a review: \")\n",
        "user_input = clean_text(user_input)\n",
        "\n",
        "user_prediction = model.predict(preprocess_text_data([user_input], tokenizer, max_length=max_length, max_vocab_size=max_vocab_size))\n",
        "print('Review is bad' if user_prediction[0][0] < 0.6 else 'Review is good')"
      ],
      "metadata": {
        "colab": {
          "base_uri": "https://localhost:8080/"
        },
        "id": "NBiQUfDlO-5M",
        "outputId": "6bd40a8f-e9bc-4b41-8f54-80f443ae4c64"
      },
      "execution_count": 22,
      "outputs": [
        {
          "output_type": "stream",
          "name": "stdout",
          "text": [
            "Enter a review: This app does not have a lot of features\n",
            "\u001b[1m1/1\u001b[0m \u001b[32m━━━━━━━━━━━━━━━━━━━━\u001b[0m\u001b[37m\u001b[0m \u001b[1m0s\u001b[0m 29ms/step\n",
            "Review is bad\n"
          ]
        }
      ]
    }
  ]
}