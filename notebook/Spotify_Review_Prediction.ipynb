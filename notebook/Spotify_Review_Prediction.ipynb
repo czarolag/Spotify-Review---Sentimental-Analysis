{
  "nbformat": 4,
  "nbformat_minor": 0,
  "metadata": {
    "colab": {
      "provenance": [],
      "gpuType": "T4",
      "authorship_tag": "ABX9TyNXvS9xplgwkcpL1ytygMR+",
      "include_colab_link": true
    },
    "kernelspec": {
      "name": "python3",
      "display_name": "Python 3"
    },
    "language_info": {
      "name": "python"
    },
    "accelerator": "GPU"
  },
  "cells": [
    {
      "cell_type": "markdown",
      "metadata": {
        "id": "view-in-github",
        "colab_type": "text"
      },
      "source": [
        "<a href=\"https://colab.research.google.com/github/czarolag/Spotify-Review---Sentimental-Analysis/blob/main/notebook/Spotify_Review_Prediction.ipynb\" target=\"_parent\"><img src=\"https://colab.research.google.com/assets/colab-badge.svg\" alt=\"Open In Colab\"/></a>"
      ]
    },
    {
      "cell_type": "markdown",
      "source": [
        "# Introduction\n",
        "\n",
        "## Our dataset\n",
        "This colab explores a dataset filled with reviews on the popular music app Spotify. These reviews are either positive and negative. You can find more about the dataset from Kaggle [here](https://www.kaggle.com/datasets/alexandrakim2201/spotify-dataset).\n",
        "\n",
        "&nbsp;\n",
        "## Our task\n",
        "The objective of our task is to create an model to predict whether a review is positive or negative based on the contents contained within the review. To complete this task we decided to implement a neural network. This model will be trained to have an acceptable accuracy rate to predict the proper type of review whether it describes the app in a positive manner or negative manner.\n",
        "\n",
        "&nbsp;\n",
        "\n",
        "Change runtime type to GPU if you want to run cells. Training times will take too long if running on CPU. To change run type, press the small arrow near `Connect` on the top right and press `Change runtime type` to `T4 GPU`. Also note you must run cells in order or errors may occur."
      ],
      "metadata": {
        "id": "TwyDZisGLxye"
      }
    },
    {
      "cell_type": "markdown",
      "source": [
        "---"
      ],
      "metadata": {
        "id": "krddsAEOMw4d"
      }
    },
    {
      "cell_type": "code",
      "source": [
        "# @title ## Getting our necessary imports (run this cell) { display-mode: \"form\" }\n",
        "import numpy as np\n",
        "from matplotlib import pyplot as plt\n",
        "import pandas as pd\n",
        "\n",
        "import seaborn as sns # for nicer plots\n",
        "sns.set(style='darkgrid') # default style\n",
        "import plotly.graph_objs as plotly  # for interactive plots\n",
        "\n",
        "import string\n",
        "import re\n",
        "\n",
        "import tensorflow as tf\n",
        "from google.colab import userdata\n",
        "import os"
      ],
      "metadata": {
        "id": "E4oi3fQnLPe5"
      },
      "execution_count": null,
      "outputs": []
    },
    {
      "cell_type": "markdown",
      "source": [
        "## Dowloading our Dataset\n",
        "\n",
        "### Kaggle API\n",
        "Using the Kaggle API, we will download our dataset from Kaggle directly. This method requires a simple setup using the Google Colab 'Secrets' feature and obtaining a token from Kaggle.\n",
        "\n",
        "\n",
        "Help on this setup was obtained from a discussion board on [Kaggle](https://www.kaggle.com/discussions/general/74235#2580958)\n",
        "\n",
        "&nbsp;\n",
        "\n",
        "If help is required on this setup, follow the kaggle link.\n"
      ],
      "metadata": {
        "id": "DrDFy5KjLebI"
      }
    },
    {
      "cell_type": "code",
      "source": [
        "# Environmental variables must be set up for this method to work\n",
        "os.environ[\"KAGGLE_KEY\"] = userdata.get('KAGGLE_KEY')\n",
        "os.environ[\"KAGGLE_USERNAME\"] = userdata.get('KAGGLE_USERNAME')\n",
        "\n",
        "!kaggle datasets download -d alexandrakim2201/spotify-dataset\n",
        "!unzip -q 'spotify-dataset'"
      ],
      "metadata": {
        "colab": {
          "base_uri": "https://localhost:8080/"
        },
        "id": "GcsAPfoRLoJT",
        "outputId": "2f585173-5417-4a73-ac20-ced8112ea035"
      },
      "execution_count": null,
      "outputs": [
        {
          "output_type": "stream",
          "name": "stdout",
          "text": [
            "Dataset URL: https://www.kaggle.com/datasets/alexandrakim2201/spotify-dataset\n",
            "License(s): Attribution-NonCommercial 4.0 International (CC BY-NC 4.0)\n",
            "Downloading spotify-dataset.zip to /content\n",
            "  0% 0.00/2.90M [00:00<?, ?B/s]\n",
            "100% 2.90M/2.90M [00:00<00:00, 668MB/s]\n"
          ]
        }
      ]
    },
    {
      "cell_type": "markdown",
      "source": [
        "---"
      ],
      "metadata": {
        "id": "nbn-cWnKMyVs"
      }
    },
    {
      "cell_type": "markdown",
      "source": [
        "---\n",
        "# Cleaning up and formatting our Dataset\n",
        "\n",
        "We must gather all our reviews into a dataset and format it to preprocess our data. To begin, we will create a DataFrame that will keep track of the the reviews."
      ],
      "metadata": {
        "id": "k4tJMIWlmZg-"
      }
    },
    {
      "cell_type": "code",
      "source": [
        "content_file = '/content/DATASET.csv'\n",
        "\n",
        "df = pd.read_csv(content_file)\n",
        "df.dropna(inplace=True)\n",
        "\n",
        "display(df)"
      ],
      "metadata": {
        "colab": {
          "base_uri": "https://localhost:8080/",
          "height": 423
        },
        "id": "0So8Es5PmpJO",
        "outputId": "cfe4edd0-8ecf-428c-e2bc-6250b304f9e9"
      },
      "execution_count": null,
      "outputs": [
        {
          "output_type": "display_data",
          "data": {
            "text/plain": [
              "                                                  Review     label\n",
              "0      Great music service, the audio is high quality...  POSITIVE\n",
              "1      Please ignore previous negative rating. This a...  POSITIVE\n",
              "2      This pop-up \"Get the best Spotify experience o...  NEGATIVE\n",
              "3        Really buggy and terrible to use as of recently  NEGATIVE\n",
              "4      Dear Spotify why do I get songs that I didn't ...  NEGATIVE\n",
              "...                                                  ...       ...\n",
              "52697                                       Yes the best  POSITIVE\n",
              "52698  Spotify won my heart in Feb 2024 You won my he...  POSITIVE\n",
              "52699  I tried to open the app and it wont open I res...  POSITIVE\n",
              "52700                                              Good   POSITIVE\n",
              "52701  Nice app to play music and at very affordable ...  POSITIVE\n",
              "\n",
              "[52686 rows x 2 columns]"
            ],
            "text/html": [
              "\n",
              "  <div id=\"df-e5d5910c-258e-42b0-9619-a7abd4667f79\" class=\"colab-df-container\">\n",
              "    <div>\n",
              "<style scoped>\n",
              "    .dataframe tbody tr th:only-of-type {\n",
              "        vertical-align: middle;\n",
              "    }\n",
              "\n",
              "    .dataframe tbody tr th {\n",
              "        vertical-align: top;\n",
              "    }\n",
              "\n",
              "    .dataframe thead th {\n",
              "        text-align: right;\n",
              "    }\n",
              "</style>\n",
              "<table border=\"1\" class=\"dataframe\">\n",
              "  <thead>\n",
              "    <tr style=\"text-align: right;\">\n",
              "      <th></th>\n",
              "      <th>Review</th>\n",
              "      <th>label</th>\n",
              "    </tr>\n",
              "  </thead>\n",
              "  <tbody>\n",
              "    <tr>\n",
              "      <th>0</th>\n",
              "      <td>Great music service, the audio is high quality...</td>\n",
              "      <td>POSITIVE</td>\n",
              "    </tr>\n",
              "    <tr>\n",
              "      <th>1</th>\n",
              "      <td>Please ignore previous negative rating. This a...</td>\n",
              "      <td>POSITIVE</td>\n",
              "    </tr>\n",
              "    <tr>\n",
              "      <th>2</th>\n",
              "      <td>This pop-up \"Get the best Spotify experience o...</td>\n",
              "      <td>NEGATIVE</td>\n",
              "    </tr>\n",
              "    <tr>\n",
              "      <th>3</th>\n",
              "      <td>Really buggy and terrible to use as of recently</td>\n",
              "      <td>NEGATIVE</td>\n",
              "    </tr>\n",
              "    <tr>\n",
              "      <th>4</th>\n",
              "      <td>Dear Spotify why do I get songs that I didn't ...</td>\n",
              "      <td>NEGATIVE</td>\n",
              "    </tr>\n",
              "    <tr>\n",
              "      <th>...</th>\n",
              "      <td>...</td>\n",
              "      <td>...</td>\n",
              "    </tr>\n",
              "    <tr>\n",
              "      <th>52697</th>\n",
              "      <td>Yes the best</td>\n",
              "      <td>POSITIVE</td>\n",
              "    </tr>\n",
              "    <tr>\n",
              "      <th>52698</th>\n",
              "      <td>Spotify won my heart in Feb 2024 You won my he...</td>\n",
              "      <td>POSITIVE</td>\n",
              "    </tr>\n",
              "    <tr>\n",
              "      <th>52699</th>\n",
              "      <td>I tried to open the app and it wont open I res...</td>\n",
              "      <td>POSITIVE</td>\n",
              "    </tr>\n",
              "    <tr>\n",
              "      <th>52700</th>\n",
              "      <td>Good</td>\n",
              "      <td>POSITIVE</td>\n",
              "    </tr>\n",
              "    <tr>\n",
              "      <th>52701</th>\n",
              "      <td>Nice app to play music and at very affordable ...</td>\n",
              "      <td>POSITIVE</td>\n",
              "    </tr>\n",
              "  </tbody>\n",
              "</table>\n",
              "<p>52686 rows × 2 columns</p>\n",
              "</div>\n",
              "    <div class=\"colab-df-buttons\">\n",
              "\n",
              "  <div class=\"colab-df-container\">\n",
              "    <button class=\"colab-df-convert\" onclick=\"convertToInteractive('df-e5d5910c-258e-42b0-9619-a7abd4667f79')\"\n",
              "            title=\"Convert this dataframe to an interactive table.\"\n",
              "            style=\"display:none;\">\n",
              "\n",
              "  <svg xmlns=\"http://www.w3.org/2000/svg\" height=\"24px\" viewBox=\"0 -960 960 960\">\n",
              "    <path d=\"M120-120v-720h720v720H120Zm60-500h600v-160H180v160Zm220 220h160v-160H400v160Zm0 220h160v-160H400v160ZM180-400h160v-160H180v160Zm440 0h160v-160H620v160ZM180-180h160v-160H180v160Zm440 0h160v-160H620v160Z\"/>\n",
              "  </svg>\n",
              "    </button>\n",
              "\n",
              "  <style>\n",
              "    .colab-df-container {\n",
              "      display:flex;\n",
              "      gap: 12px;\n",
              "    }\n",
              "\n",
              "    .colab-df-convert {\n",
              "      background-color: #E8F0FE;\n",
              "      border: none;\n",
              "      border-radius: 50%;\n",
              "      cursor: pointer;\n",
              "      display: none;\n",
              "      fill: #1967D2;\n",
              "      height: 32px;\n",
              "      padding: 0 0 0 0;\n",
              "      width: 32px;\n",
              "    }\n",
              "\n",
              "    .colab-df-convert:hover {\n",
              "      background-color: #E2EBFA;\n",
              "      box-shadow: 0px 1px 2px rgba(60, 64, 67, 0.3), 0px 1px 3px 1px rgba(60, 64, 67, 0.15);\n",
              "      fill: #174EA6;\n",
              "    }\n",
              "\n",
              "    .colab-df-buttons div {\n",
              "      margin-bottom: 4px;\n",
              "    }\n",
              "\n",
              "    [theme=dark] .colab-df-convert {\n",
              "      background-color: #3B4455;\n",
              "      fill: #D2E3FC;\n",
              "    }\n",
              "\n",
              "    [theme=dark] .colab-df-convert:hover {\n",
              "      background-color: #434B5C;\n",
              "      box-shadow: 0px 1px 3px 1px rgba(0, 0, 0, 0.15);\n",
              "      filter: drop-shadow(0px 1px 2px rgba(0, 0, 0, 0.3));\n",
              "      fill: #FFFFFF;\n",
              "    }\n",
              "  </style>\n",
              "\n",
              "    <script>\n",
              "      const buttonEl =\n",
              "        document.querySelector('#df-e5d5910c-258e-42b0-9619-a7abd4667f79 button.colab-df-convert');\n",
              "      buttonEl.style.display =\n",
              "        google.colab.kernel.accessAllowed ? 'block' : 'none';\n",
              "\n",
              "      async function convertToInteractive(key) {\n",
              "        const element = document.querySelector('#df-e5d5910c-258e-42b0-9619-a7abd4667f79');\n",
              "        const dataTable =\n",
              "          await google.colab.kernel.invokeFunction('convertToInteractive',\n",
              "                                                    [key], {});\n",
              "        if (!dataTable) return;\n",
              "\n",
              "        const docLinkHtml = 'Like what you see? Visit the ' +\n",
              "          '<a target=\"_blank\" href=https://colab.research.google.com/notebooks/data_table.ipynb>data table notebook</a>'\n",
              "          + ' to learn more about interactive tables.';\n",
              "        element.innerHTML = '';\n",
              "        dataTable['output_type'] = 'display_data';\n",
              "        await google.colab.output.renderOutput(dataTable, element);\n",
              "        const docLink = document.createElement('div');\n",
              "        docLink.innerHTML = docLinkHtml;\n",
              "        element.appendChild(docLink);\n",
              "      }\n",
              "    </script>\n",
              "  </div>\n",
              "\n",
              "\n",
              "    <div id=\"df-73064d5f-13ac-4fe9-ad29-e2cbe2916a8d\">\n",
              "      <button class=\"colab-df-quickchart\" onclick=\"quickchart('df-73064d5f-13ac-4fe9-ad29-e2cbe2916a8d')\"\n",
              "                title=\"Suggest charts\"\n",
              "                style=\"display:none;\">\n",
              "\n",
              "<svg xmlns=\"http://www.w3.org/2000/svg\" height=\"24px\"viewBox=\"0 0 24 24\"\n",
              "     width=\"24px\">\n",
              "    <g>\n",
              "        <path d=\"M19 3H5c-1.1 0-2 .9-2 2v14c0 1.1.9 2 2 2h14c1.1 0 2-.9 2-2V5c0-1.1-.9-2-2-2zM9 17H7v-7h2v7zm4 0h-2V7h2v10zm4 0h-2v-4h2v4z\"/>\n",
              "    </g>\n",
              "</svg>\n",
              "      </button>\n",
              "\n",
              "<style>\n",
              "  .colab-df-quickchart {\n",
              "      --bg-color: #E8F0FE;\n",
              "      --fill-color: #1967D2;\n",
              "      --hover-bg-color: #E2EBFA;\n",
              "      --hover-fill-color: #174EA6;\n",
              "      --disabled-fill-color: #AAA;\n",
              "      --disabled-bg-color: #DDD;\n",
              "  }\n",
              "\n",
              "  [theme=dark] .colab-df-quickchart {\n",
              "      --bg-color: #3B4455;\n",
              "      --fill-color: #D2E3FC;\n",
              "      --hover-bg-color: #434B5C;\n",
              "      --hover-fill-color: #FFFFFF;\n",
              "      --disabled-bg-color: #3B4455;\n",
              "      --disabled-fill-color: #666;\n",
              "  }\n",
              "\n",
              "  .colab-df-quickchart {\n",
              "    background-color: var(--bg-color);\n",
              "    border: none;\n",
              "    border-radius: 50%;\n",
              "    cursor: pointer;\n",
              "    display: none;\n",
              "    fill: var(--fill-color);\n",
              "    height: 32px;\n",
              "    padding: 0;\n",
              "    width: 32px;\n",
              "  }\n",
              "\n",
              "  .colab-df-quickchart:hover {\n",
              "    background-color: var(--hover-bg-color);\n",
              "    box-shadow: 0 1px 2px rgba(60, 64, 67, 0.3), 0 1px 3px 1px rgba(60, 64, 67, 0.15);\n",
              "    fill: var(--button-hover-fill-color);\n",
              "  }\n",
              "\n",
              "  .colab-df-quickchart-complete:disabled,\n",
              "  .colab-df-quickchart-complete:disabled:hover {\n",
              "    background-color: var(--disabled-bg-color);\n",
              "    fill: var(--disabled-fill-color);\n",
              "    box-shadow: none;\n",
              "  }\n",
              "\n",
              "  .colab-df-spinner {\n",
              "    border: 2px solid var(--fill-color);\n",
              "    border-color: transparent;\n",
              "    border-bottom-color: var(--fill-color);\n",
              "    animation:\n",
              "      spin 1s steps(1) infinite;\n",
              "  }\n",
              "\n",
              "  @keyframes spin {\n",
              "    0% {\n",
              "      border-color: transparent;\n",
              "      border-bottom-color: var(--fill-color);\n",
              "      border-left-color: var(--fill-color);\n",
              "    }\n",
              "    20% {\n",
              "      border-color: transparent;\n",
              "      border-left-color: var(--fill-color);\n",
              "      border-top-color: var(--fill-color);\n",
              "    }\n",
              "    30% {\n",
              "      border-color: transparent;\n",
              "      border-left-color: var(--fill-color);\n",
              "      border-top-color: var(--fill-color);\n",
              "      border-right-color: var(--fill-color);\n",
              "    }\n",
              "    40% {\n",
              "      border-color: transparent;\n",
              "      border-right-color: var(--fill-color);\n",
              "      border-top-color: var(--fill-color);\n",
              "    }\n",
              "    60% {\n",
              "      border-color: transparent;\n",
              "      border-right-color: var(--fill-color);\n",
              "    }\n",
              "    80% {\n",
              "      border-color: transparent;\n",
              "      border-right-color: var(--fill-color);\n",
              "      border-bottom-color: var(--fill-color);\n",
              "    }\n",
              "    90% {\n",
              "      border-color: transparent;\n",
              "      border-bottom-color: var(--fill-color);\n",
              "    }\n",
              "  }\n",
              "</style>\n",
              "\n",
              "      <script>\n",
              "        async function quickchart(key) {\n",
              "          const quickchartButtonEl =\n",
              "            document.querySelector('#' + key + ' button');\n",
              "          quickchartButtonEl.disabled = true;  // To prevent multiple clicks.\n",
              "          quickchartButtonEl.classList.add('colab-df-spinner');\n",
              "          try {\n",
              "            const charts = await google.colab.kernel.invokeFunction(\n",
              "                'suggestCharts', [key], {});\n",
              "          } catch (error) {\n",
              "            console.error('Error during call to suggestCharts:', error);\n",
              "          }\n",
              "          quickchartButtonEl.classList.remove('colab-df-spinner');\n",
              "          quickchartButtonEl.classList.add('colab-df-quickchart-complete');\n",
              "        }\n",
              "        (() => {\n",
              "          let quickchartButtonEl =\n",
              "            document.querySelector('#df-73064d5f-13ac-4fe9-ad29-e2cbe2916a8d button');\n",
              "          quickchartButtonEl.style.display =\n",
              "            google.colab.kernel.accessAllowed ? 'block' : 'none';\n",
              "        })();\n",
              "      </script>\n",
              "    </div>\n",
              "\n",
              "  <div id=\"id_8b8c6cf8-2b79-4dcb-ba40-2c5d9ce77d85\">\n",
              "    <style>\n",
              "      .colab-df-generate {\n",
              "        background-color: #E8F0FE;\n",
              "        border: none;\n",
              "        border-radius: 50%;\n",
              "        cursor: pointer;\n",
              "        display: none;\n",
              "        fill: #1967D2;\n",
              "        height: 32px;\n",
              "        padding: 0 0 0 0;\n",
              "        width: 32px;\n",
              "      }\n",
              "\n",
              "      .colab-df-generate:hover {\n",
              "        background-color: #E2EBFA;\n",
              "        box-shadow: 0px 1px 2px rgba(60, 64, 67, 0.3), 0px 1px 3px 1px rgba(60, 64, 67, 0.15);\n",
              "        fill: #174EA6;\n",
              "      }\n",
              "\n",
              "      [theme=dark] .colab-df-generate {\n",
              "        background-color: #3B4455;\n",
              "        fill: #D2E3FC;\n",
              "      }\n",
              "\n",
              "      [theme=dark] .colab-df-generate:hover {\n",
              "        background-color: #434B5C;\n",
              "        box-shadow: 0px 1px 3px 1px rgba(0, 0, 0, 0.15);\n",
              "        filter: drop-shadow(0px 1px 2px rgba(0, 0, 0, 0.3));\n",
              "        fill: #FFFFFF;\n",
              "      }\n",
              "    </style>\n",
              "    <button class=\"colab-df-generate\" onclick=\"generateWithVariable('df')\"\n",
              "            title=\"Generate code using this dataframe.\"\n",
              "            style=\"display:none;\">\n",
              "\n",
              "  <svg xmlns=\"http://www.w3.org/2000/svg\" height=\"24px\"viewBox=\"0 0 24 24\"\n",
              "       width=\"24px\">\n",
              "    <path d=\"M7,19H8.4L18.45,9,17,7.55,7,17.6ZM5,21V16.75L18.45,3.32a2,2,0,0,1,2.83,0l1.4,1.43a1.91,1.91,0,0,1,.58,1.4,1.91,1.91,0,0,1-.58,1.4L9.25,21ZM18.45,9,17,7.55Zm-12,3A5.31,5.31,0,0,0,4.9,8.1,5.31,5.31,0,0,0,1,6.5,5.31,5.31,0,0,0,4.9,4.9,5.31,5.31,0,0,0,6.5,1,5.31,5.31,0,0,0,8.1,4.9,5.31,5.31,0,0,0,12,6.5,5.46,5.46,0,0,0,6.5,12Z\"/>\n",
              "  </svg>\n",
              "    </button>\n",
              "    <script>\n",
              "      (() => {\n",
              "      const buttonEl =\n",
              "        document.querySelector('#id_8b8c6cf8-2b79-4dcb-ba40-2c5d9ce77d85 button.colab-df-generate');\n",
              "      buttonEl.style.display =\n",
              "        google.colab.kernel.accessAllowed ? 'block' : 'none';\n",
              "\n",
              "      buttonEl.onclick = () => {\n",
              "        google.colab.notebook.generateWithVariable('df');\n",
              "      }\n",
              "      })();\n",
              "    </script>\n",
              "  </div>\n",
              "\n",
              "    </div>\n",
              "  </div>\n"
            ],
            "application/vnd.google.colaboratory.intrinsic+json": {
              "type": "dataframe",
              "variable_name": "df",
              "summary": "{\n  \"name\": \"df\",\n  \"rows\": 52686,\n  \"fields\": [\n    {\n      \"column\": \"Review\",\n      \"properties\": {\n        \"dtype\": \"string\",\n        \"num_unique_values\": 51472,\n        \"samples\": [\n          \"What's the point of being able to download music if it's just going to delete my downloaded music the day after and force me to go back online after if I want to listen to my downloaded music? Stick to Apple Music or Tidal. Spotify doesn't care for it's users.\",\n          \"Media buttons disappear after a while, so you lose control of the app. Please fix this bug as soon as possible, as it leaves the app unusable.\",\n          \"The app loses a part of its interface, in which the app needs to be force closed for it to return. Frustrating to do that a dozen times every day.\"\n        ],\n        \"semantic_type\": \"\",\n        \"description\": \"\"\n      }\n    },\n    {\n      \"column\": \"label\",\n      \"properties\": {\n        \"dtype\": \"category\",\n        \"num_unique_values\": 2,\n        \"samples\": [\n          \"NEGATIVE\",\n          \"POSITIVE\"\n        ],\n        \"semantic_type\": \"\",\n        \"description\": \"\"\n      }\n    }\n  ]\n}"
            }
          },
          "metadata": {}
        }
      ]
    },
    {
      "cell_type": "code",
      "source": [
        "def label_to_num(s):\n",
        "  if s.lower() == 'negative':\n",
        "    return 0\n",
        "  else:\n",
        "    return 1"
      ],
      "metadata": {
        "id": "9uRCDztjp-KW"
      },
      "execution_count": null,
      "outputs": []
    },
    {
      "cell_type": "code",
      "source": [
        "# Cleaning the text\n",
        "def clean_text(text):\n",
        "    '''Make text lowercase, remove text in square brackets,\n",
        "    remove links, remove punctuation\n",
        "    and remove words containing numbers.'''\n",
        "    text = str(text).lower()\n",
        "    text = re.sub('\\[.*?\\]', '', text)\n",
        "    text = re.sub('https?://\\S+|www\\.\\S+', '', text)\n",
        "    text = re.sub('<.*?>+', '', text)\n",
        "    text = re.sub('[%s]' % re.escape(string.punctuation), '', text)\n",
        "    text = re.sub('\\n', '', text)\n",
        "    text = re.sub('\\w*\\d\\w*', '', text)\n",
        "    return text"
      ],
      "metadata": {
        "id": "O3dVsjWhEYTZ",
        "colab": {
          "base_uri": "https://localhost:8080/"
        },
        "outputId": "6dae1b37-511f-4bc5-dd76-c233fc2daedf"
      },
      "execution_count": null,
      "outputs": [
        {
          "output_type": "stream",
          "name": "stderr",
          "text": [
            "<>:7: SyntaxWarning: invalid escape sequence '\\['\n",
            "<>:8: SyntaxWarning: invalid escape sequence '\\S'\n",
            "<>:12: SyntaxWarning: invalid escape sequence '\\w'\n",
            "<>:7: SyntaxWarning: invalid escape sequence '\\['\n",
            "<>:8: SyntaxWarning: invalid escape sequence '\\S'\n",
            "<>:12: SyntaxWarning: invalid escape sequence '\\w'\n",
            "/tmp/ipython-input-3888752078.py:7: SyntaxWarning: invalid escape sequence '\\['\n",
            "  text = re.sub('\\[.*?\\]', '', text)\n",
            "/tmp/ipython-input-3888752078.py:8: SyntaxWarning: invalid escape sequence '\\S'\n",
            "  text = re.sub('https?://\\S+|www\\.\\S+', '', text)\n",
            "/tmp/ipython-input-3888752078.py:12: SyntaxWarning: invalid escape sequence '\\w'\n",
            "  text = re.sub('\\w*\\d\\w*', '', text)\n"
          ]
        }
      ]
    },
    {
      "cell_type": "code",
      "source": [
        "review_label = ['negative', 'positive']\n",
        "\n",
        "# clean text and change labels to 0 or 1 (negative, positive)\n",
        "df['label'] = df['label'].apply(label_to_num)\n",
        "df['Review'] = df['Review'].apply(clean_text)\n",
        "\n",
        "\n",
        "display(df)"
      ],
      "metadata": {
        "colab": {
          "base_uri": "https://localhost:8080/",
          "height": 423
        },
        "id": "XFqlw7k6qx1G",
        "outputId": "b63dc112-aea0-42ad-93fc-49df1ef18cc2"
      },
      "execution_count": null,
      "outputs": [
        {
          "output_type": "display_data",
          "data": {
            "text/plain": [
              "                                                  Review  label\n",
              "0      great music service the audio is high quality ...      1\n",
              "1      please ignore previous negative rating this ap...      1\n",
              "2      this popup get the best spotify experience on ...      0\n",
              "3        really buggy and terrible to use as of recently      0\n",
              "4      dear spotify why do i get songs that i didnt p...      0\n",
              "...                                                  ...    ...\n",
              "52697                                       yes the best      1\n",
              "52698  spotify won my heart in feb  you won my heart ...      1\n",
              "52699  i tried to open the app and it wont open i res...      1\n",
              "52700                                              good       1\n",
              "52701  nice app to play music and at very affordable ...      1\n",
              "\n",
              "[52686 rows x 2 columns]"
            ],
            "text/html": [
              "\n",
              "  <div id=\"df-9e89edee-62a2-4516-b2a1-9a512a9eafef\" class=\"colab-df-container\">\n",
              "    <div>\n",
              "<style scoped>\n",
              "    .dataframe tbody tr th:only-of-type {\n",
              "        vertical-align: middle;\n",
              "    }\n",
              "\n",
              "    .dataframe tbody tr th {\n",
              "        vertical-align: top;\n",
              "    }\n",
              "\n",
              "    .dataframe thead th {\n",
              "        text-align: right;\n",
              "    }\n",
              "</style>\n",
              "<table border=\"1\" class=\"dataframe\">\n",
              "  <thead>\n",
              "    <tr style=\"text-align: right;\">\n",
              "      <th></th>\n",
              "      <th>Review</th>\n",
              "      <th>label</th>\n",
              "    </tr>\n",
              "  </thead>\n",
              "  <tbody>\n",
              "    <tr>\n",
              "      <th>0</th>\n",
              "      <td>great music service the audio is high quality ...</td>\n",
              "      <td>1</td>\n",
              "    </tr>\n",
              "    <tr>\n",
              "      <th>1</th>\n",
              "      <td>please ignore previous negative rating this ap...</td>\n",
              "      <td>1</td>\n",
              "    </tr>\n",
              "    <tr>\n",
              "      <th>2</th>\n",
              "      <td>this popup get the best spotify experience on ...</td>\n",
              "      <td>0</td>\n",
              "    </tr>\n",
              "    <tr>\n",
              "      <th>3</th>\n",
              "      <td>really buggy and terrible to use as of recently</td>\n",
              "      <td>0</td>\n",
              "    </tr>\n",
              "    <tr>\n",
              "      <th>4</th>\n",
              "      <td>dear spotify why do i get songs that i didnt p...</td>\n",
              "      <td>0</td>\n",
              "    </tr>\n",
              "    <tr>\n",
              "      <th>...</th>\n",
              "      <td>...</td>\n",
              "      <td>...</td>\n",
              "    </tr>\n",
              "    <tr>\n",
              "      <th>52697</th>\n",
              "      <td>yes the best</td>\n",
              "      <td>1</td>\n",
              "    </tr>\n",
              "    <tr>\n",
              "      <th>52698</th>\n",
              "      <td>spotify won my heart in feb  you won my heart ...</td>\n",
              "      <td>1</td>\n",
              "    </tr>\n",
              "    <tr>\n",
              "      <th>52699</th>\n",
              "      <td>i tried to open the app and it wont open i res...</td>\n",
              "      <td>1</td>\n",
              "    </tr>\n",
              "    <tr>\n",
              "      <th>52700</th>\n",
              "      <td>good</td>\n",
              "      <td>1</td>\n",
              "    </tr>\n",
              "    <tr>\n",
              "      <th>52701</th>\n",
              "      <td>nice app to play music and at very affordable ...</td>\n",
              "      <td>1</td>\n",
              "    </tr>\n",
              "  </tbody>\n",
              "</table>\n",
              "<p>52686 rows × 2 columns</p>\n",
              "</div>\n",
              "    <div class=\"colab-df-buttons\">\n",
              "\n",
              "  <div class=\"colab-df-container\">\n",
              "    <button class=\"colab-df-convert\" onclick=\"convertToInteractive('df-9e89edee-62a2-4516-b2a1-9a512a9eafef')\"\n",
              "            title=\"Convert this dataframe to an interactive table.\"\n",
              "            style=\"display:none;\">\n",
              "\n",
              "  <svg xmlns=\"http://www.w3.org/2000/svg\" height=\"24px\" viewBox=\"0 -960 960 960\">\n",
              "    <path d=\"M120-120v-720h720v720H120Zm60-500h600v-160H180v160Zm220 220h160v-160H400v160Zm0 220h160v-160H400v160ZM180-400h160v-160H180v160Zm440 0h160v-160H620v160ZM180-180h160v-160H180v160Zm440 0h160v-160H620v160Z\"/>\n",
              "  </svg>\n",
              "    </button>\n",
              "\n",
              "  <style>\n",
              "    .colab-df-container {\n",
              "      display:flex;\n",
              "      gap: 12px;\n",
              "    }\n",
              "\n",
              "    .colab-df-convert {\n",
              "      background-color: #E8F0FE;\n",
              "      border: none;\n",
              "      border-radius: 50%;\n",
              "      cursor: pointer;\n",
              "      display: none;\n",
              "      fill: #1967D2;\n",
              "      height: 32px;\n",
              "      padding: 0 0 0 0;\n",
              "      width: 32px;\n",
              "    }\n",
              "\n",
              "    .colab-df-convert:hover {\n",
              "      background-color: #E2EBFA;\n",
              "      box-shadow: 0px 1px 2px rgba(60, 64, 67, 0.3), 0px 1px 3px 1px rgba(60, 64, 67, 0.15);\n",
              "      fill: #174EA6;\n",
              "    }\n",
              "\n",
              "    .colab-df-buttons div {\n",
              "      margin-bottom: 4px;\n",
              "    }\n",
              "\n",
              "    [theme=dark] .colab-df-convert {\n",
              "      background-color: #3B4455;\n",
              "      fill: #D2E3FC;\n",
              "    }\n",
              "\n",
              "    [theme=dark] .colab-df-convert:hover {\n",
              "      background-color: #434B5C;\n",
              "      box-shadow: 0px 1px 3px 1px rgba(0, 0, 0, 0.15);\n",
              "      filter: drop-shadow(0px 1px 2px rgba(0, 0, 0, 0.3));\n",
              "      fill: #FFFFFF;\n",
              "    }\n",
              "  </style>\n",
              "\n",
              "    <script>\n",
              "      const buttonEl =\n",
              "        document.querySelector('#df-9e89edee-62a2-4516-b2a1-9a512a9eafef button.colab-df-convert');\n",
              "      buttonEl.style.display =\n",
              "        google.colab.kernel.accessAllowed ? 'block' : 'none';\n",
              "\n",
              "      async function convertToInteractive(key) {\n",
              "        const element = document.querySelector('#df-9e89edee-62a2-4516-b2a1-9a512a9eafef');\n",
              "        const dataTable =\n",
              "          await google.colab.kernel.invokeFunction('convertToInteractive',\n",
              "                                                    [key], {});\n",
              "        if (!dataTable) return;\n",
              "\n",
              "        const docLinkHtml = 'Like what you see? Visit the ' +\n",
              "          '<a target=\"_blank\" href=https://colab.research.google.com/notebooks/data_table.ipynb>data table notebook</a>'\n",
              "          + ' to learn more about interactive tables.';\n",
              "        element.innerHTML = '';\n",
              "        dataTable['output_type'] = 'display_data';\n",
              "        await google.colab.output.renderOutput(dataTable, element);\n",
              "        const docLink = document.createElement('div');\n",
              "        docLink.innerHTML = docLinkHtml;\n",
              "        element.appendChild(docLink);\n",
              "      }\n",
              "    </script>\n",
              "  </div>\n",
              "\n",
              "\n",
              "    <div id=\"df-0307b219-e460-44e8-834e-c4a217ed9626\">\n",
              "      <button class=\"colab-df-quickchart\" onclick=\"quickchart('df-0307b219-e460-44e8-834e-c4a217ed9626')\"\n",
              "                title=\"Suggest charts\"\n",
              "                style=\"display:none;\">\n",
              "\n",
              "<svg xmlns=\"http://www.w3.org/2000/svg\" height=\"24px\"viewBox=\"0 0 24 24\"\n",
              "     width=\"24px\">\n",
              "    <g>\n",
              "        <path d=\"M19 3H5c-1.1 0-2 .9-2 2v14c0 1.1.9 2 2 2h14c1.1 0 2-.9 2-2V5c0-1.1-.9-2-2-2zM9 17H7v-7h2v7zm4 0h-2V7h2v10zm4 0h-2v-4h2v4z\"/>\n",
              "    </g>\n",
              "</svg>\n",
              "      </button>\n",
              "\n",
              "<style>\n",
              "  .colab-df-quickchart {\n",
              "      --bg-color: #E8F0FE;\n",
              "      --fill-color: #1967D2;\n",
              "      --hover-bg-color: #E2EBFA;\n",
              "      --hover-fill-color: #174EA6;\n",
              "      --disabled-fill-color: #AAA;\n",
              "      --disabled-bg-color: #DDD;\n",
              "  }\n",
              "\n",
              "  [theme=dark] .colab-df-quickchart {\n",
              "      --bg-color: #3B4455;\n",
              "      --fill-color: #D2E3FC;\n",
              "      --hover-bg-color: #434B5C;\n",
              "      --hover-fill-color: #FFFFFF;\n",
              "      --disabled-bg-color: #3B4455;\n",
              "      --disabled-fill-color: #666;\n",
              "  }\n",
              "\n",
              "  .colab-df-quickchart {\n",
              "    background-color: var(--bg-color);\n",
              "    border: none;\n",
              "    border-radius: 50%;\n",
              "    cursor: pointer;\n",
              "    display: none;\n",
              "    fill: var(--fill-color);\n",
              "    height: 32px;\n",
              "    padding: 0;\n",
              "    width: 32px;\n",
              "  }\n",
              "\n",
              "  .colab-df-quickchart:hover {\n",
              "    background-color: var(--hover-bg-color);\n",
              "    box-shadow: 0 1px 2px rgba(60, 64, 67, 0.3), 0 1px 3px 1px rgba(60, 64, 67, 0.15);\n",
              "    fill: var(--button-hover-fill-color);\n",
              "  }\n",
              "\n",
              "  .colab-df-quickchart-complete:disabled,\n",
              "  .colab-df-quickchart-complete:disabled:hover {\n",
              "    background-color: var(--disabled-bg-color);\n",
              "    fill: var(--disabled-fill-color);\n",
              "    box-shadow: none;\n",
              "  }\n",
              "\n",
              "  .colab-df-spinner {\n",
              "    border: 2px solid var(--fill-color);\n",
              "    border-color: transparent;\n",
              "    border-bottom-color: var(--fill-color);\n",
              "    animation:\n",
              "      spin 1s steps(1) infinite;\n",
              "  }\n",
              "\n",
              "  @keyframes spin {\n",
              "    0% {\n",
              "      border-color: transparent;\n",
              "      border-bottom-color: var(--fill-color);\n",
              "      border-left-color: var(--fill-color);\n",
              "    }\n",
              "    20% {\n",
              "      border-color: transparent;\n",
              "      border-left-color: var(--fill-color);\n",
              "      border-top-color: var(--fill-color);\n",
              "    }\n",
              "    30% {\n",
              "      border-color: transparent;\n",
              "      border-left-color: var(--fill-color);\n",
              "      border-top-color: var(--fill-color);\n",
              "      border-right-color: var(--fill-color);\n",
              "    }\n",
              "    40% {\n",
              "      border-color: transparent;\n",
              "      border-right-color: var(--fill-color);\n",
              "      border-top-color: var(--fill-color);\n",
              "    }\n",
              "    60% {\n",
              "      border-color: transparent;\n",
              "      border-right-color: var(--fill-color);\n",
              "    }\n",
              "    80% {\n",
              "      border-color: transparent;\n",
              "      border-right-color: var(--fill-color);\n",
              "      border-bottom-color: var(--fill-color);\n",
              "    }\n",
              "    90% {\n",
              "      border-color: transparent;\n",
              "      border-bottom-color: var(--fill-color);\n",
              "    }\n",
              "  }\n",
              "</style>\n",
              "\n",
              "      <script>\n",
              "        async function quickchart(key) {\n",
              "          const quickchartButtonEl =\n",
              "            document.querySelector('#' + key + ' button');\n",
              "          quickchartButtonEl.disabled = true;  // To prevent multiple clicks.\n",
              "          quickchartButtonEl.classList.add('colab-df-spinner');\n",
              "          try {\n",
              "            const charts = await google.colab.kernel.invokeFunction(\n",
              "                'suggestCharts', [key], {});\n",
              "          } catch (error) {\n",
              "            console.error('Error during call to suggestCharts:', error);\n",
              "          }\n",
              "          quickchartButtonEl.classList.remove('colab-df-spinner');\n",
              "          quickchartButtonEl.classList.add('colab-df-quickchart-complete');\n",
              "        }\n",
              "        (() => {\n",
              "          let quickchartButtonEl =\n",
              "            document.querySelector('#df-0307b219-e460-44e8-834e-c4a217ed9626 button');\n",
              "          quickchartButtonEl.style.display =\n",
              "            google.colab.kernel.accessAllowed ? 'block' : 'none';\n",
              "        })();\n",
              "      </script>\n",
              "    </div>\n",
              "\n",
              "  <div id=\"id_1420ef3a-9d40-49c0-a703-bc5f39309b67\">\n",
              "    <style>\n",
              "      .colab-df-generate {\n",
              "        background-color: #E8F0FE;\n",
              "        border: none;\n",
              "        border-radius: 50%;\n",
              "        cursor: pointer;\n",
              "        display: none;\n",
              "        fill: #1967D2;\n",
              "        height: 32px;\n",
              "        padding: 0 0 0 0;\n",
              "        width: 32px;\n",
              "      }\n",
              "\n",
              "      .colab-df-generate:hover {\n",
              "        background-color: #E2EBFA;\n",
              "        box-shadow: 0px 1px 2px rgba(60, 64, 67, 0.3), 0px 1px 3px 1px rgba(60, 64, 67, 0.15);\n",
              "        fill: #174EA6;\n",
              "      }\n",
              "\n",
              "      [theme=dark] .colab-df-generate {\n",
              "        background-color: #3B4455;\n",
              "        fill: #D2E3FC;\n",
              "      }\n",
              "\n",
              "      [theme=dark] .colab-df-generate:hover {\n",
              "        background-color: #434B5C;\n",
              "        box-shadow: 0px 1px 3px 1px rgba(0, 0, 0, 0.15);\n",
              "        filter: drop-shadow(0px 1px 2px rgba(0, 0, 0, 0.3));\n",
              "        fill: #FFFFFF;\n",
              "      }\n",
              "    </style>\n",
              "    <button class=\"colab-df-generate\" onclick=\"generateWithVariable('df')\"\n",
              "            title=\"Generate code using this dataframe.\"\n",
              "            style=\"display:none;\">\n",
              "\n",
              "  <svg xmlns=\"http://www.w3.org/2000/svg\" height=\"24px\"viewBox=\"0 0 24 24\"\n",
              "       width=\"24px\">\n",
              "    <path d=\"M7,19H8.4L18.45,9,17,7.55,7,17.6ZM5,21V16.75L18.45,3.32a2,2,0,0,1,2.83,0l1.4,1.43a1.91,1.91,0,0,1,.58,1.4,1.91,1.91,0,0,1-.58,1.4L9.25,21ZM18.45,9,17,7.55Zm-12,3A5.31,5.31,0,0,0,4.9,8.1,5.31,5.31,0,0,0,1,6.5,5.31,5.31,0,0,0,4.9,4.9,5.31,5.31,0,0,0,6.5,1,5.31,5.31,0,0,0,8.1,4.9,5.31,5.31,0,0,0,12,6.5,5.46,5.46,0,0,0,6.5,12Z\"/>\n",
              "  </svg>\n",
              "    </button>\n",
              "    <script>\n",
              "      (() => {\n",
              "      const buttonEl =\n",
              "        document.querySelector('#id_1420ef3a-9d40-49c0-a703-bc5f39309b67 button.colab-df-generate');\n",
              "      buttonEl.style.display =\n",
              "        google.colab.kernel.accessAllowed ? 'block' : 'none';\n",
              "\n",
              "      buttonEl.onclick = () => {\n",
              "        google.colab.notebook.generateWithVariable('df');\n",
              "      }\n",
              "      })();\n",
              "    </script>\n",
              "  </div>\n",
              "\n",
              "    </div>\n",
              "  </div>\n"
            ],
            "application/vnd.google.colaboratory.intrinsic+json": {
              "type": "dataframe",
              "variable_name": "df",
              "summary": "{\n  \"name\": \"df\",\n  \"rows\": 52686,\n  \"fields\": [\n    {\n      \"column\": \"Review\",\n      \"properties\": {\n        \"dtype\": \"string\",\n        \"num_unique_values\": 51214,\n        \"samples\": [\n          \"i love spotify because it gives you so many wonderful options to discover\",\n          \"disappears on android auto often spotify trying to be too helpful on making the app easier to use it is actually a backwards step\",\n          \"easy to operate has a great variety of different types of music to listen to its a great music app to have\"\n        ],\n        \"semantic_type\": \"\",\n        \"description\": \"\"\n      }\n    },\n    {\n      \"column\": \"label\",\n      \"properties\": {\n        \"dtype\": \"number\",\n        \"std\": 0,\n        \"min\": 0,\n        \"max\": 1,\n        \"num_unique_values\": 2,\n        \"samples\": [\n          0,\n          1\n        ],\n        \"semantic_type\": \"\",\n        \"description\": \"\"\n      }\n    }\n  ]\n}"
            }
          },
          "metadata": {}
        }
      ]
    },
    {
      "cell_type": "code",
      "source": [
        "X_features = df['Review']\n",
        "Y_labels = df['label']\n",
        "\n",
        "print('Shape of our X_features array:', X_features.shape)\n",
        "print('Shape of our Y_labels array:', Y_labels.shape)"
      ],
      "metadata": {
        "colab": {
          "base_uri": "https://localhost:8080/"
        },
        "id": "vPrBlM_nod2g",
        "outputId": "fdc6d949-3c4d-47be-eeb1-2d808fdec227"
      },
      "execution_count": null,
      "outputs": [
        {
          "output_type": "stream",
          "name": "stdout",
          "text": [
            "Shape of our X_features array: (52686,)\n",
            "Shape of our Y_labels array: (52686,)\n"
          ]
        }
      ]
    },
    {
      "cell_type": "markdown",
      "source": [
        "---\n",
        "# Dataset Split\n",
        "\n",
        "Now that we have set up and loaded our data, we must normalize our data and set an `80/20` split for `training/testing`. Once again, `X_train/X_test` will just be filled with our reviews as text and `Y_train/Y_test` will just be the labels to each review. `0` being a `negative review`, `1` being a `positive review`."
      ],
      "metadata": {
        "id": "euOtLt_dpf0n"
      }
    },
    {
      "cell_type": "code",
      "source": [
        "X_train, X_test = np.array_split(X_features, [int(len(df) * 0.8)])\n",
        "Y_train, Y_test = np.array_split(Y_labels, [int(len(df) * 0.8)])\n",
        "\n",
        "print('Shape of our X_train array:', X_train.shape)\n",
        "print('Shape of our X_test array:', X_test.shape)"
      ],
      "metadata": {
        "colab": {
          "base_uri": "https://localhost:8080/"
        },
        "id": "ub03r7kLpaMj",
        "outputId": "5d5125e5-5d43-4ca5-dbfb-55e50b269fde"
      },
      "execution_count": null,
      "outputs": [
        {
          "output_type": "stream",
          "name": "stdout",
          "text": [
            "Shape of our X_train array: (42148,)\n",
            "Shape of our X_test array: (10538,)\n"
          ]
        },
        {
          "output_type": "stream",
          "name": "stderr",
          "text": [
            "/usr/local/lib/python3.12/dist-packages/numpy/_core/fromnumeric.py:57: FutureWarning: 'Series.swapaxes' is deprecated and will be removed in a future version. Please use 'Series.transpose' instead.\n",
            "  return bound(*args, **kwds)\n"
          ]
        }
      ]
    },
    {
      "cell_type": "code",
      "source": [
        "l = 'Negative', 'Positive'\n",
        "sizes = [len(Y_train[Y_train == 0]), len(Y_train[Y_train == 1])]\n",
        "\n",
        "fig, ax = plt.subplots()\n",
        "ax.pie(sizes, labels=l, autopct='%1.1f%%', startangle=90, colors=['#ec414e', '#19bee7'])\n",
        "plt.title('Distribution of Reviews in Training Set')\n",
        "\n",
        "plt.show()"
      ],
      "metadata": {
        "colab": {
          "base_uri": "https://localhost:8080/",
          "height": 428
        },
        "id": "gA_NBo1vBT22",
        "outputId": "5ccc64ca-65fb-43f4-d174-5c2d776989b0"
      },
      "execution_count": null,
      "outputs": [
        {
          "output_type": "display_data",
          "data": {
            "text/plain": [
              "<Figure size 640x480 with 1 Axes>"
            ],
            "image/png": "[encoded data removed]"
          },
          "metadata": {}
        }
      ]
    },
    {
      "cell_type": "markdown",
      "source": [
        "As you can see from the pie chart, our data is almost split 50/50 from our training set. 60% being negative reviews and the other 40% consisting of positive reviews. This means we have a sufficient amount of split to where we will encounter little to no bias when training. We will be checking for this in our baseline model."
      ],
      "metadata": {
        "id": "g_3VCbEJ4Qd-"
      }
    },
    {
      "cell_type": "markdown",
      "source": [
        "---\n",
        "# Visualizing our Data\n"
      ],
      "metadata": {
        "id": "XBL_hTGY5RLQ"
      }
    },
    {
      "cell_type": "code",
      "source": [
        "# Create a list of lengths for training examples with a positive label.\n",
        "text_lengths_pos = [len(x) for (i, x) in enumerate(X_train) if Y_train[i]]\n",
        "\n",
        "# And a list of lengths for training examples with a negative label.\n",
        "text_lengths_neg = [len(x) for (i, x) in enumerate(X_train) if not Y_train[i]]\n",
        "\n",
        "# The histogram function can take a list of inputs and corresponding labels.\n",
        "plt.hist([text_lengths_pos, text_lengths_neg], bins=20, range=(0, 500),\n",
        "         label=['positive', 'negative'])\n",
        "plt.legend()\n",
        "plt.show()\n",
        "\n",
        "# Also check the longest reviews.\n",
        "print('Longest positive review:', max(text_lengths_pos))\n",
        "print('Longest negative review:', max(text_lengths_neg))"
      ],
      "metadata": {
        "colab": {
          "base_uri": "https://localhost:8080/",
          "height": 470
        },
        "id": "aqe7NIUOZSc6",
        "outputId": "ebc2a571-c013-4ff7-a267-2ed4f79dc074"
      },
      "execution_count": null,
      "outputs": [
        {
          "output_type": "display_data",
          "data": {
            "text/plain": [
              "<Figure size 640x480 with 1 Axes>"
            ],
            "image/png": "[encoded data removed]"
          },
          "metadata": {}
        },
        {
          "output_type": "stream",
          "name": "stdout",
          "text": [
            "Longest positive review: 998\n",
            "Longest negative review: 1623\n"
          ]
        }
      ]
    },
    {
      "cell_type": "markdown",
      "source": [
        "# Tokenization"
      ],
      "metadata": {
        "id": "rGYUkv-5FhuX"
      }
    },
    {
      "cell_type": "markdown",
      "source": [
        "### Padding and Reduced Length\n",
        "As is clear from the length histogram, the current representation of the review text is a variable-length array. Since fixed-length arrays are easier to work with in Tensorflow, let's add special padding tokens at the end of each review until they are all the same length.\n",
        "\n",
        "We'll also use this operation to limit the number of token positions by truncating all reviews to a specified length. In the code below, as an example, we pad all training inputs to length 600.\n",
        "\n",
        "&nbsp;\n",
        "\n",
        "### Reduced Vocabulary\n",
        "We also want to be able to limit the vocabulary size. Since our padding function produces fixed-length sequences in a numpy matrix, we can use clever numpy indexing to efficiently replace all token IDs larger than some value with the designated out-of-vocabulary (OOV) ID.\n",
        "\n",
        "In the code below, as an example, we'll keep just token IDs less than 30000, replacing all others with OOV."
      ],
      "metadata": {
        "id": "qGiAGWyB4rnN"
      }
    },
    {
      "cell_type": "code",
      "source": [
        "def preprocess_text_data(text_data, tokenizer, max_length, max_vocab_size):\n",
        "    # Tokenize the text\n",
        "    sequences = tokenizer.texts_to_sequences(text_data)\n",
        "\n",
        "    # Pad sequences to a fixed length\n",
        "    padded_sequences = tf.keras.preprocessing.sequence.pad_sequences(sequences, maxlen=max_length, padding='post', value=0)\n",
        "\n",
        "    # Limit vocabulary to the max_vocab_size by setting any token_id >= max_vocab_size to 0 (OOV token)\n",
        "    limited_vocab_sequences = np.where(padded_sequences >= max_vocab_size, 0, padded_sequences)\n",
        "\n",
        "    return limited_vocab_sequences"
      ],
      "metadata": {
        "id": "nCSS0ZlIeBwy"
      },
      "execution_count": null,
      "outputs": []
    },
    {
      "cell_type": "code",
      "source": [
        "# Initialize the tokenizer and fit on the data (X_train)\n",
        "tokenizer = tf.keras.preprocessing.text.Tokenizer(num_words=30000, oov_token=\"<OOV>\")\n",
        "tokenizer.fit_on_texts(X_train)\n",
        "\n",
        "# Preprocess the training data\n",
        "max_length = 600\n",
        "max_vocab_size = 30000\n",
        "X_train_processed = preprocess_text_data(X_train, tokenizer, max_length=max_length, max_vocab_size=max_vocab_size)\n"
      ],
      "metadata": {
        "id": "uJBplCMDgtmq"
      },
      "execution_count": null,
      "outputs": []
    },
    {
      "cell_type": "code",
      "source": [
        "X_train_processed[500]"
      ],
      "metadata": {
        "colab": {
          "base_uri": "https://localhost:8080/"
        },
        "id": "GeLbvxKcOOGZ",
        "outputId": "e988c01b-2bcc-4ea9-b3f9-2c0c3f352fce"
      },
      "execution_count": null,
      "outputs": [
        {
          "output_type": "execute_result",
          "data": {
            "text/plain": [
              "array([9675,    4, 2318,   14,    7, 1399,   41,   86,   23,  339,  947,\n",
              "         41,    4,  364,   37,    3,  133,   24,   11,   46,    5,    6,\n",
              "        132,    8,  326,  189,   22,    3,  421,  267,   24,   11,   46,\n",
              "         23,   27,  108,   21,    3,   19,    4,  133,   24,  380,    4,\n",
              "         58,    2,   22,    3,   53,    4,   26,  535,   42,    3,  323,\n",
              "          8,   22,    6,   80,   50,   26,    6,    3,   49,   50,   58,\n",
              "          2,   22,    3,  497,   26,    3,   59,   58,  235,  469,  318,\n",
              "          5,    2,  321,   68,  124,   43,    8, 9676, 2450,   52,  453,\n",
              "         29,   14,    7,    0,    0,    0,    0,    0,    0,    0,    0,\n",
              "          0,    0,    0,    0,    0,    0,    0,    0,    0,    0,    0,\n",
              "          0,    0,    0,    0,    0,    0,    0,    0,    0,    0,    0,\n",
              "          0,    0,    0,    0,    0,    0,    0,    0,    0,    0,    0,\n",
              "          0,    0,    0,    0,    0,    0,    0,    0,    0,    0,    0,\n",
              "          0,    0,    0,    0,    0,    0,    0,    0,    0,    0,    0,\n",
              "          0,    0,    0,    0,    0,    0,    0,    0,    0,    0,    0,\n",
              "          0,    0,    0,    0,    0,    0,    0,    0,    0,    0,    0,\n",
              "          0,    0,    0,    0,    0,    0,    0,    0,    0,    0,    0,\n",
              "          0,    0,    0,    0,    0,    0,    0,    0,    0,    0,    0,\n",
              "          0,    0,    0,    0,    0,    0,    0,    0,    0,    0,    0,\n",
              "          0,    0,    0,    0,    0,    0,    0,    0,    0,    0,    0,\n",
              "          0,    0,    0,    0,    0,    0,    0,    0,    0,    0,    0,\n",
              "          0,    0,    0,    0,    0,    0,    0,    0,    0,    0,    0,\n",
              "          0,    0,    0,    0,    0,    0,    0,    0,    0,    0,    0,\n",
              "          0,    0,    0,    0,    0,    0,    0,    0,    0,    0,    0,\n",
              "          0,    0,    0,    0,    0,    0,    0,    0,    0,    0,    0,\n",
              "          0,    0,    0,    0,    0,    0,    0,    0,    0,    0,    0,\n",
              "          0,    0,    0,    0,    0,    0,    0,    0,    0,    0,    0,\n",
              "          0,    0,    0,    0,    0,    0,    0,    0,    0,    0,    0,\n",
              "          0,    0,    0,    0,    0,    0,    0,    0,    0,    0,    0,\n",
              "          0,    0,    0,    0,    0,    0,    0,    0,    0,    0,    0,\n",
              "          0,    0,    0,    0,    0,    0,    0,    0,    0,    0,    0,\n",
              "          0,    0,    0,    0,    0,    0,    0,    0,    0,    0,    0,\n",
              "          0,    0,    0,    0,    0,    0,    0,    0,    0,    0,    0,\n",
              "          0,    0,    0,    0,    0,    0,    0,    0,    0,    0,    0,\n",
              "          0,    0,    0,    0,    0,    0,    0,    0,    0,    0,    0,\n",
              "          0,    0,    0,    0,    0,    0,    0,    0,    0,    0,    0,\n",
              "          0,    0,    0,    0,    0,    0,    0,    0,    0,    0,    0,\n",
              "          0,    0,    0,    0,    0,    0,    0,    0,    0,    0,    0,\n",
              "          0,    0,    0,    0,    0,    0,    0,    0,    0,    0,    0,\n",
              "          0,    0,    0,    0,    0,    0,    0,    0,    0,    0,    0,\n",
              "          0,    0,    0,    0,    0,    0,    0,    0,    0,    0,    0,\n",
              "          0,    0,    0,    0,    0,    0,    0,    0,    0,    0,    0,\n",
              "          0,    0,    0,    0,    0,    0,    0,    0,    0,    0,    0,\n",
              "          0,    0,    0,    0,    0,    0,    0,    0,    0,    0,    0,\n",
              "          0,    0,    0,    0,    0,    0,    0,    0,    0,    0,    0,\n",
              "          0,    0,    0,    0,    0,    0,    0,    0,    0,    0,    0,\n",
              "          0,    0,    0,    0,    0,    0,    0,    0,    0,    0,    0,\n",
              "          0,    0,    0,    0,    0,    0,    0,    0,    0,    0,    0,\n",
              "          0,    0,    0,    0,    0,    0,    0,    0,    0,    0,    0,\n",
              "          0,    0,    0,    0,    0,    0,    0,    0,    0,    0,    0,\n",
              "          0,    0,    0,    0,    0,    0,    0,    0,    0,    0,    0,\n",
              "          0,    0,    0,    0,    0,    0,    0,    0,    0,    0,    0,\n",
              "          0,    0,    0,    0,    0,    0,    0,    0,    0,    0,    0,\n",
              "          0,    0,    0,    0,    0,    0,    0,    0,    0,    0,    0,\n",
              "          0,    0,    0,    0,    0,    0], dtype=int32)"
            ]
          },
          "metadata": {},
          "execution_count": 13
        }
      ]
    },
    {
      "cell_type": "markdown",
      "source": [
        "---\n",
        "# Training Our Model"
      ],
      "metadata": {
        "id": "Y8FkM0xQOHr9"
      }
    },
    {
      "cell_type": "code",
      "source": [
        "# Plot history of the model during training\n",
        "def plot_history(history):\n",
        "  plt.ylabel('Loss')\n",
        "  plt.xlabel('Epoch')\n",
        "  plt.xticks(range(0, len(history['loss'] + 1)))\n",
        "  plt.plot(history['loss'], label=\"training\", marker='o')\n",
        "  plt.plot(history['val_loss'], label=\"validation\", marker='o')\n",
        "  plt.legend()\n",
        "  plt.show()"
      ],
      "metadata": {
        "id": "Q-_S6gMfbFTt"
      },
      "execution_count": null,
      "outputs": []
    },
    {
      "cell_type": "code",
      "source": [
        "def build_deep_embeddings_model(vocab_size, sequence_length, embedding_dim):\n",
        "    \"\"\"Build a tf.keras model using embeddings.\"\"\"\n",
        "    tf.keras.backend.clear_session()\n",
        "    tf.random.set_seed(0)\n",
        "\n",
        "    model = tf.keras.Sequential()\n",
        "\n",
        "    # Embedding layer\n",
        "    model.add(tf.keras.layers.Embedding(\n",
        "        input_dim=vocab_size,\n",
        "        output_dim=embedding_dim,\n",
        "        )\n",
        "    )\n",
        "\n",
        "    # Pooling and dense layers\n",
        "    model.add(tf.keras.layers.GlobalAveragePooling1D())\n",
        "    model.add(tf.keras.layers.Dense(units=8, activation='relu'))\n",
        "    model.add(tf.keras.layers.Dense(units=16, activation='relu'))\n",
        "    model.add(tf.keras.layers.Dense(units=1, activation='sigmoid'))\n",
        "\n",
        "    # Compile model\n",
        "    model.compile(loss='binary_crossentropy', optimizer='adam', metrics=['accuracy'])\n",
        "\n",
        "    return model\n",
        "\n",
        "# Build and summarize the model\n",
        "model = build_deep_embeddings_model(\n",
        "    vocab_size=max_vocab_size,\n",
        "    sequence_length=X_train_processed.shape[1],\n",
        "    embedding_dim=2\n",
        ")\n",
        "model.summary()"
      ],
      "metadata": {
        "colab": {
          "base_uri": "https://localhost:8080/",
          "height": 305
        },
        "id": "eS1EvopRaT1U",
        "outputId": "b540bbfa-6988-41b0-bea6-6c97d30618d9"
      },
      "execution_count": null,
      "outputs": [
        {
          "output_type": "display_data",
          "data": {
            "text/plain": [
              "\u001b[1mModel: \"sequential\"\u001b[0m\n"
            ],
            "text/html": [
              "<pre style=\"white-space:pre;overflow-x:auto;line-height:normal;font-family:Menlo,'DejaVu Sans Mono',consolas,'Courier New',monospace\"><span style=\"font-weight: bold\">Model: \"sequential\"</span>\n",
              "</pre>\n"
            ]
          },
          "metadata": {}
        },
        {
          "output_type": "display_data",
          "data": {
            "text/plain": [
              "┏━━━━━━━━━━━━━━━━━━━━━━━━━━━━━━━━━┳━━━━━━━━━━━━━━━━━━━━━━━━┳━━━━━━━━━━━━━━━┓\n",
              "┃\u001b[1m \u001b[0m\u001b[1mLayer (type)                   \u001b[0m\u001b[1m \u001b[0m┃\u001b[1m \u001b[0m\u001b[1mOutput Shape          \u001b[0m\u001b[1m \u001b[0m┃\u001b[1m \u001b[0m\u001b[1m      Param #\u001b[0m\u001b[1m \u001b[0m┃\n",
              "┡━━━━━━━━━━━━━━━━━━━━━━━━━━━━━━━━━╇━━━━━━━━━━━━━━━━━━━━━━━━╇━━━━━━━━━━━━━━━┩\n",
              "│ embedding (\u001b[38;5;33mEmbedding\u001b[0m)           │ ?                      │   \u001b[38;5;34m0\u001b[0m (unbuilt) │\n",
              "├─────────────────────────────────┼────────────────────────┼───────────────┤\n",
              "│ global_average_pooling1d        │ ?                      │             \u001b[38;5;34m0\u001b[0m │\n",
              "│ (\u001b[38;5;33mGlobalAveragePooling1D\u001b[0m)        │                        │               │\n",
              "├─────────────────────────────────┼────────────────────────┼───────────────┤\n",
              "│ dense (\u001b[38;5;33mDense\u001b[0m)                   │ ?                      │   \u001b[38;5;34m0\u001b[0m (unbuilt) │\n",
              "├─────────────────────────────────┼────────────────────────┼───────────────┤\n",
              "│ dense_1 (\u001b[38;5;33mDense\u001b[0m)                 │ ?                      │   \u001b[38;5;34m0\u001b[0m (unbuilt) │\n",
              "├─────────────────────────────────┼────────────────────────┼───────────────┤\n",
              "│ dense_2 (\u001b[38;5;33mDense\u001b[0m)                 │ ?                      │   \u001b[38;5;34m0\u001b[0m (unbuilt) │\n",
              "└─────────────────────────────────┴────────────────────────┴───────────────┘\n"
            ],
            "text/html": [
              "<pre style=\"white-space:pre;overflow-x:auto;line-height:normal;font-family:Menlo,'DejaVu Sans Mono',consolas,'Courier New',monospace\">┏━━━━━━━━━━━━━━━━━━━━━━━━━━━━━━━━━┳━━━━━━━━━━━━━━━━━━━━━━━━┳━━━━━━━━━━━━━━━┓\n",
              "┃<span style=\"font-weight: bold\"> Layer (type)                    </span>┃<span style=\"font-weight: bold\"> Output Shape           </span>┃<span style=\"font-weight: bold\">       Param # </span>┃\n",
              "┡━━━━━━━━━━━━━━━━━━━━━━━━━━━━━━━━━╇━━━━━━━━━━━━━━━━━━━━━━━━╇━━━━━━━━━━━━━━━┩\n",
              "│ embedding (<span style=\"color: #0087ff; text-decoration-color: #0087ff\">Embedding</span>)           │ ?                      │   <span style=\"color: #00af00; text-decoration-color: #00af00\">0</span> (unbuilt) │\n",
              "├─────────────────────────────────┼────────────────────────┼───────────────┤\n",
              "│ global_average_pooling1d        │ ?                      │             <span style=\"color: #00af00; text-decoration-color: #00af00\">0</span> │\n",
              "│ (<span style=\"color: #0087ff; text-decoration-color: #0087ff\">GlobalAveragePooling1D</span>)        │                        │               │\n",
              "├─────────────────────────────────┼────────────────────────┼───────────────┤\n",
              "│ dense (<span style=\"color: #0087ff; text-decoration-color: #0087ff\">Dense</span>)                   │ ?                      │   <span style=\"color: #00af00; text-decoration-color: #00af00\">0</span> (unbuilt) │\n",
              "├─────────────────────────────────┼────────────────────────┼───────────────┤\n",
              "│ dense_1 (<span style=\"color: #0087ff; text-decoration-color: #0087ff\">Dense</span>)                 │ ?                      │   <span style=\"color: #00af00; text-decoration-color: #00af00\">0</span> (unbuilt) │\n",
              "├─────────────────────────────────┼────────────────────────┼───────────────┤\n",
              "│ dense_2 (<span style=\"color: #0087ff; text-decoration-color: #0087ff\">Dense</span>)                 │ ?                      │   <span style=\"color: #00af00; text-decoration-color: #00af00\">0</span> (unbuilt) │\n",
              "└─────────────────────────────────┴────────────────────────┴───────────────┘\n",
              "</pre>\n"
            ]
          },
          "metadata": {}
        },
        {
          "output_type": "display_data",
          "data": {
            "text/plain": [
              "\u001b[1m Total params: \u001b[0m\u001b[38;5;34m0\u001b[0m (0.00 B)\n"
            ],
            "text/html": [
              "<pre style=\"white-space:pre;overflow-x:auto;line-height:normal;font-family:Menlo,'DejaVu Sans Mono',consolas,'Courier New',monospace\"><span style=\"font-weight: bold\"> Total params: </span><span style=\"color: #00af00; text-decoration-color: #00af00\">0</span> (0.00 B)\n",
              "</pre>\n"
            ]
          },
          "metadata": {}
        },
        {
          "output_type": "display_data",
          "data": {
            "text/plain": [
              "\u001b[1m Trainable params: \u001b[0m\u001b[38;5;34m0\u001b[0m (0.00 B)\n"
            ],
            "text/html": [
              "<pre style=\"white-space:pre;overflow-x:auto;line-height:normal;font-family:Menlo,'DejaVu Sans Mono',consolas,'Courier New',monospace\"><span style=\"font-weight: bold\"> Trainable params: </span><span style=\"color: #00af00; text-decoration-color: #00af00\">0</span> (0.00 B)\n",
              "</pre>\n"
            ]
          },
          "metadata": {}
        },
        {
          "output_type": "display_data",
          "data": {
            "text/plain": [
              "\u001b[1m Non-trainable params: \u001b[0m\u001b[38;5;34m0\u001b[0m (0.00 B)\n"
            ],
            "text/html": [
              "<pre style=\"white-space:pre;overflow-x:auto;line-height:normal;font-family:Menlo,'DejaVu Sans Mono',consolas,'Courier New',monospace\"><span style=\"font-weight: bold\"> Non-trainable params: </span><span style=\"color: #00af00; text-decoration-color: #00af00\">0</span> (0.00 B)\n",
              "</pre>\n"
            ]
          },
          "metadata": {}
        }
      ]
    },
    {
      "cell_type": "code",
      "source": [
        "history = model.fit(\n",
        "  x = X_train_processed,\n",
        "  y = Y_train,\n",
        "  epochs=15,\n",
        "  batch_size=64,\n",
        "  validation_split=0.1,\n",
        "  verbose=1,\n",
        "  )\n",
        "\n",
        "history = pd.DataFrame(history.history)\n",
        "plot_history(history)"
      ],
      "metadata": {
        "colab": {
          "base_uri": "https://localhost:8080/",
          "height": 1000
        },
        "id": "ON6-SrFHa5fN",
        "outputId": "f86d42e3-2339-4ea3-e26c-b429fd916f21"
      },
      "execution_count": null,
      "outputs": [
        {
          "output_type": "stream",
          "name": "stdout",
          "text": [
            "Epoch 1/15\n",
            "\u001b[1m593/593\u001b[0m \u001b[32m━━━━━━━━━━━━━━━━━━━━\u001b[0m\u001b[37m\u001b[0m \u001b[1m7s\u001b[0m 6ms/step - accuracy: 0.5940 - loss: 0.6788 - val_accuracy: 0.6235 - val_loss: 0.6568\n",
            "Epoch 2/15\n",
            "\u001b[1m593/593\u001b[0m \u001b[32m━━━━━━━━━━━━━━━━━━━━\u001b[0m\u001b[37m\u001b[0m \u001b[1m6s\u001b[0m 3ms/step - accuracy: 0.6109 - loss: 0.6502 - val_accuracy: 0.7241 - val_loss: 0.5778\n",
            "Epoch 3/15\n",
            "\u001b[1m593/593\u001b[0m \u001b[32m━━━━━━━━━━━━━━━━━━━━\u001b[0m\u001b[37m\u001b[0m \u001b[1m2s\u001b[0m 4ms/step - accuracy: 0.7195 - loss: 0.5606 - val_accuracy: 0.7141 - val_loss: 0.5370\n",
            "Epoch 4/15\n",
            "\u001b[1m593/593\u001b[0m \u001b[32m━━━━━━━━━━━━━━━━━━━━\u001b[0m\u001b[37m\u001b[0m \u001b[1m2s\u001b[0m 3ms/step - accuracy: 0.7666 - loss: 0.5004 - val_accuracy: 0.7839 - val_loss: 0.4647\n",
            "Epoch 5/15\n",
            "\u001b[1m593/593\u001b[0m \u001b[32m━━━━━━━━━━━━━━━━━━━━\u001b[0m\u001b[37m\u001b[0m \u001b[1m3s\u001b[0m 3ms/step - accuracy: 0.8028 - loss: 0.4491 - val_accuracy: 0.8370 - val_loss: 0.4113\n",
            "Epoch 6/15\n",
            "\u001b[1m593/593\u001b[0m \u001b[32m━━━━━━━━━━━━━━━━━━━━\u001b[0m\u001b[37m\u001b[0m \u001b[1m2s\u001b[0m 3ms/step - accuracy: 0.8292 - loss: 0.4072 - val_accuracy: 0.8558 - val_loss: 0.3816\n",
            "Epoch 7/15\n",
            "\u001b[1m593/593\u001b[0m \u001b[32m━━━━━━━━━━━━━━━━━━━━\u001b[0m\u001b[37m\u001b[0m \u001b[1m2s\u001b[0m 3ms/step - accuracy: 0.8446 - loss: 0.3764 - val_accuracy: 0.8605 - val_loss: 0.3660\n",
            "Epoch 8/15\n",
            "\u001b[1m593/593\u001b[0m \u001b[32m━━━━━━━━━━━━━━━━━━━━\u001b[0m\u001b[37m\u001b[0m \u001b[1m2s\u001b[0m 3ms/step - accuracy: 0.8541 - loss: 0.3571 - val_accuracy: 0.8633 - val_loss: 0.3547\n",
            "Epoch 9/15\n",
            "\u001b[1m593/593\u001b[0m \u001b[32m━━━━━━━━━━━━━━━━━━━━\u001b[0m\u001b[37m\u001b[0m \u001b[1m2s\u001b[0m 4ms/step - accuracy: 0.8593 - loss: 0.3456 - val_accuracy: 0.8657 - val_loss: 0.3469\n",
            "Epoch 10/15\n",
            "\u001b[1m593/593\u001b[0m \u001b[32m━━━━━━━━━━━━━━━━━━━━\u001b[0m\u001b[37m\u001b[0m \u001b[1m2s\u001b[0m 3ms/step - accuracy: 0.8638 - loss: 0.3374 - val_accuracy: 0.8681 - val_loss: 0.3425\n",
            "Epoch 11/15\n",
            "\u001b[1m593/593\u001b[0m \u001b[32m━━━━━━━━━━━━━━━━━━━━\u001b[0m\u001b[37m\u001b[0m \u001b[1m3s\u001b[0m 3ms/step - accuracy: 0.8667 - loss: 0.3315 - val_accuracy: 0.8705 - val_loss: 0.3378\n",
            "Epoch 12/15\n",
            "\u001b[1m593/593\u001b[0m \u001b[32m━━━━━━━━━━━━━━━━━━━━\u001b[0m\u001b[37m\u001b[0m \u001b[1m2s\u001b[0m 3ms/step - accuracy: 0.8692 - loss: 0.3262 - val_accuracy: 0.8735 - val_loss: 0.3341\n",
            "Epoch 13/15\n",
            "\u001b[1m593/593\u001b[0m \u001b[32m━━━━━━━━━━━━━━━━━━━━\u001b[0m\u001b[37m\u001b[0m \u001b[1m2s\u001b[0m 3ms/step - accuracy: 0.8712 - loss: 0.3215 - val_accuracy: 0.8747 - val_loss: 0.3316\n",
            "Epoch 14/15\n",
            "\u001b[1m593/593\u001b[0m \u001b[32m━━━━━━━━━━━━━━━━━━━━\u001b[0m\u001b[37m\u001b[0m \u001b[1m3s\u001b[0m 3ms/step - accuracy: 0.8728 - loss: 0.3170 - val_accuracy: 0.8752 - val_loss: 0.3296\n",
            "Epoch 15/15\n",
            "\u001b[1m593/593\u001b[0m \u001b[32m━━━━━━━━━━━━━━━━━━━━\u001b[0m\u001b[37m\u001b[0m \u001b[1m2s\u001b[0m 3ms/step - accuracy: 0.8743 - loss: 0.3134 - val_accuracy: 0.8752 - val_loss: 0.3262\n"
          ]
        },
        {
          "output_type": "display_data",
          "data": {
            "text/plain": [
              "<Figure size 640x480 with 1 Axes>"
            ],
            "image/png": "[encoded data removed]"
          },
          "metadata": {}
        }
      ]
    },
    {
      "cell_type": "code",
      "source": [
        "# Display the model layers.\n",
        "display(model.layers)\n",
        "\n",
        "# Retrieve the embeddings layer, which itself is wrapped in a list.\n",
        "embeddings = model.layers[0].get_weights()[0]\n",
        "display(embeddings.shape)"
      ],
      "metadata": {
        "colab": {
          "base_uri": "https://localhost:8080/",
          "height": 126
        },
        "id": "cetRmekOLOLT",
        "outputId": "b9409704-718f-4893-8712-b5770b9d05bc"
      },
      "execution_count": null,
      "outputs": [
        {
          "output_type": "display_data",
          "data": {
            "text/plain": [
              "[<Embedding name=embedding, built=True>,\n",
              " <GlobalAveragePooling1D name=global_average_pooling1d, built=True>,\n",
              " <Dense name=dense, built=True>,\n",
              " <Dense name=dense_1, built=True>,\n",
              " <Dense name=dense_2, built=True>]"
            ]
          },
          "metadata": {}
        },
        {
          "output_type": "display_data",
          "data": {
            "text/plain": [
              "(30000, 2)"
            ]
          },
          "metadata": {}
        }
      ]
    },
    {
      "cell_type": "code",
      "source": [
        "def plot_2d_embeddings(embeddings, id_start=1, count=100):\n",
        "  # Get 1st and 2nd embedding dims for the desired tokens.\n",
        "  x1 = embeddings[id_start:id_start+count, 0]\n",
        "  x2 = embeddings[id_start:id_start+count, 1]\n",
        "\n",
        "\n",
        "  # Get the corresponding words from the reverse index (for labeling).\n",
        "  tokens = tokenizer.index_word\n",
        "  tokens = [tokens[i] for i in range(id_start, id_start+count)]\n",
        "\n",
        "  # Plot with the plotly library.\n",
        "  data = plotly.Scatter(x=x1, y=x2, text=tokens,\n",
        "                        mode='markers', textposition='bottom left',\n",
        "                        hoverinfo='text')\n",
        "  fig = plotly.Figure(data=[data],\n",
        "                      layout=plotly.Layout(title=\"Word Embeddings\",\n",
        "                                           hovermode='closest'))\n",
        "  fig.show()\n",
        "\n",
        "# Very frequent tokens tend to be more syntactic than semantic, so let's plot\n",
        "# some rarer words.\n",
        "plot_2d_embeddings(embeddings, id_start=500, count=500)"
      ],
      "metadata": {
        "colab": {
          "base_uri": "https://localhost:8080/",
          "height": 542
        },
        "id": "09bxpD4FLJNl",
        "outputId": "a8117792-600e-4caf-c30f-23025f6e7902"
      },
      "execution_count": null,
      "outputs": [
        {
          "output_type": "display_data",
          "data": {
            "text/html": [
              "<html>\n",
              "<head><meta charset=\"utf-8\" /></head>\n",
              "<body>\n",
              "    <div>            <script src=\"https://cdnjs.cloudflare.com/ajax/libs/mathjax/2.7.5/MathJax.js?config=TeX-AMS-MML_SVG\"></script><script type=\"text/javascript\">if (window.MathJax && window.MathJax.Hub && window.MathJax.Hub.Config) {window.MathJax.Hub.Config({SVG: {font: \"STIX-Web\"}});}</script>                <script type=\"text/javascript\">window.PlotlyConfig = {MathJaxConfig: 'local'};</script>\n",
              "        <script charset=\"utf-8\" src=\"https://cdn.plot.ly/plotly-2.35.2.min.js\"></script>                <div id=\"c4df06b3-f451-4cc1-9cb8-68cce2fa720b\" class=\"plotly-graph-div\" style=\"height:525px; width:100%;\"></div>            <script type=\"text/javascript\">                                    window.PLOTLYENV=window.PLOTLYENV || {};                                    if (document.getElementById(\"c4df06b3-f451-4cc1-9cb8-68cce2fa720b\")) {                    Plotly.newPlot(                        \"c4df06b3-f451-4cc1-9cb8-68cce2fa720b\",                        [{\"hoverinfo\":\"text\",\"mode\":\"markers\",\"text\":[\"goes\",\"amount\",\"pausing\",\"customer\",\"happens\",\"others\",\"current\",\"disappearing\",\"slow\",\"garbage\",\"missing\",\"away\",\"worked\",\"weeks\",\"wonderful\",\"saying\",\"clear\",\"downloading\",\"middle\",\"might\",\"tracks\",\"suggested\",\"couldnt\",\"removed\",\"kind\",\"online\",\"settings\",\"become\",\"reinstalled\",\"pc\",\"changed\",\"honestly\",\"trash\",\"rate\",\"second\",\"cause\",\"several\",\"wouldnt\",\"set\",\"recommendations\",\"apple\",\"payment\",\"heard\",\"big\",\"end\",\"matter\",\"asap\",\"extremely\",\"irritating\",\"went\",\"quite\",\"downloads\",\"rating\",\"except\",\"pauses\",\"stuck\",\"later\",\"ability\",\"create\",\"around\",\"mean\",\"disappointed\",\"certain\",\"enjoying\",\"listened\",\"card\",\"alot\",\"said\",\"may\",\"collection\",\"commercials\",\"someone\",\"left\",\"usually\",\"during\",\"hours\",\"totally\",\"login\",\"ones\",\"disappear\",\"cache\",\"changes\",\"ridiculous\",\"forward\",\"friends\",\"tell\",\"skipping\",\"buttons\",\"hell\",\"loading\",\"fantastic\",\"reinstalling\",\"deleted\",\"pop\",\"world\",\"constant\",\"seriously\",\"highly\",\"genre\",\"video\",\"closing\",\"mood\",\"genres\",\"awful\",\"simple\",\"repeat\",\"possible\",\"gave\",\"anyone\",\"mind\",\"lock\",\"episode\",\"everyday\",\"price\",\"galaxy\",\"appear\",\"both\",\"three\",\"function\",\"must\",\"row\",\"live\",\"previous\",\"team\",\"opening\",\"poor\",\"page\",\"seem\",\"wasnt\",\"continues\",\"fast\",\"okay\",\"yall\",\"rather\",\"kinda\",\"driving\",\"frequently\",\"high\",\"friendly\",\"five\",\"turned\",\"mins\",\"share\",\"today\",\"suggestions\",\"continue\",\"based\",\"amazon\",\"uninstalling\",\"restarting\",\"easily\",\"volume\",\"rogan\",\"probably\",\"due\",\"fav\",\"glitch\",\"gonna\",\"lost\",\"fun\",\"switching\",\"limited\",\"difficult\",\"rid\",\"membership\",\"idk\",\"phones\",\"ask\",\"finding\",\"wait\",\"ðÿ‘\",\"hit\",\"seen\",\"wide\",\"running\",\"joe\",\"reopen\",\"itll\",\"install\",\"type\",\"starting\",\"algorithm\",\"huge\",\"useful\",\"network\",\"job\",\"tho\",\"ur\",\"freezes\",\"choices\",\"episodes\",\"number\",\"deal\",\"monthly\",\"easier\",\"disappeared\",\"idea\",\"impossible\",\"sort\",\"display\",\"lets\",\"storage\",\"widget\",\"advertisement\",\"email\",\"theyre\",\"navigate\",\"notifications\",\"despite\",\"check\",\"deleting\",\"name\",\"coming\",\"lists\",\"crash\",\"waste\",\"menu\",\"services\",\"weird\",\"entire\",\"system\",\"simply\",\"company\",\"updating\",\"given\",\"forever\",\"desktop\",\"together\",\"care\",\"basically\",\"basic\",\"trial\",\"logged\",\"helps\",\"loop\",\"playpause\",\"media\",\"considering\",\"rewind\",\"minute\",\"damn\",\"took\",\"stream\",\"sleep\",\"although\",\"taking\",\"move\",\"came\",\"changing\",\"min\",\"shut\",\"reset\",\"ðÿž¶\",\"advertisements\",\"forced\",\"main\",\"headphones\",\"subscriber\",\"similar\",\"view\",\"short\",\"disappointing\",\"sounds\",\"run\",\"range\",\"scroll\",\"guess\",\"reviews\",\"moment\",\"save\",\"wants\",\"anywhere\",\"finally\",\"files\",\"n\",\"glitching\",\"member\",\"opinion\",\"lol\",\"functionality\",\"leave\",\"closed\",\"mix\",\"example\",\"computer\",\"cuts\",\"discover\",\"real\",\"happen\",\"shouldnt\",\"perfectly\",\"cutting\",\"small\",\"installed\",\"error\",\"uninterrupted\",\"yes\",\"broke\",\"twice\",\"barely\",\"tv\",\"via\",\"means\",\"gotten\",\"youll\",\"lose\",\"asking\",\"setting\",\"brilliant\",\"appreciate\",\"developers\",\"closes\",\"plz\",\"till\",\"swipe\",\"searching\",\"section\",\"low\",\"within\",\"tunes\",\"thinking\",\"link\",\"sudden\",\"hasnt\",\"favorites\",\"hearing\",\"improve\",\"suggest\",\"cuz\",\"taste\",\"enjoyed\",\"turns\",\"allows\",\"tab\",\"musics\",\"anytime\",\"trouble\",\"types\",\"mostly\",\"loving\",\"mixes\",\"god\",\"date\",\"mess\",\"searched\",\"absolute\",\"speaker\",\"created\",\"person\",\"newest\",\"country\",\"tap\",\"subscribe\",\"myself\",\"afford\",\"language\",\"normal\",\"yeah\",\"compared\",\"unlimited\",\"logging\",\"sad\",\"beginning\",\"figure\",\"restarted\",\"dumb\",\"lovers\",\"provide\",\"ultra\",\"sense\",\"saved\",\"sd\",\"youve\",\"loads\",\"bc\",\"none\",\"side\",\"password\",\"cut\",\"kept\",\"helpful\",\"switched\",\"group\",\"expensive\",\"nor\",\"laptop\",\"spend\",\"feels\",\"spot\",\"english\",\"experiencing\",\"believe\",\"adverts\",\"non\",\"local\",\"telling\",\"prefer\",\"normally\",\"space\",\"decided\",\"turning\",\"supposed\",\"re\",\"remember\",\"beautiful\",\"straight\",\"ruined\",\"decent\",\"major\",\"customers\",\"original\",\"solve\",\"expect\",\"functions\",\"satisfied\",\"personal\",\"tablet\",\"likes\",\"incredibly\",\"appears\",\"shuffling\",\"actual\",\"cleared\",\"freezing\",\"l\",\"advertising\",\"creating\",\"sign\",\"bought\",\"empty\",\"resolved\",\"removing\",\"cancelling\",\"rest\",\"manually\",\"sing\",\"selected\",\"immediately\",\"speakers\",\"solution\",\"layout\",\"ðÿ‘œ\",\"logo\",\"black\",\"along\",\"complete\",\"redownload\",\"forcing\",\"spotifys\",\"yesterday\",\"upgrade\",\"battery\",\"sorry\",\"buying\",\"convenient\",\"request\",\"waiting\",\"web\",\"rock\",\"looks\",\"night\",\"individual\",\"large\",\"suggestion\",\"autoplay\",\"locked\",\"hey\",\"miss\",\"words\",\"videos\",\"zero\",\"truly\",\"tired\",\"ðÿ˜š\",\"chose\",\"musical\",\"fully\",\"man\",\"unfortunately\",\"fan\",\"enjoyable\",\"putting\",\"complaint\",\"told\",\"platforms\",\"connecting\",\"oh\",\"fixes\",\"voice\",\"stay\",\"he\",\"message\",\"pain\",\"yt\",\"canceling\",\"mid\",\"read\",\"bands\",\"regularly\",\"exit\"],\"textposition\":\"bottom left\",\"x\":[-1.4599034,-0.69670767,-3.016301,-0.67691904,-1.2288594,-0.22105405,-0.9127825,-3.7174807,-3.5096123,-3.780152,-3.4247065,-0.82897925,-1.3284013,-2.1620374,4.753256,-1.2086025,1.5319408,-0.58165425,-1.9339269,-0.1161227,-0.6165212,-0.7320984,0.08206472,-2.1222663,0.69273627,-1.0497241,-0.7935658,-1.5322851,-1.2468718,-0.37564942,-1.4687842,0.90947765,-3.7055323,-0.024432756,-1.142976,-0.03782908,-1.3836784,-0.61314756,-0.70049214,0.67926955,-1.0137529,-2.2184849,1.8784158,0.13258018,-0.55530924,-1.4535637,-2.0768156,-0.8453082,-2.9049716,-1.7027465,-0.19018371,-0.9604573,-0.66620296,0.95010644,-2.991749,-2.0887954,-0.6455317,0.37436336,1.5313181,1.3406581,-0.46154386,-1.790803,-0.42344663,4.0201845,0.6402896,-1.0328861,-0.021547098,-0.84838766,-0.43248868,2.9355283,-1.1233549,-1.6001399,-2.055759,0.08382809,-0.9766615,0.00662177,0.83172905,-2.4736526,0.44657037,-2.495637,-2.142988,-1.3082253,-2.5678124,0.10853173,2.028654,-0.45517784,-1.9235828,-2.450894,-1.3590392,-1.8957804,4.3596177,-2.8848426,-2.3242188,0.107938945,2.4335327,-2.6239963,-0.73695755,2.7605708,0.68226135,-1.1013808,-2.1931908,1.7896805,2.387852,-2.9232335,0.98307633,-0.5338017,-0.5700662,0.61989844,0.43349797,1.217889,-0.8862316,-1.1642674,1.5094837,0.17474842,-1.1551808,-1.3270597,-0.12039306,-0.46474957,-1.371111,0.16049674,-0.8053484,0.7549957,-0.67151195,1.0128618,-1.9295027,-3.3298385,-1.2384338,-1.1865668,-0.7026511,-0.7281956,0.31880242,0.2961292,-1.1024277,-1.5228688,-1.1841712,0.15278031,-1.7659587,-0.0144479,0.85773337,1.3094753,-0.8896653,-1.2300211,-0.1849232,-0.114625864,0.6986677,-0.65251875,1.1594299,-0.91921264,-1.9693253,-2.0577693,1.6383704,-1.8450664,-0.7419107,0.17798546,-1.556395,1.090951,-1.2991395,-0.700244,-1.5876212,2.9519773,-2.2099795,-1.3246744,-2.3357093,-0.9139875,-0.059762247,-0.99968886,-1.1176027,-0.2677369,1.3331629,-0.4939027,2.9635975,-0.36650315,0.4820937,3.0418084,-0.6454443,-0.33622342,-1.8429668,-0.54570407,-0.720853,1.2015467,-1.9671187,-0.93672043,0.83841425,1.3228045,-0.43247363,1.4598572,0.07113121,0.15294674,-2.7712016,2.189443,-0.9541397,0.04755364,0.44155976,-0.48222122,-0.5506325,-3.0369985,-0.18463716,-2.4903903,-0.8769345,-1.1668732,-0.26578215,-1.1564913,-0.740177,-2.7102942,-1.4778149,0.1608304,0.99983263,-1.8109651,-1.0167092,0.4152856,-2.062632,0.040402077,-0.79385656,0.30441245,-2.5657048,-2.4650998,-2.115543,-0.39564613,-1.0773867,0.09474326,-0.09051883,0.7340026,-0.9291307,-0.8277475,0.17817068,-0.044836145,-1.0530106,0.21261586,-1.2562217,-0.89923596,-1.5522593,0.24580714,-2.5572965,2.6966662,-0.39166772,-3.0077868,-1.1900641,-1.2375127,0.012968888,-1.318086,-1.5790843,-0.47105268,0.67202985,-0.305091,1.3350137,-0.99655896,-0.3706379,0.0128478585,-0.78387165,-0.95778424,-1.2330527,-2.0598252,1.9045966,-1.7123373,-0.87703717,-0.27473992,-1.1410422,-1.1131085,-0.083660014,-1.7927426,-0.35762206,-2.2301977,0.6431644,-0.47333628,2.072464,-0.8841828,-0.7277581,-0.3011689,0.4449675,-0.9277297,-0.5425354,0.99799335,0.63616496,-1.2232654,-0.22684737,-1.9550532,0.050955232,1.0998286,-0.10785097,-1.6759739,-0.62929434,-1.851398,0.9956903,0.17134559,-0.66184133,-2.1736934,0.9174606,0.6494101,-1.328776,-1.180518,1.7705799,-1.838152,0.88802236,-0.7277807,-2.0154343,-1.7343011,-0.05986339,-0.72298187,-1.4702115,-2.0951452,-0.04972253,-1.0354494,0.23419484,-1.1835626,0.43992117,-1.1345677,-1.5729169,-1.0737178,3.65539,2.2683053,0.11087956,-1.6259683,-1.5145192,-0.10792993,-0.08429931,-0.026129972,-0.23025195,-1.9171253,-0.11789308,1.686106,-0.39523336,-1.1121155,-1.8181689,-0.85820943,1.4970946,0.7845248,0.5139553,0.3247002,-0.29181877,1.0637771,2.8061564,-1.0259215,0.8513111,-0.51687753,0.35678053,1.3328588,-0.7606641,1.7087597,-0.13187309,2.7796898,1.0289351,-0.13188353,0.4770098,-2.4880965,-0.20062646,-0.54110384,-0.28873882,0.88108593,-0.11914708,-1.3133147,0.8944821,-0.1554206,-0.7493597,0.8084948,0.11729727,-0.16490524,-0.5922834,0.79237396,-1.1333163,0.7303668,-2.071847,-0.6549418,-0.009116968,-0.54810244,-1.7406877,-1.2314395,1.1847116,0.49208936,-1.0669895,-1.2499409,-0.52093506,-1.6558523,0.367991,-0.7313534,-0.4221899,-0.69222516,0.21462476,-1.547007,-0.4229423,-0.43750027,1.5453063,-0.5562202,-0.80619955,-0.27115175,-0.94272727,-0.1875373,-0.08923279,-1.3004073,1.5753213,-0.22090049,-0.8340596,-0.011134761,-0.87515897,-1.3454963,-0.502905,-1.0676723,-0.26001054,-1.3351825,-0.4714489,0.04010481,-1.7893931,-0.553718,-0.97260976,0.3257275,2.8375862,-0.2501695,-2.517638,0.08015021,-0.15183705,-1.0091138,0.5523157,-0.6757933,-0.96579283,-0.4090469,1.4310353,0.44173965,-0.27533752,0.48885712,-0.86874056,-1.3826,-0.8883806,-1.1539161,-1.0472573,-1.7167646,1.1867822,-1.4277455,1.0060474,-1.9180113,-0.11036214,-1.7805071,-0.38578492,-1.3286947,-1.7957095,0.6824011,-1.7904359,0.89830345,-0.7820252,-0.85254174,-0.76962984,-1.4414984,-0.3138766,2.2663553,-1.8651296,-1.0736971,1.0178787,-0.5855928,-0.67113155,-1.560323,0.5662888,-0.8302914,-0.61862344,-1.1749849,-0.12900792,-0.14393935,0.24165349,-0.20883448,-0.70587796,-0.73413086,1.3338921,-0.9244967,0.39300776,-0.44320652,0.30054483,0.5767087,-1.1881245,-1.1736175,0.17035349,-0.87118906,0.6543316,-1.0146894,-1.1810526,1.4765224,-1.3040968,2.4423804,-0.013548718,1.4302522,-0.54721946,0.20847961,-0.9525688,1.209609,2.5606453,-0.9275584,0.72440135,0.55694443,-0.07680511,-0.94064856,-0.1473601,-1.4825628,-0.08414726,-0.017778724,-0.30639574,-0.45555374,-1.992396,-0.39902014,-1.5758754,-1.1907388,0.44556707,1.053067,-1.3448452,-0.17704655],\"y\":[-1.3612161,-0.62027836,-3.0604734,-0.664326,-1.1476234,-0.27230817,-0.8683357,-3.6288,-3.4262774,-3.7119195,-3.3339849,-0.74446213,-1.197181,-2.0729084,4.6388803,-1.095947,1.6114051,-0.5437619,-1.9075091,-0.052907333,-0.61395764,-0.6811053,0.11052945,-2.0872867,0.73202056,-1.0115874,-0.76736295,-1.405462,-1.2462592,-0.22078799,-1.3513469,0.9848998,-3.6831613,-0.007170561,-1.1882255,0.04300062,-1.415034,-0.48581868,-0.7096939,0.6330649,-1.0155267,-2.2242353,1.9049065,0.16118895,-0.5419025,-1.32103,-2.006015,-0.89065415,-2.9093282,-1.6118641,-0.1259014,-0.92489654,-0.67058194,0.95472544,-2.9602268,-2.0423038,-0.515712,0.4384403,1.4669017,1.260608,-0.43920496,-1.8009882,-0.41279072,4.0088344,0.5771478,-0.9719704,0.033697203,-0.748321,-0.39269313,2.938329,-1.1449358,-1.6113446,-2.068341,0.13346918,-0.9751909,0.052275687,0.88309056,-2.344592,0.50235,-2.433274,-2.1427827,-1.2772163,-2.478209,0.18382928,2.0611458,-0.37980565,-1.8898449,-2.403817,-1.3390087,-1.8086736,4.3021917,-2.8269708,-2.3399043,0.13478175,2.3490248,-2.595134,-0.62370765,2.7010417,0.65650415,-1.1066213,-2.1960757,1.7602354,2.3711064,-2.9243581,0.9472532,-0.44812006,-0.5139085,0.52846736,0.51151115,1.2789643,-0.7966944,-1.0897986,1.4606005,0.20754091,-1.0842855,-1.3202646,-0.19341892,-0.4020552,-1.3666637,0.22512688,-0.80402964,0.74610335,-0.5630131,1.0302554,-1.8960018,-3.2816377,-1.186881,-1.1992774,-0.5969437,-0.6760762,0.41248295,0.3985358,-1.1998776,-1.4213663,-1.1901269,0.13801435,-1.6907316,0.04487186,0.8319733,1.2253095,-0.87837625,-1.1698157,-0.12865527,-0.11419342,0.6964828,-0.59698755,1.0885444,-0.8951095,-1.8879465,-1.9530993,1.636436,-1.7635719,-0.75205284,0.27245697,-1.5394471,1.0887592,-1.2907254,-0.6625412,-1.5542719,2.9090505,-2.1804202,-1.2073144,-2.318792,-0.8796965,0.03738249,-0.96920437,-1.022341,-0.23009333,1.3406321,-0.46035284,2.8866537,-0.24497145,0.50073236,2.9806473,-0.64154917,-0.29957306,-1.735313,-0.38533205,-0.7269822,1.1987915,-1.89501,-1.008171,0.81330985,1.2550328,-0.38576686,1.5087588,0.17654239,0.1805347,-2.751766,2.146847,-0.9110686,0.053685125,0.531996,-0.47232097,-0.5896536,-3.0488622,-0.08325288,-2.5117576,-0.82731974,-1.0628417,-0.24591137,-1.0669892,-0.71254885,-2.6890128,-1.4615355,0.20890366,1.0033967,-1.7993401,-0.9549032,0.4492677,-1.995106,0.046628088,-0.78426576,0.3119134,-2.482639,-2.4336526,-2.028835,-0.30921152,-0.9200775,0.12915435,-0.08582329,0.8544035,-0.90678644,-0.85001326,0.21290614,0.042244744,-0.9843438,0.17907241,-1.2518638,-0.81296027,-1.4041488,0.31581047,-2.5827634,2.6450505,-0.25196666,-3.0871506,-1.1534038,-1.1968937,0.12515369,-1.2693347,-1.651912,-0.35195294,0.70579356,-0.32738551,1.403116,-0.9739269,-0.32711312,0.056327704,-0.65720654,-0.92715025,-1.2428732,-2.0441046,1.8677136,-1.711483,-0.7869244,-0.15999182,-1.0499972,-1.040257,-0.021178411,-1.7578601,-0.29417813,-2.2225366,0.5780452,-0.36692822,2.028485,-0.7883105,-0.6710061,-0.25067136,0.45593327,-0.9178754,-0.5587628,0.97414446,0.6345479,-1.1520133,-0.19633722,-1.9209994,0.030381303,1.1918739,-0.09922928,-1.735985,-0.59965354,-1.7812685,1.0272346,0.22733645,-0.6291193,-2.1141331,0.8713355,0.7070176,-1.2336788,-1.1236892,1.7803909,-1.8262247,0.952567,-0.7021591,-1.9394244,-1.6755247,0.013951161,-0.7054616,-1.5090177,-2.0748541,-0.019183906,-1.0500093,0.22258846,-1.1640605,0.44624007,-1.1638385,-1.5591463,-1.0401353,3.6658463,2.2845643,0.16169122,-1.5882131,-1.525802,0.028491719,0.006802948,-0.011250586,-0.29135808,-1.8392595,-0.03150928,1.7223678,-0.42476228,-1.040973,-1.7674595,-0.7838544,1.4778279,0.8449423,0.5228952,0.30980423,-0.2046215,1.0436814,2.81061,-1.027365,0.87317574,-0.5095937,0.39063329,1.2856808,-0.77557665,1.626423,-0.07541066,2.798047,1.0652928,-0.07435694,0.53338844,-2.3476996,-0.05016215,-0.49644572,-0.23200022,0.90309125,-0.057666365,-1.3145107,0.9729939,-0.097996645,-0.725525,0.8554338,0.11935839,-0.063567504,-0.5994811,0.7920955,-1.0306643,0.6956184,-2.1301131,-0.65064186,0.0007936152,-0.5481066,-1.6826477,-1.2414689,1.1769707,0.5785779,-1.02189,-1.2261052,-0.4389962,-1.6872504,0.30600822,-0.65066457,-0.43274197,-0.68894386,0.23386997,-1.5923318,-0.39877948,-0.37745038,1.4910253,-0.5631645,-0.84693605,-0.22270995,-0.90447265,-0.123746544,-0.08007948,-1.2608242,1.5516855,-0.19442774,-0.78451794,0.030408934,-0.88951933,-1.3454947,-0.49543333,-1.051992,-0.25811243,-1.1442807,-0.46348816,0.017309932,-1.7928337,-0.48105145,-0.9914814,0.28165326,2.884126,-0.20366088,-2.476008,0.17220782,-0.13012895,-1.070929,0.55900705,-0.63545096,-0.93748957,-0.26209497,1.3646494,0.46471488,-0.22257695,0.5150378,-0.9378411,-1.3348573,-0.87536526,-1.1367911,-1.0354465,-1.6929824,1.1568253,-1.3547548,0.9280667,-1.960609,-0.06728736,-1.6963826,-0.40546656,-1.2831924,-1.8184351,0.6557061,-1.7362535,0.9778651,-0.8004784,-0.883212,-0.7440059,-1.3788646,-0.23995043,2.3176732,-1.8057722,-1.0740242,1.020441,-0.52929765,-0.6816182,-1.5405781,0.532529,-0.7680999,-0.6801665,-1.1332015,-0.06705583,-0.09520843,0.29285592,-0.15214811,-0.61106265,-0.63886684,1.2812725,-0.9613047,0.43046102,-0.3647173,0.3583914,0.49707738,-1.1228392,-1.1196308,0.22806673,-0.83878744,0.61228204,-0.98984325,-1.1064737,1.46076,-1.3239523,2.3427606,-0.034979403,1.4457759,-0.5530775,0.14885752,-0.91547406,1.2220244,2.477156,-0.92569554,0.6525156,0.597751,-0.039255064,-0.9661356,-0.05634619,-1.402973,-0.054369807,0.041083235,-0.20586841,-0.445429,-2.006343,-0.34570998,-1.5456227,-1.2083032,0.5481984,1.136093,-1.3376303,-0.18101288],\"type\":\"scatter\"}],                        {\"hovermode\":\"closest\",\"title\":{\"text\":\"Word Embeddings\"},\"template\":{\"data\":{\"histogram2dcontour\":[{\"type\":\"histogram2dcontour\",\"colorbar\":{\"outlinewidth\":0,\"ticks\":\"\"},\"colorscale\":[[0.0,\"#0d0887\"],[0.1111111111111111,\"#46039f\"],[0.2222222222222222,\"#7201a8\"],[0.3333333333333333,\"#9c179e\"],[0.4444444444444444,\"#bd3786\"],[0.5555555555555556,\"#d8576b\"],[0.6666666666666666,\"#ed7953\"],[0.7777777777777778,\"#fb9f3a\"],[0.8888888888888888,\"#fdca26\"],[1.0,\"#f0f921\"]]}],\"choropleth\":[{\"type\":\"choropleth\",\"colorbar\":{\"outlinewidth\":0,\"ticks\":\"\"}}],\"histogram2d\":[{\"type\":\"histogram2d\",\"colorbar\":{\"outlinewidth\":0,\"ticks\":\"\"},\"colorscale\":[[0.0,\"#0d0887\"],[0.1111111111111111,\"#46039f\"],[0.2222222222222222,\"#7201a8\"],[0.3333333333333333,\"#9c179e\"],[0.4444444444444444,\"#bd3786\"],[0.5555555555555556,\"#d8576b\"],[0.6666666666666666,\"#ed7953\"],[0.7777777777777778,\"#fb9f3a\"],[0.8888888888888888,\"#fdca26\"],[1.0,\"#f0f921\"]]}],\"heatmap\":[{\"type\":\"heatmap\",\"colorbar\":{\"outlinewidth\":0,\"ticks\":\"\"},\"colorscale\":[[0.0,\"#0d0887\"],[0.1111111111111111,\"#46039f\"],[0.2222222222222222,\"#7201a8\"],[0.3333333333333333,\"#9c179e\"],[0.4444444444444444,\"#bd3786\"],[0.5555555555555556,\"#d8576b\"],[0.6666666666666666,\"#ed7953\"],[0.7777777777777778,\"#fb9f3a\"],[0.8888888888888888,\"#fdca26\"],[1.0,\"#f0f921\"]]}],\"heatmapgl\":[{\"type\":\"heatmapgl\",\"colorbar\":{\"outlinewidth\":0,\"ticks\":\"\"},\"colorscale\":[[0.0,\"#0d0887\"],[0.1111111111111111,\"#46039f\"],[0.2222222222222222,\"#7201a8\"],[0.3333333333333333,\"#9c179e\"],[0.4444444444444444,\"#bd3786\"],[0.5555555555555556,\"#d8576b\"],[0.6666666666666666,\"#ed7953\"],[0.7777777777777778,\"#fb9f3a\"],[0.8888888888888888,\"#fdca26\"],[1.0,\"#f0f921\"]]}],\"contourcarpet\":[{\"type\":\"contourcarpet\",\"colorbar\":{\"outlinewidth\":0,\"ticks\":\"\"}}],\"contour\":[{\"type\":\"contour\",\"colorbar\":{\"outlinewidth\":0,\"ticks\":\"\"},\"colorscale\":[[0.0,\"#0d0887\"],[0.1111111111111111,\"#46039f\"],[0.2222222222222222,\"#7201a8\"],[0.3333333333333333,\"#9c179e\"],[0.4444444444444444,\"#bd3786\"],[0.5555555555555556,\"#d8576b\"],[0.6666666666666666,\"#ed7953\"],[0.7777777777777778,\"#fb9f3a\"],[0.8888888888888888,\"#fdca26\"],[1.0,\"#f0f921\"]]}],\"surface\":[{\"type\":\"surface\",\"colorbar\":{\"outlinewidth\":0,\"ticks\":\"\"},\"colorscale\":[[0.0,\"#0d0887\"],[0.1111111111111111,\"#46039f\"],[0.2222222222222222,\"#7201a8\"],[0.3333333333333333,\"#9c179e\"],[0.4444444444444444,\"#bd3786\"],[0.5555555555555556,\"#d8576b\"],[0.6666666666666666,\"#ed7953\"],[0.7777777777777778,\"#fb9f3a\"],[0.8888888888888888,\"#fdca26\"],[1.0,\"#f0f921\"]]}],\"mesh3d\":[{\"type\":\"mesh3d\",\"colorbar\":{\"outlinewidth\":0,\"ticks\":\"\"}}],\"scatter\":[{\"fillpattern\":{\"fillmode\":\"overlay\",\"size\":10,\"solidity\":0.2},\"type\":\"scatter\"}],\"parcoords\":[{\"type\":\"parcoords\",\"line\":{\"colorbar\":{\"outlinewidth\":0,\"ticks\":\"\"}}}],\"scatterpolargl\":[{\"type\":\"scatterpolargl\",\"marker\":{\"colorbar\":{\"outlinewidth\":0,\"ticks\":\"\"}}}],\"bar\":[{\"error_x\":{\"color\":\"#2a3f5f\"},\"error_y\":{\"color\":\"#2a3f5f\"},\"marker\":{\"line\":{\"color\":\"#E5ECF6\",\"width\":0.5},\"pattern\":{\"fillmode\":\"overlay\",\"size\":10,\"solidity\":0.2}},\"type\":\"bar\"}],\"scattergeo\":[{\"type\":\"scattergeo\",\"marker\":{\"colorbar\":{\"outlinewidth\":0,\"ticks\":\"\"}}}],\"scatterpolar\":[{\"type\":\"scatterpolar\",\"marker\":{\"colorbar\":{\"outlinewidth\":0,\"ticks\":\"\"}}}],\"histogram\":[{\"marker\":{\"pattern\":{\"fillmode\":\"overlay\",\"size\":10,\"solidity\":0.2}},\"type\":\"histogram\"}],\"scattergl\":[{\"type\":\"scattergl\",\"marker\":{\"colorbar\":{\"outlinewidth\":0,\"ticks\":\"\"}}}],\"scatter3d\":[{\"type\":\"scatter3d\",\"line\":{\"colorbar\":{\"outlinewidth\":0,\"ticks\":\"\"}},\"marker\":{\"colorbar\":{\"outlinewidth\":0,\"ticks\":\"\"}}}],\"scattermapbox\":[{\"type\":\"scattermapbox\",\"marker\":{\"colorbar\":{\"outlinewidth\":0,\"ticks\":\"\"}}}],\"scatterternary\":[{\"type\":\"scatterternary\",\"marker\":{\"colorbar\":{\"outlinewidth\":0,\"ticks\":\"\"}}}],\"scattercarpet\":[{\"type\":\"scattercarpet\",\"marker\":{\"colorbar\":{\"outlinewidth\":0,\"ticks\":\"\"}}}],\"carpet\":[{\"aaxis\":{\"endlinecolor\":\"#2a3f5f\",\"gridcolor\":\"white\",\"linecolor\":\"white\",\"minorgridcolor\":\"white\",\"startlinecolor\":\"#2a3f5f\"},\"baxis\":{\"endlinecolor\":\"#2a3f5f\",\"gridcolor\":\"white\",\"linecolor\":\"white\",\"minorgridcolor\":\"white\",\"startlinecolor\":\"#2a3f5f\"},\"type\":\"carpet\"}],\"table\":[{\"cells\":{\"fill\":{\"color\":\"#EBF0F8\"},\"line\":{\"color\":\"white\"}},\"header\":{\"fill\":{\"color\":\"#C8D4E3\"},\"line\":{\"color\":\"white\"}},\"type\":\"table\"}],\"barpolar\":[{\"marker\":{\"line\":{\"color\":\"#E5ECF6\",\"width\":0.5},\"pattern\":{\"fillmode\":\"overlay\",\"size\":10,\"solidity\":0.2}},\"type\":\"barpolar\"}],\"pie\":[{\"automargin\":true,\"type\":\"pie\"}]},\"layout\":{\"autotypenumbers\":\"strict\",\"colorway\":[\"#636efa\",\"#EF553B\",\"#00cc96\",\"#ab63fa\",\"#FFA15A\",\"#19d3f3\",\"#FF6692\",\"#B6E880\",\"#FF97FF\",\"#FECB52\"],\"font\":{\"color\":\"#2a3f5f\"},\"hovermode\":\"closest\",\"hoverlabel\":{\"align\":\"left\"},\"paper_bgcolor\":\"white\",\"plot_bgcolor\":\"#E5ECF6\",\"polar\":{\"bgcolor\":\"#E5ECF6\",\"angularaxis\":{\"gridcolor\":\"white\",\"linecolor\":\"white\",\"ticks\":\"\"},\"radialaxis\":{\"gridcolor\":\"white\",\"linecolor\":\"white\",\"ticks\":\"\"}},\"ternary\":{\"bgcolor\":\"#E5ECF6\",\"aaxis\":{\"gridcolor\":\"white\",\"linecolor\":\"white\",\"ticks\":\"\"},\"baxis\":{\"gridcolor\":\"white\",\"linecolor\":\"white\",\"ticks\":\"\"},\"caxis\":{\"gridcolor\":\"white\",\"linecolor\":\"white\",\"ticks\":\"\"}},\"coloraxis\":{\"colorbar\":{\"outlinewidth\":0,\"ticks\":\"\"}},\"colorscale\":{\"sequential\":[[0.0,\"#0d0887\"],[0.1111111111111111,\"#46039f\"],[0.2222222222222222,\"#7201a8\"],[0.3333333333333333,\"#9c179e\"],[0.4444444444444444,\"#bd3786\"],[0.5555555555555556,\"#d8576b\"],[0.6666666666666666,\"#ed7953\"],[0.7777777777777778,\"#fb9f3a\"],[0.8888888888888888,\"#fdca26\"],[1.0,\"#f0f921\"]],\"sequentialminus\":[[0.0,\"#0d0887\"],[0.1111111111111111,\"#46039f\"],[0.2222222222222222,\"#7201a8\"],[0.3333333333333333,\"#9c179e\"],[0.4444444444444444,\"#bd3786\"],[0.5555555555555556,\"#d8576b\"],[0.6666666666666666,\"#ed7953\"],[0.7777777777777778,\"#fb9f3a\"],[0.8888888888888888,\"#fdca26\"],[1.0,\"#f0f921\"]],\"diverging\":[[0,\"#8e0152\"],[0.1,\"#c51b7d\"],[0.2,\"#de77ae\"],[0.3,\"#f1b6da\"],[0.4,\"#fde0ef\"],[0.5,\"#f7f7f7\"],[0.6,\"#e6f5d0\"],[0.7,\"#b8e186\"],[0.8,\"#7fbc41\"],[0.9,\"#4d9221\"],[1,\"#276419\"]]},\"xaxis\":{\"gridcolor\":\"white\",\"linecolor\":\"white\",\"ticks\":\"\",\"title\":{\"standoff\":15},\"zerolinecolor\":\"white\",\"automargin\":true,\"zerolinewidth\":2},\"yaxis\":{\"gridcolor\":\"white\",\"linecolor\":\"white\",\"ticks\":\"\",\"title\":{\"standoff\":15},\"zerolinecolor\":\"white\",\"automargin\":true,\"zerolinewidth\":2},\"scene\":{\"xaxis\":{\"backgroundcolor\":\"#E5ECF6\",\"gridcolor\":\"white\",\"linecolor\":\"white\",\"showbackground\":true,\"ticks\":\"\",\"zerolinecolor\":\"white\",\"gridwidth\":2},\"yaxis\":{\"backgroundcolor\":\"#E5ECF6\",\"gridcolor\":\"white\",\"linecolor\":\"white\",\"showbackground\":true,\"ticks\":\"\",\"zerolinecolor\":\"white\",\"gridwidth\":2},\"zaxis\":{\"backgroundcolor\":\"#E5ECF6\",\"gridcolor\":\"white\",\"linecolor\":\"white\",\"showbackground\":true,\"ticks\":\"\",\"zerolinecolor\":\"white\",\"gridwidth\":2}},\"shapedefaults\":{\"line\":{\"color\":\"#2a3f5f\"}},\"annotationdefaults\":{\"arrowcolor\":\"#2a3f5f\",\"arrowhead\":0,\"arrowwidth\":1},\"geo\":{\"bgcolor\":\"white\",\"landcolor\":\"#E5ECF6\",\"subunitcolor\":\"white\",\"showland\":true,\"showlakes\":true,\"lakecolor\":\"white\"},\"title\":{\"x\":0.05},\"mapbox\":{\"style\":\"light\"}}}},                        {\"responsive\": true}                    ).then(function(){\n",
              "                            \n",
              "var gd = document.getElementById('c4df06b3-f451-4cc1-9cb8-68cce2fa720b');\n",
              "var x = new MutationObserver(function (mutations, observer) {{\n",
              "        var display = window.getComputedStyle(gd).display;\n",
              "        if (!display || display === 'none') {{\n",
              "            console.log([gd, 'removed!']);\n",
              "            Plotly.purge(gd);\n",
              "            observer.disconnect();\n",
              "        }}\n",
              "}});\n",
              "\n",
              "// Listen for the removal of the full notebook cells\n",
              "var notebookContainer = gd.closest('#notebook-container');\n",
              "if (notebookContainer) {{\n",
              "    x.observe(notebookContainer, {childList: true});\n",
              "}}\n",
              "\n",
              "// Listen for the clearing of the current output cell\n",
              "var outputEl = gd.closest('.output');\n",
              "if (outputEl) {{\n",
              "    x.observe(outputEl, {childList: true});\n",
              "}}\n",
              "\n",
              "                        })                };                            </script>        </div>\n",
              "</body>\n",
              "</html>"
            ]
          },
          "metadata": {}
        }
      ]
    },
    {
      "cell_type": "markdown",
      "source": [
        "---\n",
        "# Testing the Model"
      ],
      "metadata": {
        "id": "RbFEgmAcPSzU"
      }
    },
    {
      "cell_type": "code",
      "source": [
        "X_test_processed = preprocess_text_data(X_test, tokenizer, max_length=max_length, max_vocab_size=max_vocab_size)\n",
        "model.evaluate(X_test_processed, Y_test)"
      ],
      "metadata": {
        "colab": {
          "base_uri": "https://localhost:8080/"
        },
        "id": "KQ4jl_40PWF_",
        "outputId": "b4a1c19f-03f1-4f21-d9be-2f5cd7e9b19e"
      },
      "execution_count": null,
      "outputs": [
        {
          "output_type": "stream",
          "name": "stdout",
          "text": [
            "\u001b[1m330/330\u001b[0m \u001b[32m━━━━━━━━━━━━━━━━━━━━\u001b[0m\u001b[37m\u001b[0m \u001b[1m1s\u001b[0m 3ms/step - accuracy: 0.8381 - loss: 0.3768\n"
          ]
        },
        {
          "output_type": "execute_result",
          "data": {
            "text/plain": [
              "[0.46117186546325684, 0.7827861309051514]"
            ]
          },
          "metadata": {},
          "execution_count": 18
        }
      ]
    },
    {
      "cell_type": "markdown",
      "source": [
        "# Demo"
      ],
      "metadata": {
        "id": "0L8WQNaLOY7M"
      }
    },
    {
      "cell_type": "code",
      "source": [
        "user_input = input(\"Enter a review: \")\n",
        "user_input = clean_text(user_input)\n",
        "\n",
        "user_prediction = model.predict(preprocess_text_data([user_input], tokenizer, max_length=max_length, max_vocab_size=max_vocab_size))\n",
        "print('Review is bad' if user_prediction[0][0] < 0.6 else 'Review is good')"
      ],
      "metadata": {
        "colab": {
          "base_uri": "https://localhost:8080/"
        },
        "id": "NBiQUfDlO-5M",
        "outputId": "f10a2dc5-9a98-49e7-c344-6a0fba3f15bb"
      },
      "execution_count": null,
      "outputs": [
        {
          "output_type": "stream",
          "name": "stdout",
          "text": [
            "Enter a review: This app presents a very enjoyable experience\n",
            "\u001b[1m1/1\u001b[0m \u001b[32m━━━━━━━━━━━━━━━━━━━━\u001b[0m\u001b[37m\u001b[0m \u001b[1m0s\u001b[0m 42ms/step\n",
            "Review is good\n"
          ]
        }
      ]
    }
  ]
}